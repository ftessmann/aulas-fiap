{
  "cells": [
    {
      "cell_type": "markdown",
      "id": "61d68daf",
      "metadata": {
        "id": "61d68daf"
      },
      "source": [
        "# Tópico 15 - Processamento de Linguagem Natural"
      ]
    },
    {
      "cell_type": "markdown",
      "id": "9636215f",
      "metadata": {
        "id": "9636215f"
      },
      "source": [
        "## Exemplo 1 - Limpando Texto com Regex\n",
        "\n",
        "Você pode obter mais informações de como usar regex aqui: https://en.wikipedia.org/wiki/Regular_expression\n",
        "\n",
        "E aqui: https://www.regular-expressions.info/"
      ]
    },
    {
      "cell_type": "code",
      "execution_count": null,
      "id": "ae123063",
      "metadata": {
        "id": "ae123063"
      },
      "outputs": [],
      "source": [
        "import re  # Biblioteca python de expressoa regular"
      ]
    },
    {
      "cell_type": "code",
      "execution_count": null,
      "id": "1cdf65de",
      "metadata": {
        "id": "1cdf65de"
      },
      "outputs": [],
      "source": [
        "# Removendo Emojis\n",
        "# é importante a gente pensar em como as letras estão codificadas\n",
        "def clear_sentence(sentence):\n",
        "    emoji_pattern = re.compile(\"[\"\n",
        "        u\"\\U0001F600-\\U0001F64F\"  # emoticons\n",
        "        u\"\\U0001F300-\\U0001F5FF\"  # symbols & pictographs\n",
        "        u\"\\U0001F680-\\U0001F6FF\"  # transport & map symbols\n",
        "        u\"\\U0001F1E0-\\U0001F1FF\"  # flags (iOS)\n",
        "        u\"\\U0001F600-\\U0001FFFF\"  # other symbols\n",
        "                               \"]+\", flags=re.UNICODE)\n",
        "\n",
        "    without_emojis = emoji_pattern.sub(r'', sentence) # Remove emoji\n",
        "\n",
        "    lista_para_manter = ['$','\\n']\n",
        "    words = without_emojis.split(' ')\n",
        "    res = [ele for ele in words if all(ch not in ele for ch in lista_para_manter)]\n",
        "    clean = ' '.join(res)\n",
        "\n",
        "    return clean"
      ]
    },
    {
      "cell_type": "code",
      "execution_count": null,
      "id": "QANMM76u_umg",
      "metadata": {
        "id": "QANMM76u_umg"
      },
      "outputs": [],
      "source": [
        "emoji_pattern = re.compile(\"[\"\n",
        "        u\"\\U0001F600-\\U0001F64F\"  # emoticons\n",
        "        u\"\\U0001F300-\\U0001F5FF\"  # symbols & pictographs\n",
        "        u\"\\U0001F680-\\U0001F6FF\"  # transport & map symbols\n",
        "        u\"\\U0001F1E0-\\U0001F1FF\"  # flags (iOS)\n",
        "        u\"\\U0001F600-\\U0001FFFF\"  # other symbols\n",
        "                               \"]+\", flags=re.UNICODE)\n",
        "emoji_pattern"
      ]
    },
    {
      "cell_type": "code",
      "execution_count": null,
      "id": "JeWgmbCb37FL",
      "metadata": {
        "id": "JeWgmbCb37FL"
      },
      "outputs": [],
      "source": [
        "string_com_emojis = \"isso é muito engraçado 😂😂😂 dólar $ e quebra de linha \\n\""
      ]
    },
    {
      "cell_type": "code",
      "execution_count": null,
      "id": "tGXzZiGcASFw",
      "metadata": {
        "id": "tGXzZiGcASFw"
      },
      "outputs": [],
      "source": [
        "without_emojis = emoji_pattern.sub(r'', string_com_emojis) # Remove emoji"
      ]
    },
    {
      "cell_type": "code",
      "execution_count": null,
      "id": "Ke67xevWAXmh",
      "metadata": {
        "id": "Ke67xevWAXmh"
      },
      "outputs": [],
      "source": [
        "without_emojis"
      ]
    },
    {
      "cell_type": "code",
      "execution_count": null,
      "id": "-WgZ-GiLBEl8",
      "metadata": {
        "id": "-WgZ-GiLBEl8"
      },
      "outputs": [],
      "source": [
        "words = without_emojis.split(' ')\n",
        "words"
      ]
    },
    {
      "cell_type": "code",
      "execution_count": null,
      "id": "NiU3hL_CBEjF",
      "metadata": {
        "id": "NiU3hL_CBEjF"
      },
      "outputs": [],
      "source": [
        "lista_para_manter = ['$','\\n']\n",
        "lista_para_manter"
      ]
    },
    {
      "cell_type": "code",
      "execution_count": null,
      "id": "Q1oDTOuVCGLe",
      "metadata": {
        "id": "Q1oDTOuVCGLe"
      },
      "outputs": [],
      "source": [
        "all([True, 1, 1])"
      ]
    },
    {
      "cell_type": "code",
      "execution_count": null,
      "id": "XsJGU0msBc_1",
      "metadata": {
        "id": "XsJGU0msBc_1"
      },
      "outputs": [],
      "source": [
        "res: list = list()\n",
        "for ele in words:\n",
        "  if ele not in lista_para_manter:\n",
        "    res.append(ele)\n",
        "res"
      ]
    },
    {
      "cell_type": "code",
      "execution_count": null,
      "id": "G9h6IitKAR-4",
      "metadata": {
        "id": "G9h6IitKAR-4"
      },
      "outputs": [],
      "source": [
        "res: list = list()\n",
        "for x in words:\n",
        "  if all(ch not in x for ch in lista_para_manter):\n",
        "    res.append(x)\n",
        "res"
      ]
    },
    {
      "cell_type": "code",
      "execution_count": null,
      "id": "UdKbKrQRCt93",
      "metadata": {
        "id": "UdKbKrQRCt93"
      },
      "outputs": [],
      "source": [
        "clean = ' '.join(res)\n",
        "clean"
      ]
    },
    {
      "cell_type": "code",
      "execution_count": null,
      "id": "xREE8ORDCwu-",
      "metadata": {
        "id": "xREE8ORDCwu-"
      },
      "outputs": [],
      "source": []
    },
    {
      "cell_type": "markdown",
      "id": "OaTHkmUh3gZU",
      "metadata": {
        "id": "OaTHkmUh3gZU"
      },
      "source": []
    },
    {
      "cell_type": "code",
      "execution_count": null,
      "id": "6582636c",
      "metadata": {
        "id": "6582636c"
      },
      "outputs": [],
      "source": [
        "string_com_emojis = \"isso é muito engraçado 😂😂😂\""
      ]
    },
    {
      "cell_type": "code",
      "execution_count": null,
      "id": "38df27a8",
      "metadata": {
        "id": "38df27a8"
      },
      "outputs": [],
      "source": [
        "clear_sentence(string_com_emojis)"
      ]
    },
    {
      "cell_type": "code",
      "execution_count": null,
      "id": "eea460de",
      "metadata": {
        "id": "eea460de"
      },
      "outputs": [],
      "source": [
        "string_com_emojis = \"Oi 😘. Saudades de você 🙈\""
      ]
    },
    {
      "cell_type": "code",
      "execution_count": null,
      "id": "377cd544",
      "metadata": {
        "id": "377cd544"
      },
      "outputs": [],
      "source": [
        "clear_sentence(string_com_emojis)"
      ]
    },
    {
      "cell_type": "code",
      "execution_count": null,
      "id": "a4b8a0e7",
      "metadata": {
        "id": "a4b8a0e7"
      },
      "outputs": [],
      "source": [
        "string_com_emojis = \"Botzao cabuloso 💀💀💀\""
      ]
    },
    {
      "cell_type": "code",
      "execution_count": null,
      "id": "1dcb1216",
      "metadata": {
        "id": "1dcb1216"
      },
      "outputs": [],
      "source": [
        "clear_sentence(string_com_emojis)"
      ]
    },
    {
      "cell_type": "code",
      "execution_count": null,
      "id": "c97f5b8f",
      "metadata": {
        "id": "c97f5b8f"
      },
      "outputs": [],
      "source": [
        "# Encontrar se a string tem um padrão de url\n",
        "def find_url(string):\n",
        "    url_regex = r\"\"\"(?i)\\b((?:https?:(?:/{1,3}|[a-z0-9%])|[a-z0-9.\\-]+[.](?:com|net|org|edu|gov|mil|aero|asia|biz|cat|coop|info|int|jobs|mobi|museum|name|post|pro|tel|travel|xxx|ac|ad|ae|af|ag|ai|al|am|an|ao|aq|ar|as|at|au|aw|ax|az|ba|bb|bd|be|bf|bg|bh|bi|bj|bm|bn|bo|br|bs|bt|bv|bw|by|bz|ca|cc|cd|cf|cg|ch|ci|ck|cl|cm|cn|co|cr|cs|cu|cv|cx|cy|cz|dd|de|dj|dk|dm|do|dz|ec|ee|eg|eh|er|es|et|eu|fi|fj|fk|fm|fo|fr|ga|gb|gd|ge|gf|gg|gh|gi|gl|gm|gn|gp|gq|gr|gs|gt|gu|gw|gy|hk|hm|hn|hr|ht|hu|id|ie|il|im|in|io|iq|ir|is|it|je|jm|jo|jp|ke|kg|kh|ki|km|kn|kp|kr|kw|ky|kz|la|lb|lc|li|lk|lr|ls|lt|lu|lv|ly|ma|mc|md|me|mg|mh|mk|ml|mm|mn|mo|mp|mq|mr|ms|mt|mu|mv|mw|mx|my|mz|na|nc|ne|nf|ng|ni|nl|no|np|nr|nu|nz|om|pa|pe|pf|pg|ph|pk|pl|pm|pn|pr|ps|pt|pw|py|qa|re|ro|rs|ru|rw|sa|sb|sc|sd|se|sg|sh|si|sj|Ja|sk|sl|sm|sn|so|sr|ss|st|su|sv|sx|sy|sz|tc|td|tf|tg|th|tj|tk|tl|tm|tn|to|tp|tr|tt|tv|tw|tz|ua|ug|uk|us|uy|uz|va|vc|ve|vg|vi|vn|vu|wf|ws|ye|yt|yu|za|zm|zw)/)(?:[^\\s()<>{}\\[\\]]+|\\([^\\s()]*?\\([^\\s()]+\\)[^\\s()]*?\\)|\\([^\\s]+?\\))+(?:\\([^\\s()]*?\\([^\\s()]+\\)[^\\s()]*?\\)|\\([^\\s]+?\\)|[^\\s`!()\\[\\]{};:'\".,<>?«»“”‘’])|(?:(?<!@)[a-z0-9]+(?:[.\\-][a-z0-9]+)*[.](?:com|net|org|edu|gov|mil|aero|asia|biz|cat|coop|info|int|jobs|mobi|museum|name|post|pro|tel|travel|xxx|ac|ad|ae|af|ag|ai|al|am|an|ao|aq|ar|as|at|au|aw|ax|az|ba|bb|bd|be|bf|bg|bh|bi|bj|bm|bn|bo|br|bs|bt|bv|bw|by|bz|ca|cc|cd|cf|cg|ch|ci|ck|cl|cm|cn|co|cr|cs|cu|cv|cx|cy|cz|dd|de|dj|dk|dm|do|dz|ec|ee|eg|eh|er|es|et|eu|fi|fj|fk|fm|fo|fr|ga|gb|gd|ge|gf|gg|gh|gi|gl|gm|gn|gp|gq|gr|gs|gt|gu|gw|gy|hk|hm|hn|hr|ht|hu|id|ie|il|im|in|io|iq|ir|is|it|je|jm|jo|jp|ke|kg|kh|ki|km|kn|kp|kr|kw|ky|kz|la|lb|lc|li|lk|lr|ls|lt|lu|lv|ly|ma|mc|md|me|mg|mh|mk|ml|mm|mn|mo|mp|mq|mr|ms|mt|mu|mv|mw|mx|my|mz|na|nc|ne|nf|ng|ni|nl|no|np|nr|nu|nz|om|pa|pe|pf|pg|ph|pk|pl|pm|pn|pr|ps|pt|pw|py|qa|re|ro|rs|ru|rw|sa|sb|sc|sd|se|sg|sh|si|sj|Ja|sk|sl|sm|sn|so|sr|ss|st|su|sv|sx|sy|sz|tc|td|tf|tg|th|tj|tk|tl|tm|tn|to|tp|tr|tt|tv|tw|tz|ua|ug|uk|us|uy|uz|va|vc|ve|vg|vi|vn|vu|wf|ws|ye|yt|yu|za|zm|zw)\\b/?(?!@)))\"\"\"\n",
        "    url = re.findall(url_regex, string) # Encontre todas as urls na string passada\n",
        "    return (url)"
      ]
    },
    {
      "cell_type": "code",
      "execution_count": null,
      "id": "c5fbb7c0",
      "metadata": {
        "id": "c5fbb7c0"
      },
      "outputs": [],
      "source": [
        "string_url = \"entre nesse link aqui https://g1.globo.com/\"\n",
        "string_url"
      ]
    },
    {
      "cell_type": "code",
      "execution_count": null,
      "id": "32af13a5",
      "metadata": {
        "id": "32af13a5"
      },
      "outputs": [],
      "source": [
        "find_url(string_url)"
      ]
    },
    {
      "cell_type": "code",
      "execution_count": null,
      "id": "12e9fe28",
      "metadata": {
        "id": "12e9fe28"
      },
      "outputs": [],
      "source": [
        "# Quebra string em camelcase\n",
        "def camel_case_split(string):\n",
        "    matches = re.finditer('.+?(?:(?<=[a-z])(?=[A-Z])|(?<=[A-Z])(?=[A-Z][a-z])|$)', string)\n",
        "    return [m.group(0) for m in matches]"
      ]
    },
    {
      "cell_type": "code",
      "execution_count": null,
      "id": "246f0610",
      "metadata": {
        "id": "246f0610"
      },
      "outputs": [],
      "source": [
        "string_camel_case = 'TesteDoDia5'\n",
        "camel_case_split(string_camel_case)"
      ]
    },
    {
      "cell_type": "code",
      "execution_count": null,
      "id": "by1YETnfEsk7",
      "metadata": {
        "id": "by1YETnfEsk7"
      },
      "outputs": [],
      "source": [
        "string_camel_case = 'teste_do_dia_5'"
      ]
    },
    {
      "cell_type": "code",
      "execution_count": null,
      "id": "mhh4JCkXEiai",
      "metadata": {
        "id": "mhh4JCkXEiai"
      },
      "outputs": [],
      "source": [
        "string_camel_case.replace('_', ' Espaço ')"
      ]
    },
    {
      "cell_type": "markdown",
      "id": "f1559f6c",
      "metadata": {
        "id": "f1559f6c"
      },
      "source": [
        "Agora, dada uma frase com letras e números, queremos extrair somente os números. Podemos fazer isso em regex da seguinte forma:"
      ]
    },
    {
      "cell_type": "code",
      "execution_count": null,
      "id": "b4062e3c",
      "metadata": {
        "id": "b4062e3c"
      },
      "outputs": [],
      "source": [
        "frase = 'Hoje eu gastei R$100,00 com a gasolina, e acho que não deu nem 1 litro'\n",
        "n = re.sub('\\d', '', frase)"
      ]
    },
    {
      "cell_type": "code",
      "execution_count": null,
      "id": "073903a7",
      "metadata": {
        "id": "073903a7"
      },
      "outputs": [],
      "source": [
        "n  # Perceba que nesse caso, ele juntos todos os digitos númericos da frase"
      ]
    },
    {
      "cell_type": "code",
      "execution_count": null,
      "id": "7LIazQc7Y6qc",
      "metadata": {
        "id": "7LIazQc7Y6qc"
      },
      "outputs": [],
      "source": [
        "numbers = re.findall('[0-9]+,[0-9]+...................', frase)"
      ]
    },
    {
      "cell_type": "code",
      "execution_count": null,
      "id": "a8ab80d1",
      "metadata": {
        "id": "a8ab80d1"
      },
      "outputs": [],
      "source": [
        "numbers  # Aqui temos algo separado em uma lista"
      ]
    },
    {
      "cell_type": "markdown",
      "id": "f2dda4cf",
      "metadata": {
        "id": "f2dda4cf"
      },
      "source": [
        "Vamos ver como selecionar um número de CEP:"
      ]
    },
    {
      "cell_type": "code",
      "execution_count": null,
      "id": "97168e98",
      "metadata": {
        "id": "97168e98"
      },
      "outputs": [],
      "source": [
        "frase1 = 'Meu CEP é 04042-003'"
      ]
    },
    {
      "cell_type": "code",
      "execution_count": null,
      "id": "26b6e1a1",
      "metadata": {
        "id": "26b6e1a1"
      },
      "outputs": [],
      "source": [
        "frase2 = 'Meu CEP é 04042003'"
      ]
    },
    {
      "cell_type": "code",
      "execution_count": null,
      "id": "c4cdc7b3",
      "metadata": {
        "id": "c4cdc7b3"
      },
      "outputs": [],
      "source": [
        "# Teste com as diferentes frases\n",
        "# Perceba que o pipe | junta dutas regras de captura\n",
        "cep = re.findall('\\d{5}-\\d{3}|\\d{5}\\d{3}', frase1)"
      ]
    },
    {
      "cell_type": "code",
      "execution_count": null,
      "id": "93ae2f50",
      "metadata": {
        "id": "93ae2f50"
      },
      "outputs": [],
      "source": [
        "cep"
      ]
    },
    {
      "cell_type": "markdown",
      "id": "fceb3aaa",
      "metadata": {
        "id": "fceb3aaa"
      },
      "source": [
        "E para encontrar um email:"
      ]
    },
    {
      "cell_type": "code",
      "execution_count": null,
      "id": "9d734670",
      "metadata": {
        "id": "9d734670"
      },
      "outputs": [],
      "source": [
        "frase= 'Meu email é professor@fiap.teste.com'"
      ]
    },
    {
      "cell_type": "code",
      "execution_count": null,
      "id": "36824d0d",
      "metadata": {
        "id": "36824d0d"
      },
      "outputs": [],
      "source": [
        "regra = '([a-zA-Z0-9+._-]+@[a-zA-Z0-9._-]+\\.[a-zA-Z0-9_-]+)'"
      ]
    },
    {
      "cell_type": "code",
      "execution_count": null,
      "id": "3dae816f",
      "metadata": {
        "id": "3dae816f"
      },
      "outputs": [],
      "source": [
        "email = re.findall(regra, frase)"
      ]
    },
    {
      "cell_type": "code",
      "execution_count": null,
      "id": "0e87ec6c",
      "metadata": {
        "id": "0e87ec6c"
      },
      "outputs": [],
      "source": [
        "email"
      ]
    },
    {
      "cell_type": "markdown",
      "id": "0907a504",
      "metadata": {
        "id": "0907a504"
      },
      "source": [
        "### Exercício 1.1: você consegue limpar os emojis na frase abaixo usando Regex?"
      ]
    },
    {
      "cell_type": "code",
      "execution_count": null,
      "id": "4aaa58f6",
      "metadata": {
        "id": "4aaa58f6"
      },
      "outputs": [],
      "source": [
        "string_com_emojis = 'Oi, vamos sair hoje? Tava pensando em ( ◑‿◑)ɔ┏🍟--🍔┑٩(^◡^ )'"
      ]
    },
    {
      "cell_type": "code",
      "execution_count": null,
      "id": "33748cc5",
      "metadata": {
        "id": "33748cc5"
      },
      "outputs": [],
      "source": [
        "string_com_emojis"
      ]
    },
    {
      "cell_type": "code",
      "execution_count": null,
      "id": "030762b4",
      "metadata": {
        "id": "030762b4"
      },
      "outputs": [],
      "source": [
        "## Coloque seu código aqui"
      ]
    },
    {
      "cell_type": "markdown",
      "id": "f7563109",
      "metadata": {
        "id": "f7563109"
      },
      "source": [
        "### Exercício 1.2: você recebe uma entrada de texto sobre cadastro. Tente extrair informações úteis usando Regex."
      ]
    },
    {
      "cell_type": "code",
      "execution_count": null,
      "id": "7188ae7a",
      "metadata": {
        "id": "7188ae7a"
      },
      "outputs": [],
      "source": [
        "frase = 'qro me cadastrar no sistema 🤙 eu sou o TesteSilvaJunior meu email eh testinho@teste.com e meu telefone eh 9987654321\\n acho q meu cep eh 40410019 com isso vai funcionar??👍👍👍'"
      ]
    },
    {
      "cell_type": "code",
      "execution_count": null,
      "id": "b4ecacb1",
      "metadata": {
        "id": "b4ecacb1"
      },
      "outputs": [],
      "source": [
        "print(frase)"
      ]
    },
    {
      "cell_type": "code",
      "execution_count": null,
      "id": "820b76ff",
      "metadata": {
        "id": "820b76ff"
      },
      "outputs": [],
      "source": [
        "## Coloque seu código aqui"
      ]
    },
    {
      "cell_type": "markdown",
      "id": "753398f8",
      "metadata": {
        "id": "753398f8"
      },
      "source": [
        "--------------------------"
      ]
    },
    {
      "cell_type": "markdown",
      "id": "b66057b9",
      "metadata": {
        "id": "b66057b9"
      },
      "source": [
        "## Exemplo 2 - NLU com Spacy e BERT\n",
        "\n",
        "Vamos acessar as documentações das bibliotecas:\n",
        "\n",
        "[Spacy](https://spacy.io/usage/spacy-101)\n",
        "\n",
        "https://spacy.io/usage/spacy-101\n",
        "\n",
        "[Bert](https://huggingface.co/docs/transformers/en/model_doc/bert)\n",
        "\n",
        "https://huggingface.co/docs/transformers/en/model_doc/bert\n",
        "\n",
        "\n",
        "Modelo utilizado:\n",
        "\n",
        "[bert-base-multilingual-uncased-sentiment](https://huggingface.co/nlptown/bert-base-multilingual-uncased-sentiment)\n",
        "\n",
        "https://huggingface.co/nlptown/bert-base-multilingual-uncased-sentiment\n",
        "\n"
      ]
    },
    {
      "cell_type": "code",
      "execution_count": null,
      "id": "QKP_RFTMw434",
      "metadata": {
        "id": "QKP_RFTMw434"
      },
      "outputs": [],
      "source": [
        "!pip install spacy"
      ]
    },
    {
      "cell_type": "code",
      "execution_count": null,
      "id": "G8sIkKbJx6XN",
      "metadata": {
        "id": "G8sIkKbJx6XN"
      },
      "outputs": [],
      "source": [
        "!python -m spacy download pt_core_news_lg"
      ]
    },
    {
      "cell_type": "code",
      "execution_count": null,
      "id": "ZYqh33h7xnKX",
      "metadata": {
        "id": "ZYqh33h7xnKX"
      },
      "outputs": [],
      "source": [
        "import spacy\n",
        "\n",
        "# Carregar o modelo de linguagem em português\n",
        "nlp = spacy.load(\"pt_core_news_lg\")\n",
        "\n",
        "# Texto de exemplo para análise\n",
        "texto = \"Eu, Vinicius, adoro este produto da Rede CarreFurto! É absolutamente incrível e superou minhas expectativas. No entanto, a entrega foi muito lenta, veio pela Distribuidora LERDEX.\"\n",
        "\n",
        "# Processar o texto\n",
        "doc = nlp(texto)\n",
        "doc"
      ]
    },
    {
      "cell_type": "code",
      "execution_count": null,
      "id": "SjfN684oA0n_",
      "metadata": {
        "id": "SjfN684oA0n_"
      },
      "outputs": [],
      "source": [
        "for sent in doc.sents:\n",
        "  print(sent)"
      ]
    },
    {
      "cell_type": "code",
      "execution_count": null,
      "id": "w1AGWx1EIQz6",
      "metadata": {
        "id": "w1AGWx1EIQz6"
      },
      "outputs": [],
      "source": [
        "def gerador(x):\n",
        "  for i in range(x):\n",
        "    yield i\n",
        "\n",
        "\n",
        "def gerador_dois(x):\n",
        "  res: list = list()\n",
        "  for i in range(x):\n",
        "    res.append(i)\n",
        "  yield res\n",
        "\n",
        "print(gerador_dois(10))\n",
        "\n",
        "for i in gerador_dois(10):\n",
        "  print(i)"
      ]
    },
    {
      "cell_type": "code",
      "execution_count": null,
      "id": "_XhN7nw6Jdno",
      "metadata": {
        "id": "_XhN7nw6Jdno"
      },
      "outputs": [],
      "source": [
        "(x for x in range(10))"
      ]
    },
    {
      "cell_type": "code",
      "execution_count": null,
      "id": "StU0uym2IQRL",
      "metadata": {
        "id": "StU0uym2IQRL"
      },
      "outputs": [],
      "source": []
    },
    {
      "cell_type": "code",
      "execution_count": null,
      "id": "JT3pUxZM-4HR",
      "metadata": {
        "id": "JT3pUxZM-4HR"
      },
      "outputs": [],
      "source": [
        "# Entidades nomeadas\n",
        "for ent in doc.ents:\n",
        "    print(f\"Entidade: {ent.text}, Label: {ent.label_}\")"
      ]
    },
    {
      "cell_type": "code",
      "execution_count": null,
      "id": "yL9PEvOP17o_",
      "metadata": {
        "id": "yL9PEvOP17o_"
      },
      "outputs": [],
      "source": [
        "# Tokens e partes do discurso\n",
        "for token in doc:\n",
        "    print(f\"Token: {token.text}, POS: {token.pos_}, Dependência: {token.dep_}\")"
      ]
    },
    {
      "cell_type": "code",
      "execution_count": null,
      "id": "HXoE0jF_Koux",
      "metadata": {
        "id": "HXoE0jF_Koux"
      },
      "outputs": [],
      "source": []
    },
    {
      "cell_type": "code",
      "execution_count": null,
      "id": "RIVOhsfI2Ky6",
      "metadata": {
        "id": "RIVOhsfI2Ky6"
      },
      "outputs": [],
      "source": [
        "!pip install transformers torch"
      ]
    },
    {
      "cell_type": "code",
      "execution_count": null,
      "id": "miWjLj718C1-",
      "metadata": {
        "id": "miWjLj718C1-"
      },
      "outputs": [],
      "source": [
        "from transformers import AutoTokenizer, AutoModelForSequenceClassification\n",
        "from transformers import pipeline\n",
        "\n",
        "# Carregar o modelo e tokenizer para análise de sentimentos multilingue\n",
        "model_name = \"nlptown/bert-base-multilingual-uncased-sentiment\"\n",
        "tokenizer = AutoTokenizer.from_pretrained(model_name)\n",
        "model = AutoModelForSequenceClassification.from_pretrained(model_name)\n",
        "\n",
        "# Criar o pipeline de análise de sentimentos\n",
        "nlp = pipeline(\"sentiment-analysis\", model=model, tokenizer=tokenizer)\n",
        "\n",
        "# Testar com textos de exemplo\n",
        "texto1 = \"Muito bom. Gostei!\"\n",
        "texto2 = \"Horrível! Não gostei.\"\n",
        "texto3 = \"Eu adoro este produto da Rede CarreFurto! É absolutamente incrível e superou minhas expectativas. No entanto, a entrega foi muito lenta, muito ruim. Não foi legal!!\"\n",
        "\n",
        "resultado1 = nlp(texto1)\n",
        "resultado2 = nlp(texto2)\n",
        "resultado3 = nlp(texto3)\n",
        "\n",
        "print(resultado1)\n",
        "print(resultado2)\n",
        "print(resultado3)"
      ]
    },
    {
      "cell_type": "markdown",
      "id": "_rPuSoWI8skt",
      "metadata": {
        "id": "_rPuSoWI8skt"
      },
      "source": [
        "Este modelo retorna uma classificação em uma escala de 1 a 5:\n",
        "\n",
        "    1 estrela: Sentimento muito negativo.\n",
        "    2 estrelas: Sentimento negativo.\n",
        "    3 estrelas: Sentimento neutro.\n",
        "    4 estrelas: Sentimento positivo.\n",
        "    5 estrelas: Sentimento muito positivo."
      ]
    },
    {
      "cell_type": "markdown",
      "id": "6e8ebe7d",
      "metadata": {
        "id": "6e8ebe7d"
      },
      "source": [
        "--------------------------"
      ]
    },
    {
      "cell_type": "markdown",
      "id": "19422e38",
      "metadata": {
        "id": "19422e38"
      },
      "source": [
        "## Exemplo 3 - Corpus, Tokenização e Limpeza com NLTK\n",
        "\n",
        "Vamos baixar dois livros em português que estão em domínio público do projeto https://www.gutenberg.org/ e testar algumas etapas de NLP.\n",
        "\n",
        "Você pode baixar Dom Casmurro de Machado de Assis em formato .txt aqui https://www.gutenberg.org/cache/epub/55752/pg55752.txt e o Crime do Padre Amaro de Eça de Queirós aqui https://www.gutenberg.org/cache/epub/31971/pg31971.txt.\n",
        "\n",
        "A documentação do NLTK pode ser vista aqui: https://www.nltk.org/\n",
        "\n",
        "**Obs:** internamente do NLTK já há corpus como Dom Casmurro. Você pode testar:\n",
        "```\n",
        "from nltk.corpus import machado\n",
        "machado.fileids()\n",
        "```\n",
        "\n",
        "Aqui iremos mostramos como carregar um corpus de um .txt genérico, por isso não usamos o corpus nativo da biblioteca."
      ]
    },
    {
      "cell_type": "code",
      "execution_count": null,
      "id": "txrglHlGM4Ms",
      "metadata": {
        "id": "txrglHlGM4Ms"
      },
      "outputs": [],
      "source": [
        "!mkdir livros_corpus"
      ]
    },
    {
      "cell_type": "code",
      "execution_count": null,
      "id": "HDuAWpsCOSF7",
      "metadata": {
        "id": "HDuAWpsCOSF7"
      },
      "outputs": [],
      "source": [
        "!wget --help"
      ]
    },
    {
      "cell_type": "code",
      "execution_count": null,
      "id": "R508cqEWL9NV",
      "metadata": {
        "id": "R508cqEWL9NV"
      },
      "outputs": [],
      "source": [
        "!wget -cO - https://www.gutenberg.org/cache/epub/55752/pg55752.txt > livros_corpus/dom_casmurro.txt"
      ]
    },
    {
      "cell_type": "code",
      "execution_count": null,
      "id": "RBBLeo_VL9Ed",
      "metadata": {
        "id": "RBBLeo_VL9Ed"
      },
      "outputs": [],
      "source": [
        "!wget -cO - https://www.gutenberg.org/cache/epub/31971/pg31971.txt > livros_corpus/crime_padre_amaro.txt"
      ]
    },
    {
      "cell_type": "code",
      "execution_count": null,
      "id": "520bbe0b",
      "metadata": {
        "id": "520bbe0b"
      },
      "outputs": [],
      "source": [
        "from nltk.corpus import stopwords              # Lista de palavras de ligação mais usdas em cada lingua\n",
        "from nltk.corpus import PlaintextCorpusReader  # Para carregar os corpus de texto\n",
        "from nltk.tokenize import word_tokenize        # Para tokenizar frases em palavras\n",
        "from nltk.probability import FreqDist          # Medir a frequência de palavras\n",
        "\n",
        "# Para visualizar informação em tabelas\n",
        "import pandas as pd\n",
        "\n",
        "# Para fazer gráficos\n",
        "import matplotlib.pyplot as plt\n",
        "import seaborn as sns"
      ]
    },
    {
      "cell_type": "code",
      "execution_count": null,
      "id": "c09497a4",
      "metadata": {
        "id": "c09497a4"
      },
      "outputs": [],
      "source": [
        "# Pasta com os arquivos de texto que serão usados como corpus\n",
        "corpus_root = '/content/livros_corpus'\n",
        "\n",
        "# Ler todos os arquivos de texto na pasta passada\n",
        "filelists = PlaintextCorpusReader(corpus_root, '.*')\n",
        "\n",
        "# Nomes dos arquivos carregados\n",
        "filelists.fileids()"
      ]
    },
    {
      "cell_type": "code",
      "execution_count": null,
      "id": "48a5587f",
      "metadata": {
        "id": "48a5587f"
      },
      "outputs": [],
      "source": [
        "# Vamos carregar os arquivos de texto na forma de listas de palavras (arquivos tokenizados)\n",
        "wordslist1 = filelists.words('crime_padre_amaro.txt')\n",
        "wordslist2 = filelists.words('dom_casmurro.txt')"
      ]
    },
    {
      "cell_type": "code",
      "execution_count": null,
      "id": "vo8W561TfbaF",
      "metadata": {
        "id": "vo8W561TfbaF"
      },
      "outputs": [],
      "source": [
        "wordslist2"
      ]
    },
    {
      "cell_type": "code",
      "execution_count": null,
      "id": "01a4a287",
      "metadata": {
        "id": "01a4a287"
      },
      "outputs": [],
      "source": [
        "# Total de palavras de cada livro\n",
        "len(wordslist1), len(wordslist2)"
      ]
    },
    {
      "cell_type": "code",
      "execution_count": null,
      "id": "150098f6",
      "metadata": {
        "id": "150098f6"
      },
      "outputs": [],
      "source": [
        "# Distribuição dos tokens que aparecem em cada livro\n",
        "fdist1 = FreqDist(wordslist1)\n",
        "fdist2 = FreqDist(wordslist2)"
      ]
    },
    {
      "cell_type": "code",
      "execution_count": null,
      "id": "ac83d00a",
      "metadata": {
        "id": "ac83d00a"
      },
      "outputs": [],
      "source": [
        "fdist1"
      ]
    },
    {
      "cell_type": "code",
      "execution_count": null,
      "id": "4a82b69e",
      "metadata": {
        "id": "4a82b69e"
      },
      "outputs": [],
      "source": [
        "fdist2"
      ]
    },
    {
      "cell_type": "code",
      "execution_count": null,
      "id": "8d9ea9f8",
      "metadata": {
        "id": "8d9ea9f8"
      },
      "outputs": [],
      "source": [
        "# Para pegar as mais comuns, podemos usar o método do NLTK most_common\n",
        "top5_1 = fdist1.most_common(5)\n",
        "top5_2 = fdist2.most_common(5)"
      ]
    },
    {
      "cell_type": "code",
      "execution_count": null,
      "id": "3ef0fe4f",
      "metadata": {
        "id": "3ef0fe4f"
      },
      "outputs": [],
      "source": [
        "top5_1"
      ]
    },
    {
      "cell_type": "code",
      "execution_count": null,
      "id": "889f6f51",
      "metadata": {
        "id": "889f6f51"
      },
      "outputs": [],
      "source": [
        "# Aqui vamos criar um dataframe com o top 5 para facilitar a visualização\n",
        "dados = []\n",
        "temp = []\n",
        "for i in range(0, len(top5_1)):\n",
        "\n",
        "    palavra1 = top5_1[i][0]\n",
        "    palavra2 = top5_2[i][0]\n",
        "\n",
        "    entrada1 = {'corpus':'crime_padre_amaro',\n",
        "               'palavra':palavra1,\n",
        "               'freq':top5_1[i][1],\n",
        "               'freq%':100*top5_1[i][1]/len(wordslist1)\n",
        "                }\n",
        "    freq_12 = fdist2[palavra1]\n",
        "    entrada2 = {'corpus':'dom_casmurro',\n",
        "               'palavra':palavra1,\n",
        "               'freq':freq_12,\n",
        "               'freq%':100*freq_12/len(wordslist2)\n",
        "              }\n",
        "\n",
        "    temp.append(palavra1)\n",
        "    dados.append(entrada1)\n",
        "    dados.append(entrada2)\n",
        "\n",
        "    if not(palavra2 in temp):\n",
        "        palavra2 = top5_2[i][0]\n",
        "        freq_21 = fdist1[palavra2]\n",
        "\n",
        "        entrada1 = {'corpus':'crime_padre_amaro',\n",
        "               'palavra':palavra2,\n",
        "               'freq':freq_21,\n",
        "               'freq%':100*freq_21/len(wordslist1)\n",
        "                }\n",
        "        entrada2 = {'corpus':'dom_casmurro',\n",
        "               'palavra':palavra2,\n",
        "               'freq':top5_2[i][1],\n",
        "               'freq%':100*top5_2[i][1]/len(wordslist2)\n",
        "              }\n",
        "        dados.append(entrada1)\n",
        "        dados.append(entrada2)\n"
      ]
    },
    {
      "cell_type": "code",
      "execution_count": null,
      "id": "9520c4f3",
      "metadata": {
        "id": "9520c4f3"
      },
      "outputs": [],
      "source": [
        "dados_df = pd.DataFrame(data=dados)\n",
        "dados_df.head()"
      ]
    },
    {
      "cell_type": "code",
      "execution_count": null,
      "id": "dd8833e4",
      "metadata": {
        "id": "dd8833e4"
      },
      "outputs": [],
      "source": [
        "fig, ax = plt.subplots(1,2,figsize=(12, 6))\n",
        "fig.suptitle('Frequência das palavras')\n",
        "sns.set_theme(style=\"whitegrid\")\n",
        "\n",
        "sns.barplot(ax=ax[0], x='palavra', y='freq', hue='corpus', data=dados_df)\n",
        "sns.barplot(ax=ax[1], x='palavra', y='freq%', hue='corpus', data=dados_df)\n",
        "\n",
        "ax[0].set(xlabel='Palavra', ylabel='Contagem')\n",
        "ax[1].set(xlabel='Palavra', ylabel='Frequência (%)')"
      ]
    },
    {
      "cell_type": "code",
      "execution_count": null,
      "id": "abf701e5",
      "metadata": {
        "id": "abf701e5"
      },
      "outputs": [],
      "source": [
        "top5_1 # 5 mais frequentes em Crime do Padre Amaro"
      ]
    },
    {
      "cell_type": "code",
      "execution_count": null,
      "id": "fae025ae",
      "metadata": {
        "id": "fae025ae"
      },
      "outputs": [],
      "source": [
        "top5_2 # 5 mais frequentes em Dom Casmurro"
      ]
    },
    {
      "cell_type": "markdown",
      "id": "1d475132",
      "metadata": {
        "id": "1d475132"
      },
      "source": [
        "Agora vamos ver a frequência de cada palavra removendo as **stopwords** e a **pontuação**.\n",
        "\n",
        "Stop words são palavras muito comuns em cada língua, normalmente conectivos como: em, e, com, que, como, a, o, etc...\n"
      ]
    },
    {
      "cell_type": "code",
      "execution_count": null,
      "id": "a451db52",
      "metadata": {
        "id": "a451db52"
      },
      "outputs": [],
      "source": [
        "import re\n",
        "import nltk\n",
        "\n",
        "nltk.download('stopwords')\n",
        "\n",
        "stopwords_pt = stopwords.words('portuguese') # Carregando as stopwords para português"
      ]
    },
    {
      "cell_type": "code",
      "execution_count": null,
      "id": "e6e4eb1b",
      "metadata": {
        "id": "e6e4eb1b"
      },
      "outputs": [],
      "source": [
        "stopwords_pt[0:10] # vendo uma parte das stopwords nativas do NLTK para português"
      ]
    },
    {
      "cell_type": "code",
      "execution_count": null,
      "id": "sS2V83CGPl1t",
      "metadata": {
        "id": "sS2V83CGPl1t"
      },
      "outputs": [],
      "source": [
        "stopwords_pt"
      ]
    },
    {
      "cell_type": "code",
      "execution_count": null,
      "id": "35686dad",
      "metadata": {
        "id": "35686dad"
      },
      "outputs": [],
      "source": [
        "clean_wordslist1=[]\n",
        "for i in range(0, len(wordslist1)):\n",
        "    palavra = re.sub(r'[^\\w\\s]', '',wordslist1[i]).lower()\n",
        "    if not(palavra in stopwords_pt) and not(palavra == ''):\n",
        "        clean_wordslist1.append(palavra)\n",
        "\n",
        "clean_wordslist2=[]\n",
        "for i in range(0, len(wordslist2)):\n",
        "    palavra = re.sub(r'[^\\w\\s]', '',wordslist2[i]).lower()\n",
        "    if not(palavra in stopwords_pt) and not(palavra == ''):\n",
        "        clean_wordslist2.append(palavra)"
      ]
    },
    {
      "cell_type": "code",
      "execution_count": null,
      "id": "df489b35",
      "metadata": {
        "id": "df489b35"
      },
      "outputs": [],
      "source": [
        "clean_fdist1 = FreqDist(clean_wordslist1)\n",
        "clean_fdist2 = FreqDist(clean_wordslist2)"
      ]
    },
    {
      "cell_type": "code",
      "execution_count": null,
      "id": "jdAJHDwdgZgV",
      "metadata": {
        "id": "jdAJHDwdgZgV"
      },
      "outputs": [],
      "source": [
        "clean_fdist2"
      ]
    },
    {
      "cell_type": "code",
      "execution_count": null,
      "id": "eebda83f",
      "metadata": {
        "id": "eebda83f"
      },
      "outputs": [],
      "source": [
        "# Para pegar as mais comuns, podemos usar o método do NLTK most_common\n",
        "clean_top5_1 = clean_fdist1.most_common(5)\n",
        "clean_top5_2 = clean_fdist2.most_common(5)"
      ]
    },
    {
      "cell_type": "code",
      "execution_count": null,
      "id": "uTvQAw3tgjMR",
      "metadata": {
        "id": "uTvQAw3tgjMR"
      },
      "outputs": [],
      "source": [
        "clean_top5_1"
      ]
    },
    {
      "cell_type": "code",
      "execution_count": null,
      "id": "6ac23840",
      "metadata": {
        "id": "6ac23840"
      },
      "outputs": [],
      "source": [
        "# Aqui vamos criar um dataframe com o top 5 para facilitar a visualização\n",
        "dados = []\n",
        "temp = []\n",
        "for i in range(0, len(top5_1)):\n",
        "\n",
        "    palavra1 = clean_top5_1[i][0]\n",
        "    palavra2 = clean_top5_2[i][0]\n",
        "\n",
        "    entrada1 = {'corpus':'crime_padre_amaro',\n",
        "               'palavra':palavra1,\n",
        "               'freq':clean_top5_1[i][1],\n",
        "               'freq%':100*clean_top5_1[i][1]/len(clean_wordslist1)\n",
        "                }\n",
        "    freq_12 = fdist2[palavra1]\n",
        "    entrada2 = {'corpus':'dom_casmurro',\n",
        "               'palavra':palavra1,\n",
        "               'freq':freq_12,\n",
        "               'freq%':100*freq_12/len(clean_wordslist2)\n",
        "              }\n",
        "\n",
        "    temp.append(palavra1)\n",
        "    dados.append(entrada1)\n",
        "    dados.append(entrada2)\n",
        "\n",
        "    if not(palavra2 in temp):\n",
        "        palavra2 = clean_top5_2[i][0]\n",
        "        freq_21 = fdist1[palavra2]\n",
        "\n",
        "        entrada1 = {'corpus':'crime_padre_amaro',\n",
        "               'palavra':palavra2,\n",
        "               'freq':freq_21,\n",
        "               'freq%':100*freq_21/len(clean_wordslist1)\n",
        "                }\n",
        "        entrada2 = {'corpus':'dom_casmurro',\n",
        "               'palavra':palavra2,\n",
        "               'freq':clean_top5_2[i][1],\n",
        "               'freq%':100*clean_top5_2[i][1]/len(clean_wordslist2)\n",
        "              }\n",
        "        dados.append(entrada1)\n",
        "        dados.append(entrada2)\n"
      ]
    },
    {
      "cell_type": "code",
      "execution_count": null,
      "id": "a472a75e",
      "metadata": {
        "id": "a472a75e"
      },
      "outputs": [],
      "source": [
        "dados_df = pd.DataFrame(data=dados)\n",
        "dados_df.head()"
      ]
    },
    {
      "cell_type": "code",
      "execution_count": null,
      "id": "0aadb8b1",
      "metadata": {
        "id": "0aadb8b1"
      },
      "outputs": [],
      "source": [
        "fig, ax = plt.subplots(1,2,figsize=(12, 6))\n",
        "fig.suptitle('Frequência das palavras')\n",
        "sns.set_theme(style=\"whitegrid\")\n",
        "\n",
        "sns.barplot(ax=ax[0], x='palavra', y='freq', hue='corpus', data=dados_df, ci=0)\n",
        "sns.barplot(ax=ax[1], x='palavra', y='freq%', hue='corpus', data=dados_df, ci=0)\n",
        "\n",
        "ax[0].set(xlabel='Palavra', ylabel='Contagem')\n",
        "ax[1].set(xlabel='Palavra', ylabel='Frequência (%)')"
      ]
    },
    {
      "cell_type": "code",
      "execution_count": null,
      "id": "204e9bad",
      "metadata": {
        "id": "204e9bad"
      },
      "outputs": [],
      "source": [
        "clean_top5_1 # 5 mais frequentes em Crime do Padre Amaro"
      ]
    },
    {
      "cell_type": "code",
      "execution_count": null,
      "id": "9e8158af",
      "metadata": {
        "id": "9e8158af"
      },
      "outputs": [],
      "source": [
        "clean_top5_2 # 5 mais frequentes em Dom Casmurro"
      ]
    },
    {
      "cell_type": "code",
      "execution_count": null,
      "id": "fcd8cec1",
      "metadata": {
        "id": "fcd8cec1"
      },
      "outputs": [],
      "source": [
        "len(clean_wordslist1), len(clean_wordslist2)"
      ]
    },
    {
      "cell_type": "code",
      "execution_count": null,
      "id": "MARS57X_Pla8",
      "metadata": {
        "id": "MARS57X_Pla8"
      },
      "outputs": [],
      "source": [
        "from wordcloud import WordCloud\n",
        "\n",
        "texto_limpo = \" \".join(clean_wordslist1)\n",
        "\n",
        "# Gerar a nuvem de palavras\n",
        "wordcloud = WordCloud(width=800, height=400, background_color='white').generate(texto_limpo)\n",
        "\n",
        "# Plotar a nuvem de palavras\n",
        "plt.figure(figsize=(10, 5))\n",
        "plt.imshow(wordcloud, interpolation='bilinear')\n",
        "plt.axis('off')  # Desativar os eixos\n",
        "plt.show()"
      ]
    },
    {
      "cell_type": "markdown",
      "id": "53d57233",
      "metadata": {
        "id": "53d57233"
      },
      "source": [
        "--------------------------------"
      ]
    },
    {
      "cell_type": "markdown",
      "id": "0cf3a90b",
      "metadata": {
        "id": "0cf3a90b"
      },
      "source": [
        "---------------------"
      ]
    },
    {
      "cell_type": "markdown",
      "id": "7543d09d",
      "metadata": {
        "id": "7543d09d"
      },
      "source": [
        "---------------------"
      ]
    },
    {
      "cell_type": "markdown",
      "id": "7d5c75c5",
      "metadata": {
        "id": "7d5c75c5"
      },
      "source": [
        "## Exemplo 4 - Representação de texto usando Word2Vec\n",
        "\n",
        "O word vector é uma técnica que consiste em criar vetores para cada palavra de tal forma que palavras que aparecem no mesmo contexto irão ser atribuídos vetores que são próximos um dos outros.\n",
        "\n",
        "O resultado é um modelo que entende que \"cachorro\" está mais próximo de \"lobo\" do que \"girassol\". Para fazer isso seria necessário treinar um modelo por um longo período de tempo. Por isso, o ideal é utilizar algumas biblitocas que já possuem esse treinamento.\n",
        "\n",
        "![image-3.png](attachment:image-3.png)\n",
        "\n",
        "\n",
        "Existem métricas para se medir a distância entre dois vetores e checar se os mesmos estão próximos um do outro.\n",
        "\n",
        "A mais comumemnte utilizada é o valor do cosseno do ângulo entre os vetores.\n",
        "\n",
        "Dada duas palavras $\\mathbf{v}$ e $\\mathbf{w}$, a similaridade do cosseno entre essas palavras é dada por:\n",
        "\n",
        "## $cos(\\mathbf{v},\\mathbf{w}) = \\frac{\\mathbf{v} \\cdot \\mathbf{w}}{|\\mathbf{v}||\\mathbf{w}|} = \\frac{\\sum_{i=1}^{N}v_{i}w_{i}}{\\sqrt{\\sum_{i=1}^{N}v_i^{2}}\\sqrt{\\sum_{i=1}^{N}w_i^{2}}}$\n",
        "\n",
        "Onde:\n",
        "\n",
        "*   $N$ é a dimensão dos vetores;\n",
        "*   '$\\cdot$' é o produto escalar;\n"
      ]
    },
    {
      "cell_type": "code",
      "execution_count": null,
      "id": "3c2c5632",
      "metadata": {
        "id": "3c2c5632"
      },
      "outputs": [],
      "source": [
        "# Importando o spaCy com modelo de linguagem\n",
        "import spacy\n",
        "\n",
        "# Importando o scipy para calcular similaridade do cosseno\n",
        "from scipy import spatial"
      ]
    },
    {
      "cell_type": "code",
      "execution_count": null,
      "id": "xBAt7KAtVEc1",
      "metadata": {
        "id": "xBAt7KAtVEc1"
      },
      "outputs": [],
      "source": [
        "# prompt: spacy load modelo portugues para vetorizar palavras\n",
        "!python -m spacy download pt_core_news_sm\n",
        "# nlp = spacy.load('pt_core_news_sm')\n"
      ]
    },
    {
      "cell_type": "code",
      "execution_count": null,
      "id": "f89ad28b",
      "metadata": {
        "id": "f89ad28b"
      },
      "outputs": [],
      "source": [
        "# Para o spaCy funcionar devemos importar uma biblioteca da linguagem desejada.\n",
        "nlp_pt = spacy.load('pt_core_news_lg')"
      ]
    },
    {
      "cell_type": "markdown",
      "id": "58497074",
      "metadata": {
        "id": "58497074"
      },
      "source": [
        "A função vector nos permite ver o vetor que é criado para uma dada palavra:"
      ]
    },
    {
      "cell_type": "code",
      "execution_count": null,
      "id": "6b51c64a",
      "metadata": {
        "id": "6b51c64a"
      },
      "outputs": [],
      "source": [
        "nlp_pt('cachorro').vector"
      ]
    },
    {
      "cell_type": "code",
      "execution_count": null,
      "id": "b7f673d0",
      "metadata": {
        "id": "b7f673d0"
      },
      "outputs": [],
      "source": [
        "nlp_pt('cachorro').vector.shape # Número de features para representar a palavra cachorro"
      ]
    },
    {
      "cell_type": "markdown",
      "id": "5efe3606",
      "metadata": {
        "id": "5efe3606"
      },
      "source": [
        "Podemos checar a similaridade entre as palavras usando a função similarity do spaCy:"
      ]
    },
    {
      "cell_type": "code",
      "execution_count": null,
      "id": "081efa36",
      "metadata": {
        "id": "081efa36"
      },
      "outputs": [],
      "source": [
        "# Criando os tokens\n",
        "tokens = nlp_pt('cachorro lobo girassol')\n",
        "\n",
        "# Fazendo as iterações entre todas as possíveis combinacoes\n",
        "for token1 in tokens:\n",
        "    for token2 in tokens:\n",
        "        print(token1.text, token2.text, token1.similarity(token2))"
      ]
    },
    {
      "cell_type": "markdown",
      "id": "68d4dca9",
      "metadata": {
        "id": "68d4dca9"
      },
      "source": [
        "Já palavras com sentidos opostos, mas que aparecem no mesmo contexto terão alta similaridade:"
      ]
    },
    {
      "cell_type": "code",
      "execution_count": null,
      "id": "70c2f298",
      "metadata": {
        "id": "70c2f298"
      },
      "outputs": [],
      "source": [
        "# Criando os tokens\n",
        "tokens = nlp_pt('gosto amo odeio')\n",
        "\n",
        "# Fazendo as iterações entre todas as possíveis combinacoes\n",
        "for token1 in tokens:\n",
        "    for token2 in tokens:\n",
        "        print(token1.text, token2.text, token1.similarity(token2))"
      ]
    },
    {
      "cell_type": "markdown",
      "id": "2939761e",
      "metadata": {
        "id": "2939761e"
      },
      "source": [
        "A representação de vetores permite o uso de regras matemáticas de Geometria Analítica e Algebra Linear, como soma e subtração vetorial:"
      ]
    },
    {
      "cell_type": "code",
      "execution_count": null,
      "id": "38930716",
      "metadata": {
        "id": "38930716"
      },
      "outputs": [],
      "source": [
        "rei = nlp_pt('rei').vector\n",
        "homem = nlp_pt('homem').vector\n",
        "mulher = nlp_pt('mulher').vector"
      ]
    },
    {
      "cell_type": "code",
      "execution_count": null,
      "id": "qd0iwdkLTAtZ",
      "metadata": {
        "id": "qd0iwdkLTAtZ"
      },
      "outputs": [],
      "source": [
        "homem"
      ]
    },
    {
      "cell_type": "code",
      "execution_count": null,
      "id": "autVo4RyWtTL",
      "metadata": {
        "id": "autVo4RyWtTL"
      },
      "outputs": [],
      "source": [
        "import spacy\n",
        "import matplotlib.pyplot as plt\n",
        "from mpl_toolkits.mplot3d import Axes3D\n",
        "from sklearn.decomposition import PCA\n",
        "\n",
        "# Carregar o modelo de linguagem em português\n",
        "nlp = spacy.load(\"pt_core_news_sm\")\n",
        "\n",
        "# Escolher as palavras para comparar\n",
        "palavras = [\"rei\", \"homem\", \"mulher\"]\n",
        "\n",
        "# Obter os vetores correspondentes\n",
        "vetores = [nlp(palavra).vector for palavra in palavras]\n",
        "\n",
        "# Usar PCA para reduzir a dimensionalidade para 3D\n",
        "pca = PCA(n_components=3)\n",
        "vetores_3d = pca.fit_transform(vetores)\n",
        "\n",
        "# Criar o gráfico 3D\n",
        "fig = plt.figure(figsize=(8, 6))\n",
        "ax = fig.add_subplot(111, projection='3d')\n",
        "\n",
        "# Plotar os pontos\n",
        "ax.scatter(vetores_3d[:, 0], vetores_3d[:, 1], vetores_3d[:, 2], s=100)\n",
        "\n",
        "# Adicionar rótulos para cada ponto\n",
        "for i, palavra in enumerate(palavras):\n",
        "    ax.text(vetores_3d[i, 0], vetores_3d[i, 1], vetores_3d[i, 2], palavra, fontsize=12)\n",
        "\n",
        "# Configurar os títulos dos eixos\n",
        "ax.set_title(\"Visualização 3D das Distâncias das Palavras Vetorizadas (spaCy)\")\n",
        "ax.set_xlabel(\"Componente Principal 1\")\n",
        "ax.set_ylabel(\"Componente Principal 2\")\n",
        "ax.set_zlabel(\"Componente Principal 3\")\n",
        "\n",
        "# Mostrar o gráfico\n",
        "plt.show()\n"
      ]
    },
    {
      "cell_type": "code",
      "execution_count": null,
      "id": "Eig3JOwxWtOF",
      "metadata": {
        "id": "Eig3JOwxWtOF"
      },
      "outputs": [],
      "source": []
    },
    {
      "cell_type": "code",
      "execution_count": null,
      "id": "730d3e2c",
      "metadata": {
        "id": "730d3e2c"
      },
      "outputs": [],
      "source": [
        "# Vamos criar um novo vetor contendo:\n",
        "novo_vetor = rei - homem + mulher"
      ]
    },
    {
      "cell_type": "markdown",
      "id": "6b73af4c",
      "metadata": {
        "id": "6b73af4c"
      },
      "source": [
        "Agora vamos calcular similaridade do cosseno entre cada uma dessas palavras (vetores):"
      ]
    },
    {
      "cell_type": "code",
      "execution_count": null,
      "id": "ccb3fa9b",
      "metadata": {
        "id": "ccb3fa9b"
      },
      "outputs": [],
      "source": [
        "def similaridade_cosseno(x, y):\n",
        "    return 1-spatial.distance.cosine(x, y)"
      ]
    },
    {
      "cell_type": "code",
      "execution_count": null,
      "id": "04aed333",
      "metadata": {
        "id": "04aed333"
      },
      "outputs": [],
      "source": [
        "similarides_calculadas = []\n",
        "\n",
        "for word in nlp_pt.vocab:\n",
        "    # Ignore words without vectors and mixed-case words:\n",
        "    if word.has_vector:\n",
        "        if word.is_lower:\n",
        "            similaridade = similaridade_cosseno(novo_vetor, word.vector)\n",
        "            similarides_calculadas.append((word, similaridade))\n",
        "similarides_calculadas"
      ]
    },
    {
      "cell_type": "markdown",
      "id": "b12165dc",
      "metadata": {
        "id": "b12165dc"
      },
      "source": [
        "Precisamos ordenar os itens acima de acordo com a similaridade. Para isso:"
      ]
    },
    {
      "cell_type": "code",
      "execution_count": null,
      "id": "18697eed",
      "metadata": {
        "id": "18697eed"
      },
      "outputs": [],
      "source": [
        "# funcao para retornar os valores de similaridade como key para o sorted\n",
        "def take_second(item):\n",
        "    return item[1]\n",
        "\n",
        "# Faz a ordenação dos dados do maior para o menor de acordo com o key (função que serve de guia)\n",
        "similarides_calculadas = sorted(similarides_calculadas, key=take_second, reverse = True)\n",
        "\n",
        "# Imprime os resultados mais próximos:\n",
        "print([w[0].text for w in similarides_calculadas[:10]])"
      ]
    },
    {
      "cell_type": "code",
      "execution_count": null,
      "id": "8596f3bb",
      "metadata": {
        "id": "8596f3bb"
      },
      "outputs": [],
      "source": [
        "queen = nlp_pt('rainha').vector"
      ]
    },
    {
      "cell_type": "code",
      "execution_count": null,
      "id": "8xkLx1ctTWZi",
      "metadata": {
        "id": "8xkLx1ctTWZi"
      },
      "outputs": [],
      "source": []
    },
    {
      "cell_type": "code",
      "execution_count": null,
      "id": "83e0459b",
      "metadata": {
        "id": "83e0459b"
      },
      "outputs": [],
      "source": [
        "similaridade_cosseno(novo_vetor, queen)"
      ]
    },
    {
      "cell_type": "markdown",
      "id": "b68fb289",
      "metadata": {
        "id": "b68fb289"
      },
      "source": [
        "Os mais próximos foram king e queen. Como esperavamos queen está próximo da nova palavra."
      ]
    },
    {
      "cell_type": "code",
      "execution_count": null,
      "id": "e065c6fe",
      "metadata": {
        "id": "e065c6fe"
      },
      "outputs": [],
      "source": [
        "similarides_calculadas[:10]"
      ]
    },
    {
      "cell_type": "markdown",
      "id": "686aa313",
      "metadata": {
        "id": "686aa313"
      },
      "source": [
        "----------------------"
      ]
    },
    {
      "cell_type": "code",
      "execution_count": null,
      "id": "OLhbtL8Yq9js",
      "metadata": {
        "id": "OLhbtL8Yq9js"
      },
      "outputs": [],
      "source": []
    },
    {
      "cell_type": "markdown",
      "id": "Jkk-wyh3q9_G",
      "metadata": {
        "id": "Jkk-wyh3q9_G"
      },
      "source": [
        "## Exemplo 5 - Representação de texto com Word Embeddings"
      ]
    },
    {
      "cell_type": "markdown",
      "id": "iGH3lgyijFnj",
      "metadata": {
        "id": "iGH3lgyijFnj"
      },
      "source": [
        "![image.png](data:image/png;base64,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)"
      ]
    },
    {
      "cell_type": "code",
      "execution_count": null,
      "id": "eZGPfWbacxjP",
      "metadata": {
        "id": "eZGPfWbacxjP"
      },
      "outputs": [],
      "source": [
        "!pip install -U sentence-transformers"
      ]
    },
    {
      "cell_type": "code",
      "execution_count": null,
      "id": "WDqTKy4ucm7Q",
      "metadata": {
        "id": "WDqTKy4ucm7Q"
      },
      "outputs": [],
      "source": [
        "import numpy as np\n",
        "import pandas as pd\n",
        "\n",
        "from sklearn.metrics import DistanceMetric\n",
        "from sentence_transformers import SentenceTransformer"
      ]
    },
    {
      "cell_type": "code",
      "execution_count": null,
      "id": "q3KVLLCJc2bs",
      "metadata": {
        "id": "q3KVLLCJc2bs"
      },
      "outputs": [],
      "source": [
        "model = SentenceTransformer(\"all-MiniLM-L6-v2\")"
      ]
    },
    {
      "cell_type": "code",
      "execution_count": null,
      "id": "rjOjfBxWdUPA",
      "metadata": {
        "id": "rjOjfBxWdUPA"
      },
      "outputs": [],
      "source": [
        "from bs4 import BeautifulSoup\n",
        "import requests\n",
        "\n",
        "def get_wiki_text(url):\n",
        "  response = requests.get(url)\n",
        "  soup = BeautifulSoup(response.content, 'html.parser')\n",
        "\n",
        "  paragraphs = soup.find_all('p')\n",
        "  text = '\\n'.join([p.get_text() for p in paragraphs])\n",
        "\n",
        "  return text\n"
      ]
    },
    {
      "cell_type": "code",
      "execution_count": null,
      "id": "xGWFSgHCdtgf",
      "metadata": {
        "id": "xGWFSgHCdtgf"
      },
      "outputs": [],
      "source": [
        "url_wiki = \"https://pt.wikipedia.org/wiki/Intelig%C3%AAncia_artificial\"\n",
        "text = get_wiki_text(url_wiki)"
      ]
    },
    {
      "cell_type": "code",
      "execution_count": null,
      "id": "CoO-Fn8xd6GZ",
      "metadata": {
        "id": "CoO-Fn8xd6GZ"
      },
      "outputs": [],
      "source": [
        "text"
      ]
    },
    {
      "cell_type": "code",
      "execution_count": null,
      "id": "yBflgpRjew_u",
      "metadata": {
        "id": "yBflgpRjew_u"
      },
      "outputs": [],
      "source": [
        "# Divida o texto em chunks de 100 palavras\n",
        "chunk_size = 100\n",
        "chunks = []\n",
        "words = text.split()\n",
        "for i in range(0, len(words), chunk_size):\n",
        "  chunk = ' '.join(words[i: i + chunk_size])\n",
        "  chunks.append(chunk)\n"
      ]
    },
    {
      "cell_type": "code",
      "execution_count": null,
      "id": "Jbg4JQYNU1tS",
      "metadata": {
        "id": "Jbg4JQYNU1tS"
      },
      "outputs": [],
      "source": [
        "chunks[3]"
      ]
    },
    {
      "cell_type": "code",
      "execution_count": null,
      "id": "e0-3qosjKtuJ",
      "metadata": {
        "id": "e0-3qosjKtuJ"
      },
      "outputs": [],
      "source": [
        "# Crie embeddings para cada chunk\n",
        "embeddings = model.encode(chunks)\n",
        "embeddings"
      ]
    },
    {
      "cell_type": "code",
      "execution_count": null,
      "id": "Xjmf-ZDgVK-h",
      "metadata": {
        "id": "Xjmf-ZDgVK-h"
      },
      "outputs": [],
      "source": [
        "pd.set_option('display.max_colwidth', None)\n",
        "pd.set_option('display.max_rows', None)"
      ]
    },
    {
      "cell_type": "code",
      "execution_count": null,
      "id": "IhziZIakd_fX",
      "metadata": {
        "id": "IhziZIakd_fX"
      },
      "outputs": [],
      "source": [
        "# Crie um DataFrame do Pandas com os chunks e seus embeddings\n",
        "df = pd.DataFrame({\n",
        "    'texto': chunks,\n",
        "    'embedding': embeddings.tolist()\n",
        "})\n",
        "\n",
        "df.head()"
      ]
    },
    {
      "cell_type": "code",
      "execution_count": null,
      "id": "mXciPfKAgbQu",
      "metadata": {
        "id": "mXciPfKAgbQu"
      },
      "outputs": [],
      "source": [
        "df.shape"
      ]
    },
    {
      "cell_type": "code",
      "execution_count": null,
      "id": "q_BNdtLFdJ7O",
      "metadata": {
        "id": "q_BNdtLFdJ7O"
      },
      "outputs": [],
      "source": [
        "query = \"Quando surgiu o termo Inteligência Artificial?\"\n",
        "query_embedding = model.encode(query)"
      ]
    },
    {
      "cell_type": "code",
      "execution_count": null,
      "id": "NzfXnx-yLNzk",
      "metadata": {
        "id": "NzfXnx-yLNzk"
      },
      "outputs": [],
      "source": [
        "query_embedding.shape"
      ]
    },
    {
      "cell_type": "code",
      "execution_count": null,
      "id": "oJ_CS4lNdJ4A",
      "metadata": {
        "id": "oJ_CS4lNdJ4A"
      },
      "outputs": [],
      "source": [
        "dist = DistanceMetric.get_metric('euclidean') # Outras distâncias: manhattan, chebyshev\n",
        "\n",
        "dist_arr = dist.pairwise(embeddings, query_embedding.reshape(1, -1)).flatten()\n",
        "idist_arr_sorted = np.argsort(dist_arr)"
      ]
    },
    {
      "cell_type": "code",
      "execution_count": null,
      "id": "e2A4UXPYl873",
      "metadata": {
        "id": "e2A4UXPYl873"
      },
      "outputs": [],
      "source": [
        "pd.set_option('display.max_colwidth', None)\n",
        "pd.set_option('display.max_rows', None)"
      ]
    },
    {
      "cell_type": "code",
      "execution_count": null,
      "id": "vRzlNhv0VwmK",
      "metadata": {
        "id": "vRzlNhv0VwmK"
      },
      "outputs": [],
      "source": [
        "dist_arr"
      ]
    },
    {
      "cell_type": "code",
      "execution_count": null,
      "id": "9WheKxJrVpCb",
      "metadata": {
        "id": "9WheKxJrVpCb"
      },
      "outputs": [],
      "source": [
        "idist_arr_sorted"
      ]
    },
    {
      "cell_type": "code",
      "execution_count": null,
      "id": "8W1WVKCkq9do",
      "metadata": {
        "id": "8W1WVKCkq9do"
      },
      "outputs": [],
      "source": [
        "df.iloc[idist_arr_sorted[:3]]"
      ]
    }
  ],
  "metadata": {
    "colab": {
      "provenance": []
    },
    "kernelspec": {
      "display_name": "Python 3",
      "language": "python",
      "name": "python3"
    },
    "language_info": {
      "codemirror_mode": {
        "name": "ipython",
        "version": 3
      },
      "file_extension": ".py",
      "mimetype": "text/x-python",
      "name": "python",
      "nbconvert_exporter": "python",
      "pygments_lexer": "ipython3",
      "version": "3.9.5"
    }
  },
  "nbformat": 4,
  "nbformat_minor": 5
}
