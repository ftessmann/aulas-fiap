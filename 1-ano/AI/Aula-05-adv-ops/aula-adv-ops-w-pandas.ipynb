{
 "cells": [
  {
   "cell_type": "code",
   "execution_count": null,
   "metadata": {
    "executionInfo": {
     "elapsed": 800,
     "status": "ok",
     "timestamp": 1740749391844,
     "user": {
      "displayName": "Fernando Tessmann",
      "userId": "02621786281152175335"
     },
     "user_tz": 180
    },
    "id": "V1zbVjtIm_Ec"
   },
   "outputs": [],
   "source": [
    "import pandas as pd"
   ]
  },
  {
   "cell_type": "code",
   "execution_count": null,
   "metadata": {
    "colab": {
     "base_uri": "https://localhost:8080/",
     "height": 269
    },
    "executionInfo": {
     "elapsed": 5,
     "status": "ok",
     "timestamp": 1740751416410,
     "user": {
      "displayName": "Fernando Tessmann",
      "userId": "02621786281152175335"
     },
     "user_tz": 180
    },
    "id": "8FlDQNHvv9RK",
    "outputId": "52d6f6b6-a348-4851-9783-81532ec604a9"
   },
   "outputs": [],
   "source": [
    "df = pd.DataFrame({\n",
    "    'nome': [\"João\", \"Maria\", \"José\", \"Ana\", \"Samuel\", \"Igor\", None], # para remover valores coloca-se None\n",
    "    'idade': [20, 23, 53, 32, 40, 26, 64],\n",
    "    'salario': [2000, 2500, 3000, 3600, 12000, 5000, 6000]\n",
    "    })\n",
    "\n",
    "display(df)"
   ]
  },
  {
   "cell_type": "code",
   "execution_count": null,
   "metadata": {
    "colab": {
     "base_uri": "https://localhost:8080/",
     "height": 303
    },
    "executionInfo": {
     "elapsed": 4,
     "status": "ok",
     "timestamp": 1740750161814,
     "user": {
      "displayName": "Fernando Tessmann",
      "userId": "02621786281152175335"
     },
     "user_tz": 180
    },
    "id": "Swuj2-IZyUjQ",
    "outputId": "0a385d2f-aeb7-42ee-990b-0890c77764c7"
   },
   "outputs": [],
   "source": [
    "# filtrando idades acima de 25\n",
    "\n",
    "# mostra a coluna alvo\n",
    "display(df['idade'])"
   ]
  },
  {
   "cell_type": "code",
   "execution_count": null,
   "metadata": {
    "colab": {
     "base_uri": "https://localhost:8080/",
     "height": 322
    },
    "executionInfo": {
     "elapsed": 8,
     "status": "ok",
     "timestamp": 1740750958227,
     "user": {
      "displayName": "Fernando Tessmann",
      "userId": "02621786281152175335"
     },
     "user_tz": 180
    },
    "id": "lTTmpHe_yuWP",
    "outputId": "172aef63-5223-41e0-8472-e72cf07abd77"
   },
   "outputs": [],
   "source": [
    "# fazer uma comparação lógica e filtrar\n",
    "filtro = []\n",
    "for i, row in df.iterrows():\n",
    "  if row[\"idade\"] > 25:\n",
    "    filtro.append(True)\n",
    "  else:\n",
    "    filtro.append(False)\n",
    "print(filtro)\n",
    "\n",
    "# broadcasting com sobrecarga no operador, faz a mesma coisa que a função acima\n",
    "display(df['idade'] > 25)"
   ]
  },
  {
   "cell_type": "code",
   "execution_count": null,
   "metadata": {
    "colab": {
     "base_uri": "https://localhost:8080/",
     "height": 206
    },
    "executionInfo": {
     "elapsed": 52,
     "status": "ok",
     "timestamp": 1740750961746,
     "user": {
      "displayName": "Fernando Tessmann",
      "userId": "02621786281152175335"
     },
     "user_tz": 180
    },
    "id": "BVg5wMLPzhPR",
    "outputId": "adff8379-a917-4438-bc26-710f91c99285"
   },
   "outputs": [],
   "source": [
    "# usar true/false para filtrar as linhas\n",
    "display(df[df['idade'] > 25])"
   ]
  },
  {
   "cell_type": "code",
   "execution_count": null,
   "metadata": {
    "colab": {
     "base_uri": "https://localhost:8080/",
     "height": 112
    },
    "executionInfo": {
     "elapsed": 21,
     "status": "ok",
     "timestamp": 1740751243872,
     "user": {
      "displayName": "Fernando Tessmann",
      "userId": "02621786281152175335"
     },
     "user_tz": 180
    },
    "id": "IuCMTj2b1gXW",
    "outputId": "12052641-2c08-4861-c330-a7961ae28372"
   },
   "outputs": [],
   "source": [
    "# filtrar salários acima de 5k\n",
    "display(df[df['salario'] > 5000])"
   ]
  },
  {
   "cell_type": "code",
   "execution_count": null,
   "metadata": {
    "colab": {
     "base_uri": "https://localhost:8080/",
     "height": 81
    },
    "executionInfo": {
     "elapsed": 42,
     "status": "ok",
     "timestamp": 1740751348436,
     "user": {
      "displayName": "Fernando Tessmann",
      "userId": "02621786281152175335"
     },
     "user_tz": 180
    },
    "id": "IATCKT4u2Jvr",
    "outputId": "ee540fc9-ea82-496d-fe1b-0a4ac0d5c3e0"
   },
   "outputs": [],
   "source": [
    "#filtra se o nome é Igor\n",
    "display(df[df['nome'] == \"Igor\"])"
   ]
  },
  {
   "cell_type": "code",
   "execution_count": null,
   "metadata": {
    "colab": {
     "base_uri": "https://localhost:8080/",
     "height": 112
    },
    "executionInfo": {
     "elapsed": 14,
     "status": "ok",
     "timestamp": 1740752024695,
     "user": {
      "displayName": "Fernando Tessmann",
      "userId": "02621786281152175335"
     },
     "user_tz": 180
    },
    "id": "LHKlRATr3aHR",
    "outputId": "02f0c932-a1bd-4728-f7a8-32347016e515"
   },
   "outputs": [],
   "source": [
    "df[\n",
    "    (df.idade > 25) &\n",
    "    (df.salario > 4000) &\n",
    "    (~df.nome.isnull())\n",
    "]"
   ]
  },
  {
   "cell_type": "code",
   "execution_count": null,
   "metadata": {
    "executionInfo": {
     "elapsed": 1,
     "status": "ok",
     "timestamp": 1740752098886,
     "user": {
      "displayName": "Fernando Tessmann",
      "userId": "02621786281152175335"
     },
     "user_tz": 180
    },
    "id": "FTrnnaFw5_Oq"
   },
   "outputs": [],
   "source": [
    "#aplicar uma função no dataframe\n",
    "def extrair_categoria(idade):\n",
    "  if idade > 25:\n",
    "    return \"adulto\"\n",
    "  return \"jovem\""
   ]
  },
  {
   "cell_type": "code",
   "execution_count": null,
   "metadata": {
    "colab": {
     "base_uri": "https://localhost:8080/",
     "height": 269
    },
    "executionInfo": {
     "elapsed": 16,
     "status": "ok",
     "timestamp": 1740752296787,
     "user": {
      "displayName": "Fernando Tessmann",
      "userId": "02621786281152175335"
     },
     "user_tz": 180
    },
    "id": "9Hi9n3j16RWK",
    "outputId": "c4d4abab-204f-492d-d6db-131eb52f88d2"
   },
   "outputs": [],
   "source": [
    "df['categoria'] = df.idade.apply(extrair_categoria)\n",
    "df\n",
    "# normalmente extrai true e false\n",
    "# com sobrecarga aplica o que for informado\n",
    "# e aplica o novo campo na nova categoria"
   ]
  },
  {
   "cell_type": "code",
   "execution_count": null,
   "metadata": {
    "colab": {
     "base_uri": "https://localhost:8080/",
     "height": 143
    },
    "executionInfo": {
     "elapsed": 34,
     "status": "ok",
     "timestamp": 1740752675904,
     "user": {
      "displayName": "Fernando Tessmann",
      "userId": "02621786281152175335"
     },
     "user_tz": 180
    },
    "id": "6c94roI46d-r",
    "outputId": "fe005ed7-def5-42a6-876b-8215a34144a2"
   },
   "outputs": [],
   "source": [
    "# depois de groupby podemos aplicar estatistica descritiva\n",
    "df.groupby(by='categoria').mean(numeric_only=True)"
   ]
  },
  {
   "cell_type": "code",
   "execution_count": null,
   "metadata": {
    "colab": {
     "base_uri": "https://localhost:8080/",
     "height": 269
    },
    "executionInfo": {
     "elapsed": 8,
     "status": "ok",
     "timestamp": 1740753062244,
     "user": {
      "displayName": "Fernando Tessmann",
      "userId": "02621786281152175335"
     },
     "user_tz": 180
    },
    "id": "MBVmoGse8eNe",
    "outputId": "2f419a96-bd37-44fe-cec1-7047e8e7f436"
   },
   "outputs": [],
   "source": [
    "# substituir valor no dataframe\n",
    "df = df.replace({'João': 'Joana'})\n",
    "# ou, preferencialmente\n",
    "df.replace({'João': 'Joana'}, inplace=True)\n",
    "df"
   ]
  },
  {
   "cell_type": "code",
   "execution_count": null,
   "metadata": {
    "colab": {
     "base_uri": "https://localhost:8080/",
     "height": 269
    },
    "executionInfo": {
     "elapsed": 12,
     "status": "ok",
     "timestamp": 1740753451028,
     "user": {
      "displayName": "Fernando Tessmann",
      "userId": "02621786281152175335"
     },
     "user_tz": 180
    },
    "id": "5P9AABk398iY",
    "outputId": "0432b5cb-9438-4a0c-a8b9-fc4005d54424"
   },
   "outputs": [],
   "source": [
    "df.sort_values(by=['salario', 'idade'])\n",
    "df.style.background_gradient()"
   ]
  },
  {
   "cell_type": "code",
   "execution_count": null,
   "metadata": {
    "executionInfo": {
     "elapsed": 4,
     "status": "ok",
     "timestamp": 1740753808286,
     "user": {
      "displayName": "Fernando Tessmann",
      "userId": "02621786281152175335"
     },
     "user_tz": 180
    },
    "id": "lpA9kWTf-xYN"
   },
   "outputs": [],
   "source": [
    "dados = {\n",
    " 'Nome': ['Alice', 'Bob', 'Carlos', 'Diana', 'Eduardo', 'Fernanda'],\n",
    " 'Idade': [26, 34, 47, 29, 40, 47],\n",
    " 'Local': ['Cena do Crime', 'Cena do Crime', 'Shopping', 'Escritório',\n",
    " 'Cena do Crime', 'Restaurante'],\n",
    " 'Alibi': ['Testemunha', None, 'Câmera de Segurança', None, None, 'Testemunha'],\n",
    " 'Histórico': ['Limpo', 'Criminoso', 'Limpo', 'Criminoso', 'Criminoso', 'Limpo']\n",
    "}\n",
    "df = pd.DataFrame(dados)"
   ]
  },
  {
   "cell_type": "code",
   "execution_count": null,
   "metadata": {
    "colab": {
     "base_uri": "https://localhost:8080/",
     "height": 237
    },
    "executionInfo": {
     "elapsed": 12,
     "status": "ok",
     "timestamp": 1740753860938,
     "user": {
      "displayName": "Fernando Tessmann",
      "userId": "02621786281152175335"
     },
     "user_tz": 180
    },
    "id": "Bga8iVK5Ayrm",
    "outputId": "8e7cd2d4-465f-4862-da7f-8f0a6b6514a4"
   },
   "outputs": [],
   "source": [
    "df"
   ]
  },
  {
   "cell_type": "code",
   "execution_count": null,
   "metadata": {
    "colab": {
     "base_uri": "https://localhost:8080/",
     "height": 112
    },
    "executionInfo": {
     "elapsed": 40,
     "status": "ok",
     "timestamp": 1740754546930,
     "user": {
      "displayName": "Fernando Tessmann",
      "userId": "02621786281152175335"
     },
     "user_tz": 180
    },
    "id": "3yLWLpGCA_h4",
    "outputId": "330d0815-0526-4057-ba0e-a5fe6d7948c5"
   },
   "outputs": [],
   "source": [
    "\n",
    "\n",
    "df[\n",
    "    (df.Alibi.isnull()) &\n",
    "    (df.Local == 'Cena do Crime') &\n",
    "    (df['Histórico'] == 'Criminoso') &\n",
    "    (df['Idade'] == df[df['Histórico'] == 'Limpo']['Idade'].mean())\n",
    "]"
   ]
  },
  {
   "cell_type": "code",
   "execution_count": null,
   "metadata": {
    "id": "UWYrppVmBfaJ"
   },
   "outputs": [],
   "source": []
  }
 ],
 "metadata": {
  "colab": {
   "authorship_tag": "ABX9TyMzbIK7CiX98PN6Pq4J9ljy",
   "provenance": []
  },
  "kernelspec": {
   "display_name": "Python 3",
   "name": "python3"
  },
  "language_info": {
   "codemirror_mode": {
    "name": "ipython",
    "version": 3
   },
   "file_extension": ".py",
   "mimetype": "text/x-python",
   "name": "python",
   "nbconvert_exporter": "python",
   "pygments_lexer": "ipython3",
   "version": "3.13.2"
  }
 },
 "nbformat": 4,
 "nbformat_minor": 0
}
