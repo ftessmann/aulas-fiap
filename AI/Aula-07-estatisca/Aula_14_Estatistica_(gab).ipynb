{
  "cells": [
    {
      "cell_type": "markdown",
      "id": "cf374a0f",
      "metadata": {
        "id": "cf374a0f"
      },
      "source": [
        "# Aula 14 - Estatística"
      ]
    },
    {
      "cell_type": "markdown",
      "id": "8803b7e9",
      "metadata": {
        "id": "8803b7e9"
      },
      "source": [
        "## Exercício 1\n",
        "\n",
        "Faça funções em Python em células do Jupyter Notebook para calcular a média:\n",
        "\n",
        "a. Aritmética\n",
        "\n",
        "b. Geométrica\n",
        "\n",
        "c. Harmônica\n",
        "\n",
        "d. Verifique que: ari > geo > harm\n",
        "\n",
        "Use como entrada x =[39, 38, 27, 22, 20, 17, 10, 10, 10, 10, 7, 7, 7, 7, 6]"
      ]
    },
    {
      "cell_type": "code",
      "execution_count": null,
      "id": "j5JO5RERT7aQ",
      "metadata": {
        "id": "j5JO5RERT7aQ"
      },
      "outputs": [],
      "source": [
        "x =[39, 38, 27, 22, 20, 17, 10, 10, 10, 10, 7, 7, 7, 7, 6]"
      ]
    },
    {
      "cell_type": "code",
      "execution_count": null,
      "id": "3aabad03",
      "metadata": {
        "id": "3aabad03"
      },
      "outputs": [],
      "source": [
        "def media_aritmetica(x: list) -> float:\n",
        "    N = len(x)\n",
        "    soma = 0\n",
        "    for xi in x:\n",
        "        soma = soma+xi\n",
        "    media = soma / N\n",
        "    return(media)"
      ]
    },
    {
      "cell_type": "code",
      "execution_count": null,
      "id": "awzu_cR3_7M4",
      "metadata": {
        "colab": {
          "base_uri": "https://localhost:8080/"
        },
        "id": "awzu_cR3_7M4",
        "outputId": "d987e681-9f0b-4fc6-9e5d-540814bce807"
      },
      "outputs": [],
      "source": [
        "media_aritmetica(x)"
      ]
    },
    {
      "cell_type": "code",
      "execution_count": null,
      "id": "a2bcea0b",
      "metadata": {},
      "outputs": [],
      "source": [
        "import numpy as np"
      ]
    },
    {
      "cell_type": "code",
      "execution_count": null,
      "id": "f3bb2ed9",
      "metadata": {},
      "outputs": [],
      "source": [
        "np.array(x).mean()"
      ]
    },
    {
      "cell_type": "code",
      "execution_count": null,
      "id": "h5VraxH9f4R5",
      "metadata": {
        "colab": {
          "base_uri": "https://localhost:8080/"
        },
        "id": "h5VraxH9f4R5",
        "outputId": "de61e335-9631-4f75-9059-749e1a336bcc"
      },
      "outputs": [],
      "source": [
        "21 ** (1/3)"
      ]
    },
    {
      "cell_type": "code",
      "execution_count": null,
      "id": "IuWgsrGILOo8",
      "metadata": {
        "id": "IuWgsrGILOo8"
      },
      "outputs": [],
      "source": [
        "4 ** (1/2)"
      ]
    },
    {
      "cell_type": "code",
      "execution_count": null,
      "id": "8a5c4441",
      "metadata": {
        "id": "8a5c4441"
      },
      "outputs": [],
      "source": [
        "def media_geometrica(x: list) -> float:\n",
        "    N = len(x)\n",
        "    multiplicacao = 1\n",
        "    for xi in x:\n",
        "        multiplicacao *= xi # multiplicacao*xi\n",
        "    media = multiplicacao ** (1/N)\n",
        "    return(media)"
      ]
    },
    {
      "cell_type": "code",
      "execution_count": null,
      "id": "Pd1SwsbW_96Z",
      "metadata": {
        "colab": {
          "base_uri": "https://localhost:8080/"
        },
        "id": "Pd1SwsbW_96Z",
        "outputId": "2904e7a4-501d-4379-dcae-200006cf4aff"
      },
      "outputs": [],
      "source": [
        "media_geometrica(x)"
      ]
    },
    {
      "cell_type": "code",
      "execution_count": null,
      "id": "1a92d832",
      "metadata": {
        "id": "1a92d832"
      },
      "outputs": [],
      "source": [
        "def media_harmonica(x: list) -> float:\n",
        "    N = len(x)\n",
        "    soma = 0\n",
        "    for xi in x:\n",
        "        soma = soma+(1/xi)\n",
        "    media = N/soma\n",
        "    return(media)"
      ]
    },
    {
      "cell_type": "code",
      "execution_count": null,
      "id": "dd987585",
      "metadata": {
        "colab": {
          "base_uri": "https://localhost:8080/"
        },
        "id": "dd987585",
        "outputId": "ef67f942-f98f-4a56-97ab-9f999d64a188"
      },
      "outputs": [],
      "source": [
        "media_harmonica(x)"
      ]
    },
    {
      "cell_type": "markdown",
      "id": "799c77bd",
      "metadata": {
        "id": "799c77bd"
      },
      "source": [
        "## Exercício 2\n",
        "\n",
        "Faça uma função em Python em uma célula do Jupyter Notebook para calcular a média ponderada.\n",
        "\n",
        "Ela deve receber dois vetores (listas) como entrada.\n",
        "\n",
        "Use o mesmo x do exercício anterior com os pesos w = [113, 88, 58, 65, 71, 46, 36, 33, 37, 40, 24, 21, 20, 15, 20]"
      ]
    },
    {
      "cell_type": "code",
      "execution_count": null,
      "id": "xRP3aj0lCoMG",
      "metadata": {
        "id": "xRP3aj0lCoMG"
      },
      "outputs": [],
      "source": [
        "assert 2 == 2, \"Tá errado!\""
      ]
    },
    {
      "cell_type": "code",
      "execution_count": null,
      "id": "f8fe260b",
      "metadata": {},
      "outputs": [],
      "source": [
        "w = [113, 88, 58, 65, 71, 46, 36, 33, 37, 40, 24, 21, 20, 15, 20]"
      ]
    },
    {
      "cell_type": "code",
      "execution_count": null,
      "id": "b7ba9cf4",
      "metadata": {
        "id": "b7ba9cf4"
      },
      "outputs": [],
      "source": [
        "def media_ponderada(x: list, w: list) -> float:\n",
        "\n",
        "    assert len(x) == len(w), \"Os vetores não tem o mesmo tamanho!\"\n",
        "    # if len(x) == len(w):\n",
        "    soma_xw = 0\n",
        "    soma_w = 0\n",
        "    for i in range(0, len(x)):\n",
        "        soma_xw = soma_xw + x[i] * w[i]\n",
        "        soma_w = soma_w + w[i]\n",
        "    media = soma_xw / soma_w\n",
        "    # else:\n",
        "    #     print(\"Os vetores não tem o mesmo tamanho!\")\n",
        "    #     media = 0\n",
        "\n",
        "    return(media)"
      ]
    },
    {
      "cell_type": "code",
      "execution_count": null,
      "id": "52336c1a",
      "metadata": {
        "id": "52336c1a"
      },
      "outputs": [],
      "source": [
        "# Entradas\n",
        "x = [39, 38, 27, 22, 20, 17, 10, 10, 10, 10, 7, 7, 7, 7]\n",
        "w = [113, 88, 58, 65, 71, 46, 36, 33, 37, 40, 24, 21, 20, 15, 20]"
      ]
    },
    {
      "cell_type": "code",
      "execution_count": null,
      "id": "AACs0b_e_N9a",
      "metadata": {
        "colab": {
          "base_uri": "https://localhost:8080/"
        },
        "id": "AACs0b_e_N9a",
        "outputId": "b191108b-f137-4b1f-bcdc-50217cbfb72d"
      },
      "outputs": [],
      "source": [
        "len(x), len(w)"
      ]
    },
    {
      "cell_type": "code",
      "execution_count": null,
      "id": "838a7635",
      "metadata": {
        "colab": {
          "base_uri": "https://localhost:8080/",
          "height": 274
        },
        "id": "838a7635",
        "outputId": "ac145461-cf8d-43bb-9ce0-946ad3a7ca35"
      },
      "outputs": [],
      "source": [
        "media_ponderada(x, w)"
      ]
    },
    {
      "cell_type": "markdown",
      "id": "95068091",
      "metadata": {
        "id": "95068091"
      },
      "source": [
        "## Exercício 3\n",
        "\n",
        "Faça uma função em Python em uma célula do Jupyter Notebook para calcular a **moda** e a **mediana**.\n",
        "\n",
        "Para testar, use como entrada x = [39, 38, 27, 22, 20, 17, 10, 10, 10, 10, 7, 7, 7, 7, 6]"
      ]
    },
    {
      "cell_type": "code",
      "execution_count": null,
      "id": "j0B0K4vhj9iM",
      "metadata": {
        "id": "j0B0K4vhj9iM"
      },
      "outputs": [],
      "source": [
        "def media_aritmetica(x: list) -> float:\n",
        "    N = len(x)\n",
        "    soma = 0\n",
        "    for xi in x:\n",
        "        soma += xi\n",
        "    media = soma / N\n",
        "    return media\n"
      ]
    },
    {
      "cell_type": "code",
      "execution_count": null,
      "id": "tH7teWP5Ay2N",
      "metadata": {
        "id": "tH7teWP5Ay2N"
      },
      "outputs": [],
      "source": [
        "x = [27, 22, 20, 17, 10, 10, 10, 10, 7, 7]"
      ]
    },
    {
      "cell_type": "code",
      "execution_count": null,
      "id": "lhTiVjAOjLMs",
      "metadata": {
        "colab": {
          "base_uri": "https://localhost:8080/"
        },
        "id": "lhTiVjAOjLMs",
        "outputId": "78e11b7e-dbd5-4d0c-db25-a769f342a6a8"
      },
      "outputs": [],
      "source": [
        "x.sort()\n",
        "len(x), x"
      ]
    },
    {
      "cell_type": "code",
      "execution_count": null,
      "id": "f832bd8a",
      "metadata": {
        "id": "f832bd8a"
      },
      "outputs": [],
      "source": [
        "def mediana(x):\n",
        "    x.sort()  #Para ordenar\n",
        "    N = len(x)\n",
        "    #print(N)\n",
        "    if N % 2 == 0: # Operacao resto para descobrir se N é par (se o resto é zero ao dividir por 2, entao é par)\n",
        "        a = int(N / 2-1)\n",
        "        b = int(N / 2)\n",
        "        #print('posicoes do vetor consideradas',a,b)\n",
        "        mediana = (x[a] + x[b]) / 2\n",
        "    else: # É impar\n",
        "        # string é um vetor de caracteres\n",
        "        a = int(str(N / 2)[0])\n",
        "        #print(a)\n",
        "        mediana = x[a]\n",
        "    return(mediana)"
      ]
    },
    {
      "cell_type": "code",
      "execution_count": null,
      "id": "xbRqe1eEA0D-",
      "metadata": {
        "colab": {
          "base_uri": "https://localhost:8080/"
        },
        "id": "xbRqe1eEA0D-",
        "outputId": "f330b7e2-b2f5-407b-ee09-128a3ee3a593"
      },
      "outputs": [],
      "source": [
        "mediana(x)"
      ]
    },
    {
      "cell_type": "code",
      "execution_count": null,
      "id": "1c0ba052",
      "metadata": {
        "id": "1c0ba052"
      },
      "outputs": [],
      "source": [
        "def moda(x):\n",
        "    temp = 2  # Uma variavel temporaria para armazenar a maior frequencia que um valor aparece\n",
        "    moda=[]   # Vetor para armazenar diferentes valores possiveis para moda\n",
        "    for xi in x: # Vamos percorrer todo o vetor x\n",
        "        frequencia = x.count(xi)  # Conta quantas vezes um determinado valor xi aparece no vetor x\n",
        "        if frequencia >= temp:\n",
        "            if frequencia > temp:\n",
        "                moda = []\n",
        "            temp = frequencia\n",
        "            if xi not in moda:\n",
        "                moda.append(xi)\n",
        "    return(moda)"
      ]
    },
    {
      "cell_type": "code",
      "execution_count": null,
      "id": "sdt_NN_3hnQV",
      "metadata": {
        "id": "sdt_NN_3hnQV"
      },
      "outputs": [],
      "source": [
        "import pandas as pd\n",
        "import numpy as np"
      ]
    },
    {
      "cell_type": "code",
      "execution_count": null,
      "id": "ytWGln3aknki",
      "metadata": {
        "colab": {
          "base_uri": "https://localhost:8080/",
          "height": 676
        },
        "id": "ytWGln3aknki",
        "outputId": "2577fe0f-5380-458d-b27f-f7409e507743"
      },
      "outputs": [],
      "source": [
        "#Cria o DataFrame\n",
        "df = pd.DataFrame([x for x in range(2, 100, 5)], columns=[\"X\"])\n",
        "df"
      ]
    },
    {
      "cell_type": "code",
      "execution_count": null,
      "id": "Q4ZmJNuZlnud",
      "metadata": {
        "colab": {
          "base_uri": "https://localhost:8080/",
          "height": 676
        },
        "id": "Q4ZmJNuZlnud",
        "outputId": "8d3d1c1a-6225-41fa-b4dd-de3fe091e9b9"
      },
      "outputs": [],
      "source": [
        "# Média Aritmética\n",
        "df[\"média\"] = df[\"X\"].mean()\n",
        "df"
      ]
    },
    {
      "cell_type": "code",
      "execution_count": null,
      "id": "xreraKZUltsq",
      "metadata": {
        "colab": {
          "base_uri": "https://localhost:8080/",
          "height": 676
        },
        "id": "xreraKZUltsq",
        "outputId": "fb38e399-524d-4c3d-d35a-906f7355a94e"
      },
      "outputs": [],
      "source": [
        "df[\"diff\"] = df[\"X\"] - df[\"média\"]\n",
        "df"
      ]
    },
    {
      "cell_type": "code",
      "execution_count": null,
      "id": "CIIFc-Fnl05z",
      "metadata": {
        "colab": {
          "base_uri": "https://localhost:8080/",
          "height": 676
        },
        "id": "CIIFc-Fnl05z",
        "outputId": "a77e14bf-f8ef-4e63-f8cc-6ba2283ad81a"
      },
      "outputs": [],
      "source": [
        "df[\"square\"] = df[\"diff\"] ** 2\n",
        "df"
      ]
    },
    {
      "cell_type": "code",
      "execution_count": null,
      "id": "8W82RnQphpRN",
      "metadata": {
        "colab": {
          "base_uri": "https://localhost:8080/",
          "height": 206
        },
        "id": "8W82RnQphpRN",
        "outputId": "86e7a127-590d-4495-d9d6-79809862b664"
      },
      "outputs": [],
      "source": [
        "# Desvio Padrão\n",
        "df[\"std\"] = np.sqrt(df[\"square\"].sum() / df.shape[0])\n",
        "df[\"std2\"] = df[\"X\"].std() # O Desvio Padrão do pandas utiliza N-1 em sua divisão, por isso o valor ajustado é maior que os demais\n",
        "df[\"std3\"] = df[\"X\"].std(ddof=0)\n",
        "df[\"std4\"] = np.std(df[\"X\"])\n",
        "\n",
        "df.head()"
      ]
    },
    {
      "cell_type": "markdown",
      "id": "ca442181",
      "metadata": {
        "id": "ca442181"
      },
      "source": [
        "## Exercício 4\n",
        "\n",
        "Faça funções para calcular a variância amostral, variância populacional, desvio padrão amostral, desvio padrão populacional e incerteza da média."
      ]
    },
    {
      "cell_type": "code",
      "execution_count": null,
      "id": "43a48abf",
      "metadata": {
        "id": "43a48abf"
      },
      "outputs": [],
      "source": [
        "x = [39, 38, 27, 22, 20, 17, 10, 10, 10, 10, 7, 7, 7, 7, 6]"
      ]
    },
    {
      "cell_type": "code",
      "execution_count": null,
      "id": "ec7482fe",
      "metadata": {
        "id": "ec7482fe"
      },
      "outputs": [],
      "source": [
        "def variancia_amostral(x):\n",
        "    media = media_aritmetica(x)\n",
        "    N = len(x)\n",
        "    soma = 0\n",
        "    for xi in x:\n",
        "        soma = soma+(xi-media)**2\n",
        "    variancia = soma/(N-1)\n",
        "    return(variancia)"
      ]
    },
    {
      "cell_type": "code",
      "execution_count": null,
      "id": "cf62d4b7",
      "metadata": {
        "id": "cf62d4b7"
      },
      "outputs": [],
      "source": [
        "def variancia_populacional(x):\n",
        "    media = media_aritmetica(x)\n",
        "    N = len(x)\n",
        "    soma=0\n",
        "    for xi in x:\n",
        "        soma = soma+(xi-media)**2\n",
        "    variancia = soma/N\n",
        "    return(variancia)"
      ]
    },
    {
      "cell_type": "code",
      "execution_count": null,
      "id": "19a65c21",
      "metadata": {
        "id": "19a65c21"
      },
      "outputs": [],
      "source": [
        "def desvio_padrao_populacional(x):\n",
        "    desvio_padrao = variancia_populacional(x)**(1/2) # Tirar raiz quadrada é a mesma coisa do que elevar a meio\n",
        "    return(desvio_padrao)"
      ]
    },
    {
      "cell_type": "code",
      "execution_count": null,
      "id": "e8e042af",
      "metadata": {
        "id": "e8e042af"
      },
      "outputs": [],
      "source": [
        "def desvio_padrao_amostral(x):\n",
        "    desvio_padrao = variancia_amostral(x)**(1/2) # Tirar raiz quadrada é a mesma coisa do que elevar a meio\n",
        "    return(desvio_padrao)"
      ]
    },
    {
      "cell_type": "markdown",
      "id": "M0n-O4YgGyyo",
      "metadata": {
        "id": "M0n-O4YgGyyo"
      },
      "source": [
        "# Incerteza da Média\n",
        "\n",
        "A **incerteza da média** (ou erro padrão da média) é uma medida que quantifica a precisão com a qual a média de uma amostra estima a média da população. Ela leva em consideração tanto a variabilidade dos dados quanto o tamanho da amostra.\n",
        "\n",
        "## Fórmula para Incerteza da Média\n",
        "\n",
        "A incerteza da média ( $\\sigma_{\\bar{x}} $) é dada pela seguinte fórmula:\n",
        "\n",
        "$$\n",
        "\\sigma_{\\bar{x}} = \\frac{\\sigma}{\\sqrt{n}}\n",
        "$$\n",
        "\n",
        "Onde:\n",
        "\n",
        "- ( $\\sigma_{\\bar{x}} $) é a incerteza da média (ou erro padrão da média).\n",
        "- ( $\\sigma $) é o desvio padrão da amostra.\n",
        "- ( $n $) é o tamanho da amostra.\n",
        "\n",
        "### 1. Desvio Padrão da Amostra $( \\sigma )$\n",
        "\n",
        "O desvio padrão ($ \\sigma $) é uma medida da dispersão dos dados em torno da média da amostra e é calculado como:\n",
        "\n",
        "$$\n",
        "\\sigma = \\sqrt{\\frac{1}{n-1} \\sum_{i=1}^{n} (x_i - \\bar{x})^2}\n",
        "$$\n",
        "\n",
        "Onde:\n",
        "\n",
        "- ( $x_i $) é o ($ i $)-ésimo valor da amostra.\n",
        "- ( $\\bar{x} $) é a média da amostra.\n",
        "- ( $n $) é o número de observações na amostra.\n",
        "\n",
        "### 2. Incerteza da Média ( $\\sigma_{\\bar{x}} $)\n",
        "\n",
        "A incerteza da média é então obtida dividindo o desvio padrão ($ \\sigma $) pela raiz quadrada do número de observações ( $n $).\n",
        "\n",
        "## Interpretação\n",
        "\n",
        "- **Redução da Incerteza**: À medida que o tamanho da amostra ($ n $) aumenta, a incerteza da média ( $\\sigma_{\\bar{x}} $) diminui, indicando que a média da amostra é uma estimativa mais precisa da média da população.\n",
        "- **Variabilidade dos Dados**: Se a variabilidade dos dados (medida pelo desvio padrão ( $\\sigma $)) for alta, a incerteza da média também será maior, refletindo uma menor precisão da média como estimativa.\n",
        "\n",
        "### Exemplo de Cálculo\n",
        "\n",
        "Suponha que você tenha uma amostra com ($ n = 25 $) observações e um desvio padrão ( $\\sigma = 10 $):\n",
        "\n",
        "1. **Calcule a Incerteza da Média**:\n",
        "\n",
        "$$\n",
        "\\sigma_{\\bar{x}} = \\frac{10}{\\sqrt{25}} = \\frac{10}{5} = 2\n",
        "$$\n",
        "\n",
        "Portanto, a incerteza da média é ($ \\sigma_{\\bar{x}} = 2 $).\n",
        "\n",
        "### Aplicações\n",
        "\n",
        "- **Ciência e Engenharia**: A incerteza da média é amplamente utilizada para reportar a precisão das medições experimentais.\n",
        "- **Estatística**: Ajuda a construir intervalos de confiança para a média da população com base em uma amostra.\n",
        "- **Economia e Finanças**: Usada para avaliar a precisão das médias amostrais em estudos de mercado e pesquisas financeiras.\n"
      ]
    },
    {
      "cell_type": "code",
      "execution_count": null,
      "id": "edc90565",
      "metadata": {
        "id": "edc90565"
      },
      "outputs": [],
      "source": [
        "def incerteza_media(x):\n",
        "    N = len(x)\n",
        "    media = media_aritmetica(x)\n",
        "    soma=0\n",
        "    for xi in x:\n",
        "        soma = soma+(xi-media)**2\n",
        "    sem = (soma/(N*(N-1)))**(1/2)\n",
        "    return(sem)"
      ]
    },
    {
      "cell_type": "code",
      "execution_count": null,
      "id": "f1c72451",
      "metadata": {
        "id": "f1c72451"
      },
      "outputs": [],
      "source": [
        "variancia_amostral(x)"
      ]
    },
    {
      "cell_type": "code",
      "execution_count": null,
      "id": "1df16186",
      "metadata": {
        "id": "1df16186"
      },
      "outputs": [],
      "source": [
        "variancia_populacional(x)"
      ]
    },
    {
      "cell_type": "code",
      "execution_count": null,
      "id": "842218a8",
      "metadata": {
        "id": "842218a8"
      },
      "outputs": [],
      "source": [
        "desvio_padrao_populacional(x)"
      ]
    },
    {
      "cell_type": "code",
      "execution_count": null,
      "id": "1391b737",
      "metadata": {
        "id": "1391b737"
      },
      "outputs": [],
      "source": [
        "desvio_padrao_amostral(x)"
      ]
    },
    {
      "cell_type": "code",
      "execution_count": null,
      "id": "557d09b2",
      "metadata": {
        "id": "557d09b2"
      },
      "outputs": [],
      "source": [
        "incerteza_media(x)"
      ]
    },
    {
      "cell_type": "markdown",
      "id": "35f42f91",
      "metadata": {
        "id": "35f42f91"
      },
      "source": [
        "---------------------"
      ]
    },
    {
      "cell_type": "markdown",
      "id": "915acf26",
      "metadata": {
        "id": "915acf26"
      },
      "source": [
        "## Exercício 5\n",
        "Refaça os exercícios anteriores usando as funções prontas de estatística do Numpy.\n",
        "\n",
        "Você pode ver como usá-las aqui: https://numpy.org/doc/stable/reference/routines.statistics.html"
      ]
    },
    {
      "cell_type": "code",
      "execution_count": null,
      "id": "f20kjYffmLlA",
      "metadata": {
        "colab": {
          "base_uri": "https://localhost:8080/"
        },
        "id": "f20kjYffmLlA",
        "outputId": "434af193-05d8-409a-c8d1-83bfe8de98f4"
      },
      "outputs": [],
      "source": [
        "!pip install numpy"
      ]
    },
    {
      "cell_type": "code",
      "execution_count": null,
      "id": "bb1b2d0a",
      "metadata": {
        "id": "bb1b2d0a"
      },
      "outputs": [],
      "source": [
        "import numpy as np"
      ]
    },
    {
      "cell_type": "code",
      "execution_count": null,
      "id": "ecc6233a",
      "metadata": {
        "id": "ecc6233a"
      },
      "outputs": [],
      "source": [
        "# Entradas\n",
        "x = [39, 38, 27, 22, 20, 17, 10, 10, 10, 10, 7, 7, 7, 7, 6]\n",
        "w = [113, 88, 58, 65, 71, 46, 36, 33, 37, 40, 24, 21, 20, 15, 20]"
      ]
    },
    {
      "cell_type": "code",
      "execution_count": null,
      "id": "3d74129a",
      "metadata": {
        "colab": {
          "base_uri": "https://localhost:8080/"
        },
        "id": "3d74129a",
        "outputId": "7d247c05-94d5-4558-9fae-9b89f31b3699"
      },
      "outputs": [],
      "source": [
        "# Media\n",
        "[\n",
        "      np.mean(x)\n",
        "    , np.average(x, weights=w)\n",
        "    , np.median(x)\n",
        "    , np.var(x)\n",
        "    , np.std(x)\n",
        "    ]\n"
      ]
    },
    {
      "cell_type": "code",
      "execution_count": null,
      "id": "dc02c687",
      "metadata": {
        "id": "dc02c687"
      },
      "outputs": [],
      "source": [
        "# Media geometrica\n",
        "# Nao tem"
      ]
    },
    {
      "cell_type": "code",
      "execution_count": null,
      "id": "b69367dc",
      "metadata": {
        "id": "b69367dc"
      },
      "outputs": [],
      "source": [
        "# Média Harmonica\n",
        "# nao tem"
      ]
    },
    {
      "cell_type": "code",
      "execution_count": null,
      "id": "138f539b",
      "metadata": {
        "id": "138f539b"
      },
      "outputs": [],
      "source": [
        "# Média Ponderada\n",
        "np.average(x, weights=w)"
      ]
    },
    {
      "cell_type": "code",
      "execution_count": null,
      "id": "95015e59",
      "metadata": {
        "id": "95015e59"
      },
      "outputs": [],
      "source": [
        "# Mediana\n",
        "np.median(x)"
      ]
    },
    {
      "cell_type": "code",
      "execution_count": null,
      "id": "d7671add",
      "metadata": {
        "id": "d7671add"
      },
      "outputs": [],
      "source": [
        "# Moda\n",
        "# nao tem"
      ]
    },
    {
      "cell_type": "code",
      "execution_count": null,
      "id": "9165f86e",
      "metadata": {
        "id": "9165f86e"
      },
      "outputs": [],
      "source": [
        "# Variancia populacional\n",
        "np.var(x)"
      ]
    },
    {
      "cell_type": "code",
      "execution_count": null,
      "id": "93b7a572",
      "metadata": {
        "id": "93b7a572"
      },
      "outputs": [],
      "source": [
        "# Variancia amostral\n",
        "# nao tem ***"
      ]
    },
    {
      "cell_type": "code",
      "execution_count": null,
      "id": "56b7ad59",
      "metadata": {
        "id": "56b7ad59"
      },
      "outputs": [],
      "source": [
        "# Desvio padrao populacional\n",
        "np.std(x)"
      ]
    },
    {
      "cell_type": "code",
      "execution_count": null,
      "id": "f0a1a73a",
      "metadata": {
        "id": "f0a1a73a"
      },
      "outputs": [],
      "source": [
        "# Desvio padrao amostral\n",
        "# nao tem *"
      ]
    },
    {
      "cell_type": "code",
      "execution_count": null,
      "id": "c4ef7ae8",
      "metadata": {
        "id": "c4ef7ae8"
      },
      "outputs": [],
      "source": [
        "# Incerteza da media\n",
        "# nao tem"
      ]
    },
    {
      "cell_type": "markdown",
      "id": "72b90bbd",
      "metadata": {
        "id": "72b90bbd"
      },
      "source": [
        "## Exercício 6\n",
        "\n",
        "Alguma função você não encontrou pronta no Numpy?\n",
        "\n",
        "Procure na internet outra biblioteca que já tenha a função implementada.\n",
        "\n",
        "Instale (pip install) (se for necessário) e teste para as mesmas entradas"
      ]
    },
    {
      "cell_type": "code",
      "execution_count": null,
      "id": "9625d8ab",
      "metadata": {
        "id": "9625d8ab"
      },
      "outputs": [],
      "source": [
        "import statistics"
      ]
    },
    {
      "cell_type": "code",
      "execution_count": null,
      "id": "e832ab85",
      "metadata": {
        "colab": {
          "base_uri": "https://localhost:8080/"
        },
        "id": "e832ab85",
        "outputId": "3c8af9d6-db25-4908-d6e3-4208075eb30b"
      },
      "outputs": [],
      "source": [
        "# Media geometrica\n",
        "statistics.geometric_mean(x)"
      ]
    },
    {
      "cell_type": "code",
      "execution_count": null,
      "id": "c26c2e05",
      "metadata": {
        "colab": {
          "base_uri": "https://localhost:8080/"
        },
        "id": "c26c2e05",
        "outputId": "57830931-43b8-4af2-cbcc-4259a04f378a"
      },
      "outputs": [],
      "source": [
        "# Media harmonica\n",
        "statistics.harmonic_mean(x)"
      ]
    },
    {
      "cell_type": "code",
      "execution_count": null,
      "id": "086143ff",
      "metadata": {
        "colab": {
          "base_uri": "https://localhost:8080/"
        },
        "id": "086143ff",
        "outputId": "fe426f13-8e4c-4caa-b67e-1f32fb2baa83"
      },
      "outputs": [],
      "source": [
        "statistics.mode(x)"
      ]
    },
    {
      "cell_type": "code",
      "execution_count": null,
      "id": "46b2efb0",
      "metadata": {
        "colab": {
          "base_uri": "https://localhost:8080/"
        },
        "id": "46b2efb0",
        "outputId": "6db5d10c-934f-4021-a969-4cbcc4f6a9e3"
      },
      "outputs": [],
      "source": [
        "# Moda\n",
        "statistics.multimode(x)"
      ]
    },
    {
      "cell_type": "code",
      "execution_count": null,
      "id": "a09fc3af",
      "metadata": {
        "colab": {
          "base_uri": "https://localhost:8080/"
        },
        "id": "a09fc3af",
        "outputId": "287d3188-44b6-4dcc-b30c-65a8bde7a4fd"
      },
      "outputs": [],
      "source": [
        "# Variancia amostral\n",
        "statistics.variance(x)"
      ]
    },
    {
      "cell_type": "code",
      "execution_count": null,
      "id": "d4bf76a4",
      "metadata": {
        "colab": {
          "base_uri": "https://localhost:8080/"
        },
        "id": "d4bf76a4",
        "outputId": "c91b94fc-001a-462c-b1c5-68d123d68546"
      },
      "outputs": [],
      "source": [
        "# Desvio padrao amostral\n",
        "statistics.stdev(x)"
      ]
    },
    {
      "cell_type": "code",
      "execution_count": null,
      "id": "38a0262e",
      "metadata": {
        "id": "38a0262e"
      },
      "outputs": [],
      "source": [
        "#import scipy\n",
        "from scipy import stats"
      ]
    },
    {
      "cell_type": "code",
      "execution_count": null,
      "id": "f18eb8a4",
      "metadata": {
        "colab": {
          "base_uri": "https://localhost:8080/"
        },
        "id": "f18eb8a4",
        "outputId": "2ccea108-8e02-46f7-dddd-c2b4cbd854ca"
      },
      "outputs": [],
      "source": [
        "# Incerteza da media\n",
        "stats.sem(x)"
      ]
    },
    {
      "cell_type": "markdown",
      "id": "7e0dc8e4",
      "metadata": {
        "id": "7e0dc8e4"
      },
      "source": [
        "## Exercício 7\n",
        "\n",
        "Faça uma comparação de desempenho das funções testadas usando um vetor de 100 mil valores aleatórios entre 0 e 99. Use o timeit."
      ]
    },
    {
      "cell_type": "code",
      "execution_count": null,
      "id": "7caa624c",
      "metadata": {
        "colab": {
          "base_uri": "https://localhost:8080/"
        },
        "id": "7caa624c",
        "outputId": "26f56daf-4f71-43b3-ccbf-20361bb86fca"
      },
      "outputs": [],
      "source": [
        "int(100*9.99801427e-01)"
      ]
    },
    {
      "cell_type": "code",
      "execution_count": null,
      "id": "f9c8653a",
      "metadata": {
        "id": "f9c8653a"
      },
      "outputs": [],
      "source": [
        "# Criando um vetor com muitas posicoes\n",
        "\n",
        "y = [int(yi*100) for yi in np.random.rand(10**3)]"
      ]
    },
    {
      "cell_type": "code",
      "execution_count": null,
      "id": "28078044",
      "metadata": {
        "colab": {
          "base_uri": "https://localhost:8080/"
        },
        "id": "28078044",
        "outputId": "97c6551d-9b5f-459a-db91-2c48da2a2277"
      },
      "outputs": [],
      "source": [
        "len(y)"
      ]
    },
    {
      "cell_type": "code",
      "execution_count": null,
      "id": "7cb2387a",
      "metadata": {
        "colab": {
          "base_uri": "https://localhost:8080/"
        },
        "id": "7cb2387a",
        "outputId": "05f78d7f-fa97-4eb4-c775-5e72e0011032"
      },
      "outputs": [],
      "source": [
        "%timeit -n 10 media_aritmetica(y)"
      ]
    },
    {
      "cell_type": "code",
      "execution_count": null,
      "id": "f87f919e",
      "metadata": {
        "colab": {
          "base_uri": "https://localhost:8080/"
        },
        "id": "f87f919e",
        "outputId": "4497fc99-9e04-4383-a951-600a14326436"
      },
      "outputs": [],
      "source": [
        "%timeit -n 10 np.mean(y)"
      ]
    },
    {
      "cell_type": "code",
      "execution_count": null,
      "id": "d8444873",
      "metadata": {
        "colab": {
          "base_uri": "https://localhost:8080/"
        },
        "id": "d8444873",
        "outputId": "85509171-f717-40d6-ee4a-7f2c4ccd21d1"
      },
      "outputs": [],
      "source": [
        "%timeit -n 10 moda(y)"
      ]
    },
    {
      "cell_type": "code",
      "execution_count": null,
      "id": "48f8681e",
      "metadata": {
        "colab": {
          "base_uri": "https://localhost:8080/"
        },
        "id": "48f8681e",
        "outputId": "6cd651d3-93bb-45b7-ad75-4bfdbe98e5da"
      },
      "outputs": [],
      "source": [
        "%timeit -n 10 statistics.multimode(y)"
      ]
    },
    {
      "cell_type": "code",
      "execution_count": null,
      "id": "b8ce150d",
      "metadata": {
        "colab": {
          "base_uri": "https://localhost:8080/"
        },
        "id": "b8ce150d",
        "outputId": "5ef9e928-1b80-4e49-f556-c6cc2c1be78d"
      },
      "outputs": [],
      "source": [
        "%timeit -n 10 stats.mode(y)"
      ]
    },
    {
      "cell_type": "code",
      "execution_count": null,
      "id": "deb21f85",
      "metadata": {
        "id": "deb21f85"
      },
      "outputs": [],
      "source": [
        "import pandas as pd"
      ]
    },
    {
      "cell_type": "code",
      "execution_count": null,
      "id": "4f3946e9",
      "metadata": {},
      "outputs": [],
      "source": []
    },
    {
      "cell_type": "code",
      "execution_count": null,
      "id": "68eb0655",
      "metadata": {},
      "outputs": [],
      "source": [
        "df = pd.read_csv('datasets\\data_fifa2019.csv')\n",
        "df.head()"
      ]
    },
    {
      "cell_type": "code",
      "execution_count": null,
      "id": "f7e5cb16",
      "metadata": {},
      "outputs": [],
      "source": [
        "df.columns"
      ]
    },
    {
      "cell_type": "code",
      "execution_count": null,
      "id": "61173b96",
      "metadata": {},
      "outputs": [],
      "source": [
        "df.drop(columns=['Unnamed: 0'])"
      ]
    },
    {
      "cell_type": "code",
      "execution_count": null,
      "id": "4a5899a9",
      "metadata": {},
      "outputs": [],
      "source": [
        "df.drop(columns=['Unnamed: 0'], inplace=True)"
      ]
    },
    {
      "cell_type": "code",
      "execution_count": null,
      "id": "1180dacd",
      "metadata": {},
      "outputs": [],
      "source": [
        "df.head()"
      ]
    },
    {
      "cell_type": "code",
      "execution_count": null,
      "id": "3cd5acaf",
      "metadata": {},
      "outputs": [],
      "source": [
        "df.Finishing.mean()"
      ]
    },
    {
      "cell_type": "code",
      "execution_count": null,
      "id": "9a7caac3",
      "metadata": {},
      "outputs": [],
      "source": [
        "df.Finishing.median()"
      ]
    },
    {
      "cell_type": "code",
      "execution_count": null,
      "id": "d73cc2b4",
      "metadata": {},
      "outputs": [],
      "source": [
        "df['Release Clause'].mean()"
      ]
    },
    {
      "cell_type": "code",
      "execution_count": null,
      "id": "f6842835",
      "metadata": {},
      "outputs": [],
      "source": [
        "df.dtypes"
      ]
    },
    {
      "cell_type": "code",
      "execution_count": null,
      "id": "2e509c92",
      "metadata": {},
      "outputs": [],
      "source": [
        "df[\"Release Clause\"]"
      ]
    }
  ],
  "metadata": {
    "colab": {
      "provenance": []
    },
    "kernelspec": {
      "display_name": "Python 3",
      "language": "python",
      "name": "python3"
    },
    "language_info": {
      "codemirror_mode": {
        "name": "ipython",
        "version": 3
      },
      "file_extension": ".py",
      "mimetype": "text/x-python",
      "name": "python",
      "nbconvert_exporter": "python",
      "pygments_lexer": "ipython3",
      "version": "3.13.2"
    }
  },
  "nbformat": 4,
  "nbformat_minor": 5
}
