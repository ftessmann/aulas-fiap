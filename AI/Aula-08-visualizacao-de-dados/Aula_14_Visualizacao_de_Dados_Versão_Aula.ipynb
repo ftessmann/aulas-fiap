{
  "cells": [
    {
      "cell_type": "markdown",
      "id": "93dd810a",
      "metadata": {
        "id": "93dd810a"
      },
      "source": [
        "# Aula 14 - Visualização de Dados\n",
        "\n",
        "Nesta aula iremos aprender a plotar gráficos utilizando bibliotecas Python.\n",
        "\n",
        "Além de olhar na documentação das bibliotecas como fazer aquilo que queremos precisamos treinar nossa capacidade analítica para entender gráficos e saber propor as melhores visualizações.\n",
        "\n"
      ]
    },
    {
      "cell_type": "code",
      "execution_count": null,
      "id": "17594dc7",
      "metadata": {
        "id": "17594dc7"
      },
      "outputs": [],
      "source": [
        "import math\n",
        "import numpy as np               # Para trabalhar com números, vetores, matrizes e funções matemáticas\n",
        "import matplotlib.pyplot as plt  # Para trabalhar com gráficos"
      ]
    },
    {
      "cell_type": "code",
      "execution_count": null,
      "id": "1762dff9",
      "metadata": {
        "id": "1762dff9"
      },
      "outputs": [],
      "source": [
        "# @title Função Geradora de Dados\n",
        "\n",
        "# Essa parte pode não mostrar\n",
        "# Definindo uma função linear arbitraria (perceba que a=4 e b=5)\n",
        "def func_linear(x): return(4*x-5)\n",
        "\n",
        "x = np.array([i for i in range(-50, 50)])\n",
        "\n",
        "## Adicionando um ruído branco nos dados\n",
        "mean_noise = 0\n",
        "sigma_x = 25\n",
        "y = func_linear(x) + np.random.normal(mean_noise, sigma_x, len(x))\n",
        "\n",
        "# Definindo uma função quadrática (perceba que a=0.5 e b=-5 e c=50)\n",
        "def func_quadratica(x): return(0.5*x**2-5*x+50)\n",
        "\n",
        "## Adicionando um ruído branco nos dados\n",
        "mean_noise = 0\n",
        "sigma_x = 25\n",
        "z = func_quadratica(x) + np.random.normal(mean_noise, sigma_x, len(x))\n",
        "\n",
        "linhas = [str(int(x[i]))+';'+str(int(y[i]))+';'+str(int(z[i]))+'\\n' for i in range(0, len(x))]\n",
        "\n",
        "with open('dados1.txt', 'w') as file:\n",
        "    file.writelines(linhas)\n"
      ]
    },
    {
      "cell_type": "code",
      "execution_count": null,
      "id": "pFO572bgGNxf",
      "metadata": {
        "id": "pFO572bgGNxf"
      },
      "outputs": [],
      "source": [
        "linhas"
      ]
    },
    {
      "cell_type": "code",
      "execution_count": null,
      "id": "L1OSnzcEFoj8",
      "metadata": {
        "colab": {
          "base_uri": "https://localhost:8080/"
        },
        "id": "L1OSnzcEFoj8",
        "outputId": "a15c7276-d8c2-45b2-97ff-3ddbe1a000fd"
      },
      "outputs": [],
      "source": [
        "x = np.array([i for i in range(-50, 50)])\n",
        "for i in range(0, len(x)):\n",
        "  print(i, str(int(x[i]))+';'+str(int(y[i]))+';'+str(int(z[i])))\n"
      ]
    },
    {
      "cell_type": "code",
      "execution_count": null,
      "id": "g0db6kCB8mmh",
      "metadata": {
        "id": "g0db6kCB8mmh"
      },
      "outputs": [],
      "source": [
        "# CSV = Comma separated values"
      ]
    },
    {
      "cell_type": "markdown",
      "id": "b0eae3e5",
      "metadata": {
        "id": "b0eae3e5"
      },
      "source": [
        "## Exemplo 1\n",
        "\n",
        "Carregando dados de um arquivo txt:"
      ]
    },
    {
      "cell_type": "code",
      "execution_count": null,
      "id": "17b9ea41",
      "metadata": {
        "id": "17b9ea41"
      },
      "outputs": [],
      "source": [
        "# Carregando o arquivo\n",
        "with open('dados1.txt', 'r') as file:\n",
        "    dados = file.readlines()"
      ]
    },
    {
      "cell_type": "code",
      "execution_count": null,
      "id": "Ctk9MiVl8-jB",
      "metadata": {
        "colab": {
          "base_uri": "https://localhost:8080/"
        },
        "id": "Ctk9MiVl8-jB",
        "outputId": "b9f63b34-6d50-4882-b9da-23493c2bc8a1"
      },
      "outputs": [],
      "source": [
        "for linha in dados:\n",
        "  print(linha)"
      ]
    },
    {
      "cell_type": "code",
      "execution_count": null,
      "id": "3kKPN53l9QWa",
      "metadata": {
        "colab": {
          "base_uri": "https://localhost:8080/"
        },
        "id": "3kKPN53l9QWa",
        "outputId": "299044bf-1506-4e72-d165-c33a226c090b"
      },
      "outputs": [],
      "source": [
        "linha.split(';')"
      ]
    },
    {
      "cell_type": "code",
      "execution_count": null,
      "id": "HxEItIbD9LJZ",
      "metadata": {
        "id": "HxEItIbD9LJZ"
      },
      "outputs": [],
      "source": [
        "X.append(float(linha.split(';')[0]))"
      ]
    },
    {
      "cell_type": "code",
      "execution_count": null,
      "id": "8d285e3f",
      "metadata": {
        "id": "8d285e3f"
      },
      "outputs": [],
      "source": [
        "# Passando os dados para vetores\n",
        "X:list = list()\n",
        "Y = []\n",
        "Z = []\n",
        "\n",
        "for linha in dados:\n",
        "    X.append(float(linha.split(';')[0]))\n",
        "    Y.append(float(linha.split(';')[1]))\n",
        "    Z.append(float(linha.split(';')[2].replace('\\n','')))"
      ]
    },
    {
      "cell_type": "code",
      "execution_count": null,
      "id": "kapgAHx3Z8pX",
      "metadata": {
        "colab": {
          "base_uri": "https://localhost:8080/"
        },
        "id": "kapgAHx3Z8pX",
        "outputId": "dc0dd6fb-07e0-4f57-e035-d93ebb976536"
      },
      "outputs": [],
      "source": [
        "type(X), type(Y), type(Z)"
      ]
    },
    {
      "cell_type": "code",
      "execution_count": null,
      "id": "ddaa63a7",
      "metadata": {
        "id": "ddaa63a7"
      },
      "outputs": [],
      "source": [
        "# Transformando em vetores do numpy\n",
        "x = np.array(X)\n",
        "y = np.array(Y)\n",
        "z = np.array(Z)"
      ]
    },
    {
      "cell_type": "code",
      "execution_count": null,
      "id": "CeRj3LGgaBIO",
      "metadata": {
        "colab": {
          "base_uri": "https://localhost:8080/"
        },
        "id": "CeRj3LGgaBIO",
        "outputId": "87f49672-6608-4da2-86e0-4a6790a4a1ae"
      },
      "outputs": [],
      "source": [
        "type(x), type(y), type(z)"
      ]
    },
    {
      "cell_type": "code",
      "execution_count": null,
      "id": "nUegFiuhN1AJ",
      "metadata": {
        "colab": {
          "base_uri": "https://localhost:8080/"
        },
        "id": "nUegFiuhN1AJ",
        "outputId": "75de03ba-b65d-408b-f5a3-49b468dfcdf6"
      },
      "outputs": [],
      "source": [
        "len(x), len(y), len(z)"
      ]
    },
    {
      "cell_type": "markdown",
      "id": "6e13cd8c",
      "metadata": {
        "id": "6e13cd8c"
      },
      "source": [
        "## 1.1 - Distribuição\n",
        "\n",
        "A distribuição é um gráfico de barras, bidimensional (2D), de **uma única variável**, onde o eixo X é a variável  (atributo) que se está estudando e o eixo Y é a quantidade de vezes que um determinado valor do atributo aparece nos dados.\n",
        "\n",
        "Ela é útil para nos dizer como os valores do nosso atributo estão distribuídos, se de maneira concetranda em torno de uma média ou de maneira uniforme por toda a faixa de valores. Inclusive nos permite saber se temos mais de uma média nos dados, indicando que é possível fazer uma separação dos dados."
      ]
    },
    {
      "cell_type": "code",
      "execution_count": null,
      "id": "NQKGhy1vp5os",
      "metadata": {
        "colab": {
          "base_uri": "https://localhost:8080/",
          "height": 829
        },
        "id": "NQKGhy1vp5os",
        "outputId": "0ca93753-81d7-4e47-c60e-decb638742c1"
      },
      "outputs": [],
      "source": [
        "plt.hist(z, bins=100)"
      ]
    },
    {
      "cell_type": "code",
      "execution_count": null,
      "id": "ddaa02e3",
      "metadata": {
        "colab": {
          "base_uri": "https://localhost:8080/",
          "height": 425
        },
        "id": "ddaa02e3",
        "outputId": "83c7464f-0210-406e-868c-3789ce517ab2",
        "scrolled": false
      },
      "outputs": [],
      "source": [
        "n_bins = 20\n",
        "\n",
        "fig, axs = plt.subplots(1, 4)\n",
        "\n",
        "fig.set_size_inches(12, 5)\n",
        "\n",
        "axs[0].hist(x, bins=n_bins) # Aqui estamos chamando o método .hist para plotar um histograma\n",
        "axs[1].hist(y, bins=n_bins)\n",
        "axs[2].hist(z, bins=n_bins)\n",
        "\n",
        "# Aqui estamos explicitamente dando nome aos eixos do gráfico\n",
        "axs[0].set_xlabel('x')\n",
        "axs[1].set_xlabel('y')\n",
        "axs[2].set_xlabel('z')\n",
        "\n",
        "axs[0].set_ylabel('Contagem eixo Y')\n",
        "axs[1].set_ylabel('Contagem')\n",
        "axs[2].set_ylabel('Contagem')\n",
        "\n",
        "# Colocando grid\n",
        "axs[0].grid()\n",
        "axs[1].grid()\n",
        "axs[2].grid()\n",
        "\n",
        "# Vamos aumentar a separação entre os gráficos\n",
        "plt.subplots_adjust(wspace = 0.8)\n",
        "\n",
        "# OBS: histogramas são curvas de distribuição discretas"
      ]
    },
    {
      "cell_type": "markdown",
      "id": "36f86cc0",
      "metadata": {
        "id": "36f86cc0"
      },
      "source": [
        "Vejamos como fazer o mesmo gráfico usando o Seaborn."
      ]
    },
    {
      "cell_type": "code",
      "execution_count": null,
      "id": "a52fefb1",
      "metadata": {
        "id": "a52fefb1"
      },
      "outputs": [],
      "source": [
        "import seaborn as sns"
      ]
    },
    {
      "cell_type": "code",
      "execution_count": null,
      "id": "c7Epht5sAHOF",
      "metadata": {
        "colab": {
          "base_uri": "https://localhost:8080/"
        },
        "id": "c7Epht5sAHOF",
        "outputId": "63290422-1eeb-4ccb-92f7-4754a55db63a"
      },
      "outputs": [],
      "source": [
        "n_bins"
      ]
    },
    {
      "cell_type": "code",
      "execution_count": null,
      "id": "f03a4691",
      "metadata": {
        "colab": {
          "base_uri": "https://localhost:8080/",
          "height": 566
        },
        "id": "f03a4691",
        "outputId": "22db4c43-2c8a-4f1c-affe-643c1c7b6590"
      },
      "outputs": [],
      "source": [
        "n_bins = 20\n",
        "ax = sns.displot(data=x,\n",
        "                 kde=False,\n",
        "                 facet_kws = dict(margin_titles=True, despine=False),\n",
        "                 bins=n_bins,\n",
        "                 linewidth=0.3,\n",
        "                )\n",
        "\n",
        "ax.set(xlabel='x', ylabel='Contagem', title='Distribuição')"
      ]
    },
    {
      "cell_type": "code",
      "execution_count": null,
      "id": "56fde38a",
      "metadata": {
        "colab": {
          "base_uri": "https://localhost:8080/",
          "height": 566
        },
        "id": "56fde38a",
        "outputId": "8f6f33ee-fc9d-4923-9a93-f88c7098c107"
      },
      "outputs": [],
      "source": [
        "ax = sns.displot(data=y,\n",
        "                 kind=\"hist\",\n",
        "                 kde=True,\n",
        "                 facet_kws = dict(margin_titles=True,despine=False),\n",
        "                 bins=n_bins,\n",
        "                 linewidth=0.7,\n",
        "                )\n",
        "\n",
        "ax.set(xlabel='y', ylabel='Freq', title='Distribuição')"
      ]
    },
    {
      "cell_type": "code",
      "execution_count": null,
      "id": "ecaf4136",
      "metadata": {
        "colab": {
          "base_uri": "https://localhost:8080/",
          "height": 566
        },
        "id": "ecaf4136",
        "outputId": "3cdfdd7a-0747-454e-e579-dfc7edf9af64"
      },
      "outputs": [],
      "source": [
        "ax = sns.displot(data=z,\n",
        "                 #hist=True,\n",
        "                 kde=True,\n",
        "                 facet_kws = dict(margin_titles=True, despine=False),\n",
        "                 bins=n_bins,\n",
        "                 linewidth=0.7,\n",
        "                )\n",
        "\n",
        "ax.set(xlabel='z', ylabel='Contagem', title='Distribuição')"
      ]
    },
    {
      "cell_type": "code",
      "execution_count": null,
      "id": "ljNzKDGPCJri",
      "metadata": {
        "id": "ljNzKDGPCJri"
      },
      "outputs": [],
      "source": [
        "xpto = [i ** 3 for i in range(0, 100)]"
      ]
    },
    {
      "cell_type": "code",
      "execution_count": null,
      "id": "Lur1vdzlCQui",
      "metadata": {
        "id": "Lur1vdzlCQui"
      },
      "outputs": [],
      "source": [
        "xpto_np = np.array(xpto)"
      ]
    },
    {
      "cell_type": "code",
      "execution_count": null,
      "id": "1hgtdd2zCymU",
      "metadata": {
        "id": "1hgtdd2zCymU"
      },
      "outputs": [],
      "source": [
        "xpto_np"
      ]
    },
    {
      "cell_type": "code",
      "execution_count": null,
      "id": "aaef95b4",
      "metadata": {
        "id": "aaef95b4"
      },
      "outputs": [],
      "source": [
        "sns.displot(data={'xpto': xpto_np},\n",
        "            kde=True,\n",
        "            facet_kws = dict(margin_titles=True,despine=False),\n",
        "            linewidth=0.7\n",
        "           )\n",
        "\n",
        "ax.set(xlabel='valor da variável', ylabel='Contagem', title='Distribuição')"
      ]
    },
    {
      "cell_type": "markdown",
      "id": "2747ed1a",
      "metadata": {
        "id": "2747ed1a"
      },
      "source": [
        "## 1.2 - Densidade Acumulada (ou Distribuição Acumulada)\n",
        "\n",
        "A densidade acumulada é uma forma de ver a distribuição dos dados no qual o eixo x está ordenado. No eixo y de vez de colocarmos as contagens, colocamos a proporção das contagem sendo que o total é 1 (100%)."
      ]
    },
    {
      "cell_type": "code",
      "execution_count": null,
      "id": "78e58a2e",
      "metadata": {
        "colab": {
          "base_uri": "https://localhost:8080/",
          "height": 561
        },
        "id": "78e58a2e",
        "outputId": "d8fac55e-0283-4c22-89ab-694d9b529a1b"
      },
      "outputs": [],
      "source": [
        "ax = sns.displot(data={'x':x,'y':y, 'z':z},\n",
        "            kind=\"hist\",\n",
        "            kde=True,\n",
        "            facet_kws = dict(margin_titles=False, despine=False),\n",
        "            linewidth=0.7)\n",
        "\n",
        "ax.set(xlabel='valor da variável', ylabel='Proporção do Total', title='Densidade Acumulada')"
      ]
    },
    {
      "cell_type": "markdown",
      "id": "6ba7894a",
      "metadata": {
        "id": "6ba7894a"
      },
      "source": [
        "## 1.3 - Dispersão\n",
        "\n",
        "Dispersão é um gráfico onde temos duas variáveis (atributos). Queremos saber se existe alguma relação entre elas, isto é, se um depende da outra de alguma maneira, formando algum tipo de curva matemática que possamos descobrir ou utilizar para fazer predições."
      ]
    },
    {
      "cell_type": "code",
      "execution_count": null,
      "id": "2ddc6302",
      "metadata": {
        "colab": {
          "base_uri": "https://localhost:8080/",
          "height": 377
        },
        "id": "2ddc6302",
        "outputId": "20b57679-7ce2-4881-9aa5-a21828e0f1f2"
      },
      "outputs": [],
      "source": [
        "fig, ax = plt.subplots(1,2, figsize=(16, 6))\n",
        "\n",
        "# Tamanho do gráfico\n",
        "# fig.set_size_inches(16, 6)\n",
        "\n",
        "# Plot de dispersão (scatter)\n",
        "ax[0].scatter(x, y, c='blue', alpha=0.5)\n",
        "ax[1].scatter(x, z, c='green', alpha=0.5)\n",
        "\n",
        "# Aqui estamos explicitamente dando nome aos eixos do gráfico\n",
        "ax[0].set_xlabel('x')\n",
        "ax[1].set_xlabel('x')\n",
        "ax[0].set_ylabel('y')\n",
        "ax[1].set_ylabel('z')\n",
        "\n",
        "# Colocando grid\n",
        "ax[0].grid()\n",
        "ax[1].grid()\n",
        "\n",
        "# Arrumando os limites dos gráficos\n",
        "ax[0].set_xlim([-75,75])\n",
        "ax[0].set_ylim([-250,250])\n",
        "ax[1].set_xlim([-75,75])\n",
        "ax[1].set_ylim([-600,2000])\n",
        "\n",
        "# Vamos aumentar a separação entre os gráficos\n",
        "plt.subplots_adjust(wspace = 0.25)\n",
        "\n",
        "# Aumentando o tamanho da fonte (letra)\n",
        "plt.rcParams.update({'font.size': 12})"
      ]
    },
    {
      "cell_type": "code",
      "execution_count": null,
      "id": "70474106",
      "metadata": {
        "id": "70474106"
      },
      "outputs": [],
      "source": [
        "# Fazendo ambos no mesmo plot\n",
        "\n",
        "plt.scatter(x, y, c='blue', alpha=0.5)\n",
        "plt.scatter(x, z, c='red', alpha=0.5)\n",
        "plt.xlabel('x')\n",
        "plt.ylabel('valor')\n",
        "plt.legend(['y','z'])\n",
        "plt.xlim([-75, 75])\n",
        "plt.ylim([-600,2000])\n",
        "plt.grid()"
      ]
    },
    {
      "cell_type": "code",
      "execution_count": null,
      "id": "e9e38d0d",
      "metadata": {
        "id": "e9e38d0d"
      },
      "outputs": [],
      "source": [
        "plt.scatter(y, z, c='green', alpha=0.5)\n",
        "plt.xlabel('y')\n",
        "plt.ylabel('z')\n",
        "plt.xlim([-250,250])\n",
        "plt.ylim([-600,2000])\n",
        "plt.grid()"
      ]
    },
    {
      "cell_type": "markdown",
      "id": "e4e1e86d",
      "metadata": {
        "id": "e4e1e86d"
      },
      "source": [
        "## 1.4 - Dispersão e Distribuição"
      ]
    },
    {
      "cell_type": "code",
      "execution_count": null,
      "id": "ea5b0dba",
      "metadata": {
        "colab": {
          "base_uri": "https://localhost:8080/",
          "height": 512
        },
        "id": "ea5b0dba",
        "outputId": "fc795f88-01ab-4abb-d1e0-34cd82f31dc1"
      },
      "outputs": [],
      "source": [
        "sns.jointplot(data={'x':x,'y':y, 'z':z},\n",
        "              x=\"x\",\n",
        "              y=\"y\",\n",
        "              height=5,\n",
        "              ratio=2,\n",
        "              marginal_ticks=True,\n",
        "              kind=\"reg\"\n",
        "             )"
      ]
    },
    {
      "cell_type": "code",
      "execution_count": null,
      "id": "8b2a01f8",
      "metadata": {
        "colab": {
          "base_uri": "https://localhost:8080/",
          "height": 512
        },
        "id": "8b2a01f8",
        "outputId": "5a0beb02-d898-4f91-d210-d1af53dc62e8"
      },
      "outputs": [],
      "source": [
        "sns.jointplot(data={'x':x,'y':y, 'z':z},\n",
        "              x=\"x\",\n",
        "              y=\"z\",\n",
        "              height=5,\n",
        "              ratio=2,\n",
        "              marginal_ticks=True,\n",
        "              kind=\"reg\"\n",
        "             )"
      ]
    },
    {
      "cell_type": "markdown",
      "id": "971759bb",
      "metadata": {
        "id": "971759bb"
      },
      "source": [
        "-----------------------------------"
      ]
    },
    {
      "cell_type": "code",
      "execution_count": null,
      "id": "W3_GocDentdQ",
      "metadata": {
        "colab": {
          "base_uri": "https://localhost:8080/",
          "height": 489
        },
        "id": "W3_GocDentdQ",
        "outputId": "765491ae-e55e-40d5-8a46-279c1094a163"
      },
      "outputs": [],
      "source": [
        "fig, axes = plt.subplots(1, 3, sharey='row')\n",
        "x = np.linspace(-2, 2, 20) # entre 0 e 2 com 100 quebras iguais\n",
        "\n",
        "axes[0].plot(x, x, 'r') # Linha Linear Red\n",
        "axes[0].set_title('Linear')\n",
        "axes[0].set_xlabel('eixo x')\n",
        "axes[0].set_ylabel('eixo y') # somente setando no primeiro axes\n",
        "\n",
        "axes[1].plot(x, x**2, 'g') # Linha Quadrática Green\n",
        "axes[1].set_title('Quadrática')\n",
        "axes[1].set_xlabel('eixo x')\n",
        "\n",
        "axes[2].plot(x, x**3, 'b') # Linha Cúbica Blue\n",
        "axes[2].set_title('Cúbica')\n",
        "axes[2].set_xlabel('eixo x')\n",
        "\n",
        "fig.suptitle('Este é o título da Figura!', fontsize=16)\n",
        "\n",
        "plt.tight_layout() # Ajusta o padding dos subplots\n",
        "\n",
        "plt.show()"
      ]
    },
    {
      "cell_type": "code",
      "execution_count": null,
      "id": "2BAodAyStNFV",
      "metadata": {
        "id": "2BAodAyStNFV"
      },
      "outputs": [],
      "source": []
    },
    {
      "cell_type": "markdown",
      "id": "cna20TerQ0og",
      "metadata": {
        "id": "cna20TerQ0og"
      },
      "source": [
        "# Box-Plot\n",
        "\n",
        "Um **Box-Plot**, ou diagrama de caixa, é uma representação gráfica que resume a distribuição de um conjunto de dados em termos de cinco números estatísticos: mínimo, primeiro quartil (Q1), mediana (Q2), terceiro quartil (Q3), e máximo. Ele também identifica outliers que podem estar presentes nos dados.\n",
        "\n",
        "## Elementos de um Box-Plot\n",
        "\n",
        "Os principais componentes de um Box-Plot são:\n",
        "\n",
        "1. **Mínimo**: O menor valor dos dados, excluindo outliers.\n",
        "\n",
        "2. **Primeiro Quartil (Q1)**: Também conhecido como o 25º percentil, $( Q_1 $) é o valor abaixo do qual 25% dos dados caem.\n",
        "\n",
        "3. **Mediana (Q2)**: Também conhecido como o 50º percentil, $( Q_2 $) é o valor central dos dados, onde 50% dos dados estão abaixo e 50% estão acima.\n",
        "\n",
        "4. **Terceiro Quartil (Q3)**: Também conhecido como o 75º percentil, $( Q_3 )$ é o valor abaixo do qual 75% dos dados caem.\n",
        "\n",
        "5. **Máximo**: O maior valor dos dados, excluindo outliers.\n",
        "\n",
        "6. **Outliers**: Valores que estão significativamente distantes do restante dos dados. São geralmente definidos como valores que estão além de ($ 1.5 \\times IQR $) (Intervalo Interquartil) abaixo de ($ Q_1 $) ou acima de ($ Q_3 $).\n",
        "\n",
        "## Fórmulas Relacionadas\n",
        "\n",
        "### 1. **Mediana (Q2)**\n",
        "\n",
        "A **mediana** ($ Q_2 $) de um conjunto de dados ordenado é o valor que divide o conjunto ao meio.\n",
        "\n",
        "- Se o número de observações ( $n $) for ímpar, ($ Q_2 $) é o valor da posição central.\n",
        "- Se $( n )$ for par, ($ Q_2 $) é a média dos dois valores centrais.\n",
        "\n",
        "### 2. **Quartis (Q1 e Q3)**\n",
        "\n",
        "- **Primeiro Quartil (Q1)**:\n",
        "  - O 25º percentil dos dados.\n",
        "  - $( Q_1 = \\text{mediana da primeira metade dos dados (excluindo Q2)} )$.\n",
        "\n",
        "- **Terceiro Quartil (Q3)**:\n",
        "  - O 75º percentil dos dados.\n",
        "  - $( Q_3 = \\text{mediana da segunda metade dos dados (excluindo Q2)} )$.\n",
        "\n",
        "### 3. **Intervalo Interquartil (IQR)**\n",
        "\n",
        "O **Intervalo Interquartil (IQR)** mede a dispersão do meio dos dados e é calculado como:\n",
        "\n",
        "$$\n",
        "\\text{IQR} = Q_3 - Q_1\n",
        "$$\n",
        "\n",
        "### 4. **Limites para Identificação de Outliers**\n",
        "\n",
        "Outliers são geralmente identificados usando os seguintes limites:\n",
        "\n",
        "- **Limite Inferior**:\n",
        "  $$\n",
        "  \\text{LI} = Q_1 - 1.5 \\times \\text{IQR}\n",
        "  $$\n",
        "  \n",
        "- **Limite Superior**:\n",
        "  $$\n",
        "  \\text{LS} = Q_3 + 1.5 \\times \\text{IQR}\n",
        "  $$\n",
        "\n",
        "Valores abaixo do **Limite Inferior** ou acima do **Limite Superior** são considerados outliers.\n",
        "\n",
        "### 5. **Extensões do Bigode (Whiskers)**\n",
        "\n",
        "Os \"bigodes\" do Box-Plot se estendem até o menor e o maior valor dentro dos limites inferior e superior:\n",
        "\n",
        "- **Extensão Inferior do Bigode**:\n",
        "  $$\n",
        "  \\text{Min. (sem outliers)} = \\min(\\{x \\in X : x \\geq Q_1 - 1.5 \\times \\text{IQR}\\})\n",
        "  $$\n",
        "\n",
        "- **Extensão Superior do Bigode**:\n",
        "  $$\n",
        "  \\text{Max. (sem outliers)} = \\max(\\{x \\in X : x \\leq Q_3 + 1.5 \\times \\text{IQR}\\})\n",
        "  $$\n",
        "\n",
        "### Exemplo de Cálculo\n",
        "\n",
        "Dado o conjunto de dados ordenado \\( X = [7, 10, 15, 36, 39, 41, 48, 49, 52, 56] \\):\n",
        "\n",
        "1. **Mediana (Q2)**:\n",
        "   $$ Q_2 = \\frac{39 + 41}{2} = 40 $$\n",
        "\n",
        "2. **Primeiro Quartil (Q1)**:\n",
        "   $$ Q_1 = \\frac{10 + 15}{2} = 12.5 $$\n",
        "\n",
        "3. **Terceiro Quartil (Q3)**:\n",
        "   $$ Q_3 = \\frac{48 + 49}{2} = 48.5 $$\n",
        "\n",
        "4. **Intervalo Interquartil (IQR)**:\n",
        "   $$ \\text{IQR} = 48.5 - 12.5 = 36 $$\n",
        "\n",
        "5. **Limites para Outliers**:\n",
        "   - **Limite Inferior**:\n",
        "     $$ \\text{LI} = 12.5 - 1.5 \\times 36 = -41.5 $$\n",
        "   - **Limite Superior**:\n",
        "     $$ \\text{LS} = 48.5 + 1.5 \\times 36 = 102.5 $$\n",
        "\n",
        "6. **Extensões dos Bigodes**:\n",
        "   - **Extensão Inferior**: 7\n",
        "   - **Extensão Superior**: 56\n",
        "\n",
        "### Interpretação\n",
        "\n",
        "- **Caixa (Box)**: Representa o intervalo interquartil (Q1 a Q3) contendo 50% dos dados.\n",
        "- **Linha na Caixa**: Representa a mediana (Q2).\n",
        "- **Bigodes (Whiskers)**: Se estendem até o valor máximo e mínimo dentro dos limites calculados.\n",
        "- **Pontos Fora dos Bigodes**: Representam os outliers."
      ]
    },
    {
      "cell_type": "code",
      "execution_count": null,
      "id": "0zdFrOr2Ocgt",
      "metadata": {
        "colab": {
          "base_uri": "https://localhost:8080/",
          "height": 574
        },
        "id": "0zdFrOr2Ocgt",
        "outputId": "47ed1e89-2038-4721-8362-961713b938bb"
      },
      "outputs": [],
      "source": [
        "# Customizando o Boxplot\n",
        "plt.figure(figsize=(8, 6))  # Aumenta o tamanho da figura\n",
        "\n",
        "# Cria o boxplot com cores personalizadas\n",
        "box = plt.boxplot([x, y, z],\n",
        "                 patch_artist=True,  # Permite preencher as caixas\n",
        "                 labels=['x', 'y', 'z'],  # Rótulos para cada caixa\n",
        "                 showfliers=True, # Remove os outliers\n",
        "                #  medianprops=dict(color='black', linewidth=2),  # Personaliza a mediana\n",
        "                #  boxprops=dict(facecolor='lightblue', color='blue', linewidth=2),  # Personaliza as caixas\n",
        "                #  whiskerprops=dict(color='blue', linewidth=2),  # Personaliza os whiskers\n",
        "                #  capprops=dict(color='blue', linewidth=2)  # Personaliza as extremidades dos whiskers\n",
        "                )\n",
        "\n",
        "# Preenche as caixas com cores diferentes\n",
        "colors = ['lightblue', 'lightgreen', 'lightpink']\n",
        "for patch, color in zip(box['boxes'], colors):\n",
        "    patch.set_facecolor(color)\n",
        "\n",
        "# Adiciona setas e anotações para os quartis de y e z\n",
        "plt.annotate('Q1', xy=(2.1, np.percentile(y, 25)), xytext=(2.3, np.percentile(y, 25)),\n",
        "             arrowprops=dict(facecolor='black', arrowstyle='->'))\n",
        "\n",
        "plt.annotate('Q3', xy=(2.1, np.percentile(y, 75)), xytext=(2.3, np.percentile(y, 75)),\n",
        "             arrowprops=dict(facecolor='black', arrowstyle='->'))\n",
        "\n",
        "plt.annotate('Q1', xy=(3.1, np.percentile(z, 25)), xytext=(3.3, np.percentile(z, 25)),\n",
        "             arrowprops=dict(facecolor='black', arrowstyle='->'))\n",
        "\n",
        "plt.annotate('Q3', xy=(3.1, np.percentile(z, 75)), xytext=(3.3, np.percentile(z, 75)),\n",
        "             arrowprops=dict(facecolor='black', arrowstyle='->'))\n",
        "\n",
        "# Adiciona título e rótulos dos eixos\n",
        "plt.title('Boxplot Customizado com Quantis', fontsize=16)\n",
        "plt.xlabel('Variáveis')\n",
        "plt.ylabel('Valores')\n",
        "\n",
        "plt.grid(True, linestyle='--', alpha=0.7)  # Adiciona uma grade\n",
        "\n",
        "plt.show()\n"
      ]
    },
    {
      "cell_type": "code",
      "execution_count": null,
      "id": "QtBgwYwMRDdm",
      "metadata": {
        "id": "QtBgwYwMRDdm"
      },
      "outputs": [],
      "source": []
    },
    {
      "cell_type": "code",
      "execution_count": null,
      "id": "_ZhlgOz2m1D6",
      "metadata": {
        "id": "_ZhlgOz2m1D6"
      },
      "outputs": [],
      "source": [
        "x = [x * 0.1 for x in range(-100, 100)]\n",
        "senx = [math.sin(xs) for xs in x]\n",
        "cosx = [math.cos(xs) for xs in x]"
      ]
    },
    {
      "cell_type": "code",
      "execution_count": null,
      "id": "eNARTD_2nAyx",
      "metadata": {
        "colab": {
          "base_uri": "https://localhost:8080/",
          "height": 468
        },
        "id": "eNARTD_2nAyx",
        "outputId": "2e1e3a9d-f714-4f60-8e16-15ed25d73757"
      },
      "outputs": [],
      "source": [
        "fig = plt.figure(figsize=(20, 10))\n",
        "\n",
        "plt.plot(x, senx, 'r-', label=\"seno\")\n",
        "plt.plot(x, cosx, 'b--', label=\"cosseno\");\n",
        "plt.legend(loc=2)\n",
        "plt.show()"
      ]
    },
    {
      "cell_type": "code",
      "execution_count": null,
      "id": "d9Qgh0wCzL_0",
      "metadata": {
        "id": "d9Qgh0wCzL_0"
      },
      "outputs": [],
      "source": []
    },
    {
      "cell_type": "code",
      "execution_count": null,
      "id": "_UffUPHVyZhC",
      "metadata": {
        "colab": {
          "base_uri": "https://localhost:8080/",
          "height": 17
        },
        "id": "_UffUPHVyZhC",
        "outputId": "c3fb88b3-f2cb-4f0f-f251-7a93bbef3a05"
      },
      "outputs": [],
      "source": [
        "import numpy as np\n",
        "import pandas as pd\n",
        "\n",
        "import plotly\n",
        "import cufflinks as cf\n",
        "import plotly.offline as py\n",
        "import plotly.graph_objs as go\n",
        "from plotly.offline import plot, iplot\n",
        "\n",
        "cf.go_offline()\n",
        "plotly.offline.init_notebook_mode(connected = True)"
      ]
    },
    {
      "cell_type": "code",
      "execution_count": null,
      "id": "ovQdaaUF0DqW",
      "metadata": {
        "colab": {
          "base_uri": "https://localhost:8080/"
        },
        "id": "ovQdaaUF0DqW",
        "outputId": "895a135d-c72d-4204-fb06-bbbb9211b2f2"
      },
      "outputs": [],
      "source": [
        "import plotly.io as pio\n",
        "pio.renderers"
      ]
    },
    {
      "cell_type": "code",
      "execution_count": null,
      "id": "PghqJUbwyePS",
      "metadata": {
        "id": "PghqJUbwyePS"
      },
      "outputs": [],
      "source": [
        "pio.renderers.default = 'colab'"
      ]
    },
    {
      "cell_type": "code",
      "execution_count": null,
      "id": "ZIffAh-LykTj",
      "metadata": {
        "id": "ZIffAh-LykTj"
      },
      "outputs": [],
      "source": [
        "df = pd.DataFrame({\"SEN\": senx, \"COS\": cosx})"
      ]
    },
    {
      "cell_type": "code",
      "execution_count": null,
      "id": "uhHmEKJ1zvgx",
      "metadata": {
        "id": "uhHmEKJ1zvgx"
      },
      "outputs": [],
      "source": [
        "df = pd.DataFrame(np.random.randn(50,4), columns=['Alfa','Beta','Creta','Delta'])\n",
        "df.head()"
      ]
    },
    {
      "cell_type": "code",
      "execution_count": null,
      "id": "YMolhOR64hEC",
      "metadata": {
        "colab": {
          "base_uri": "https://localhost:8080/",
          "height": 457
        },
        "id": "YMolhOR64hEC",
        "outputId": "82563391-e5e7-4172-ea03-e7dbf97c2126"
      },
      "outputs": [],
      "source": [
        "# @title SENO vs COS\n",
        "\n",
        "from matplotlib import pyplot as plt\n",
        "df.plot(kind='scatter', x='COS', y='SEN', s=32, alpha=.8)\n",
        "plt.gca().spines[['top', 'right',]].set_visible(False)"
      ]
    },
    {
      "cell_type": "code",
      "execution_count": null,
      "id": "zKaNwEX8y_67",
      "metadata": {
        "colab": {
          "base_uri": "https://localhost:8080/",
          "height": 542
        },
        "id": "zKaNwEX8y_67",
        "outputId": "ec135ba9-97bb-4f70-ecaf-54e607b418a1"
      },
      "outputs": [],
      "source": [
        "df.iplot()"
      ]
    },
    {
      "cell_type": "code",
      "execution_count": null,
      "id": "vGXrn0qMykQM",
      "metadata": {
        "colab": {
          "base_uri": "https://localhost:8080/",
          "height": 542
        },
        "id": "vGXrn0qMykQM",
        "outputId": "352372f4-b4be-48b9-aaba-70eca04f4639"
      },
      "outputs": [],
      "source": [
        "df.iplot(kind='barh', x='COS',y='SEN', mode='markers')"
      ]
    },
    {
      "cell_type": "code",
      "execution_count": null,
      "id": "Q_SjRmEKMkgn",
      "metadata": {
        "id": "Q_SjRmEKMkgn"
      },
      "outputs": [],
      "source": []
    },
    {
      "cell_type": "code",
      "execution_count": null,
      "id": "fFcwzGJWRqbA",
      "metadata": {
        "colab": {
          "base_uri": "https://localhost:8080/",
          "height": 900
        },
        "id": "fFcwzGJWRqbA",
        "outputId": "46b6ba36-68ee-45b4-9134-d4aadd5e9f86"
      },
      "outputs": [],
      "source": [
        "z_data"
      ]
    },
    {
      "cell_type": "code",
      "execution_count": null,
      "id": "c2pf0ZVJyZaz",
      "metadata": {
        "colab": {
          "base_uri": "https://localhost:8080/",
          "height": 617
        },
        "id": "c2pf0ZVJyZaz",
        "outputId": "06cdd487-75c8-4eeb-a854-635aa917a838"
      },
      "outputs": [],
      "source": [
        "# Read data from a csv\n",
        "z_data = pd.read_csv('https://raw.githubusercontent.com/plotly/datasets/master/api_docs/mt_bruno_elevation.csv')\n",
        "\n",
        "fig = go.Figure(data=[go.Surface(z=z_data.values)])\n",
        "\n",
        "fig.update_layout(title=' Amostra de Elevação', autosize=False,\n",
        "                  width=800, height=600,\n",
        "                  margin=dict(l=65, r=50, b=65, t=90))\n",
        "\n",
        "fig.show()"
      ]
    },
    {
      "cell_type": "code",
      "execution_count": null,
      "id": "L7nIl3TwnGtZ",
      "metadata": {
        "id": "L7nIl3TwnGtZ"
      },
      "outputs": [],
      "source": [
        "import numpy as np\n",
        "import matplotlib.pyplot as plt\n",
        "import seaborn as sns"
      ]
    },
    {
      "cell_type": "markdown",
      "id": "6171759b",
      "metadata": {
        "id": "6171759b"
      },
      "source": [
        "## Exemplo 2 - (Exercício)"
      ]
    },
    {
      "cell_type": "code",
      "execution_count": null,
      "id": "ce2131bd",
      "metadata": {
        "id": "ce2131bd"
      },
      "outputs": [],
      "source": [
        "idades = [20,12,15,30,15,13,14,12,10,12,14,19,5]\n",
        "alturas = [1.80,1.59,1.65,1.69,1.72, 1.45,2,1.70,1.67,1.78,1.90,1.85,1.54]\n",
        "sexo = ['M','F','M','F','M','F','M','F','M','F','M','F','M']"
      ]
    },
    {
      "cell_type": "code",
      "execution_count": null,
      "id": "c4dca552",
      "metadata": {
        "id": "c4dca552"
      },
      "outputs": [],
      "source": [
        "len(idades), len(alturas), len(sexo)"
      ]
    },
    {
      "cell_type": "markdown",
      "id": "9bf13b17",
      "metadata": {
        "id": "9bf13b17"
      },
      "source": [
        "## 2.0 - Estatística"
      ]
    },
    {
      "cell_type": "code",
      "execution_count": null,
      "id": "c20d3a20",
      "metadata": {
        "id": "c20d3a20"
      },
      "outputs": [],
      "source": [
        "np.mean(idades), np.mean(alturas)"
      ]
    },
    {
      "cell_type": "markdown",
      "id": "2e846695",
      "metadata": {
        "id": "2e846695"
      },
      "source": [
        "## 2.1 - Distribuição"
      ]
    },
    {
      "cell_type": "code",
      "execution_count": null,
      "id": "6b620ccf",
      "metadata": {
        "id": "6b620ccf"
      },
      "outputs": [],
      "source": []
    },
    {
      "cell_type": "markdown",
      "id": "9d8b8726",
      "metadata": {
        "id": "9d8b8726"
      },
      "source": [
        "## 2.2 - Densidade Acumulada (ou Distribuição Acumulada)"
      ]
    },
    {
      "cell_type": "code",
      "execution_count": null,
      "id": "4b3e6b73",
      "metadata": {
        "id": "4b3e6b73"
      },
      "outputs": [],
      "source": []
    },
    {
      "cell_type": "markdown",
      "id": "b339a522",
      "metadata": {
        "id": "b339a522"
      },
      "source": [
        "## 2.3 - Dispersão"
      ]
    },
    {
      "cell_type": "code",
      "execution_count": null,
      "id": "8d466619",
      "metadata": {
        "id": "8d466619"
      },
      "outputs": [],
      "source": []
    },
    {
      "cell_type": "markdown",
      "id": "b697366e",
      "metadata": {
        "id": "b697366e"
      },
      "source": [
        "## 2.4 - Dispersão e Distribuição"
      ]
    },
    {
      "cell_type": "code",
      "execution_count": null,
      "id": "49a5d712",
      "metadata": {
        "id": "49a5d712"
      },
      "outputs": [],
      "source": []
    },
    {
      "cell_type": "markdown",
      "id": "2ec288ba",
      "metadata": {
        "id": "2ec288ba"
      },
      "source": [
        "-----------------------------"
      ]
    }
  ],
  "metadata": {
    "colab": {
      "provenance": []
    },
    "kernelspec": {
      "display_name": "Python 3",
      "language": "python",
      "name": "python3"
    },
    "language_info": {
      "codemirror_mode": {
        "name": "ipython",
        "version": 3
      },
      "file_extension": ".py",
      "mimetype": "text/x-python",
      "name": "python",
      "nbconvert_exporter": "python",
      "pygments_lexer": "ipython3",
      "version": "3.13.2"
    }
  },
  "nbformat": 4,
  "nbformat_minor": 5
}
