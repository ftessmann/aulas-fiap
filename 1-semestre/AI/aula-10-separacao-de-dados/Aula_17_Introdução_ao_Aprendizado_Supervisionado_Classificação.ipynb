{
  "cells": [
    {
      "cell_type": "markdown",
      "id": "dc2dbf66",
      "metadata": {
        "id": "dc2dbf66"
      },
      "source": [
        "# Aula 17 - Introdução ao Aprendizado Supervisionado: Classificação\n",
        "\n",
        "Nesta aula vamos estudar o uso de algoritmos de **Aprendizado de Máquina Supervisionado**. Focaremos nos algoritmos utilizados para **classificação**, que é a tarefa de predizer classes (rótulos categóricos) para conjuntos de dados (numéricos ou transformados em numéricos).\n",
        "\n",
        "Existem muitos algoritmos para se realizar essa tarefa, entre eles:\n",
        "- Regressão Logística\n",
        "- Análise de Discriminante Linear (LDA)\n",
        "- Análise de Discriminante Quadrático (QDA)\n",
        "- Naive Bayes\n",
        "- k-vizinhos mais próximos (KNN)\n",
        "- Máquina de Vetor Suporte (SVM)\n",
        "- Árvore de Decisão\n",
        "- RandomForest\n",
        "\n",
        "Cada uma dessas técnicas tem uma forte base matemática e conceitual. Os algoritmos foram propostos ao longo de diversas décadas e possuem diferentes cenários de aplicações. Não teremos tempo de ver cada um deles a fundo, nem mesmo todos eles. Iremos nos focar nos procedimentos básicos para se utilizar esses algoritmos.\n",
        "\n",
        "--------------------------"
      ]
    },
    {
      "cell_type": "code",
      "execution_count": null,
      "id": "ypy6QdM3wG9b",
      "metadata": {
        "id": "ypy6QdM3wG9b"
      },
      "outputs": [],
      "source": [
        "from google.colab import drive\n",
        "drive.mount('/content/drive')"
      ]
    },
    {
      "cell_type": "markdown",
      "id": "b8333f3a",
      "metadata": {
        "id": "b8333f3a"
      },
      "source": [
        "## Exemplo 1 - Entomologia: Gafanhatos vs Esperanças\n",
        "\n",
        "![image-2.png](attachment:image-2.png)\n",
        "\n",
        "Foram medidos o comprimento das antenas e do abdômen de dois tipos de insetos: gafanhotos e esperanças.\n",
        "\n",
        "Trabalhamos com estes dados na aula 16. Agora iremos aprender a criar classificadores para eles"
      ]
    },
    {
      "cell_type": "markdown",
      "id": "1abb0999",
      "metadata": {
        "id": "1abb0999"
      },
      "source": [
        "### Exemplo 1 - Primeiro passo: carregar os dados e fazer Análise Exploratória\n",
        "\n",
        "Como já fizemos a Análise Exploratória com esses dados na outras aulas, iremos pular essa etapa."
      ]
    },
    {
      "cell_type": "code",
      "execution_count": 1,
      "id": "d0c90eb6",
      "metadata": {
        "id": "d0c90eb6"
      },
      "outputs": [],
      "source": [
        "# Para trabalhar com dados em tabelas\n",
        "import pandas as pd\n",
        "\n",
        "# Para trabalhar com gráficos\n",
        "import seaborn as sns\n",
        "import matplotlib.pyplot as plt"
      ]
    },
    {
      "cell_type": "code",
      "execution_count": 4,
      "id": "99V5VLuhxAZu",
      "metadata": {
        "id": "99V5VLuhxAZu"
      },
      "outputs": [],
      "source": [
        "path_gaf_esp = \"../datasets/gaf_esp.csv\""
      ]
    },
    {
      "cell_type": "code",
      "execution_count": 5,
      "id": "5d3c0970",
      "metadata": {
        "id": "5d3c0970"
      },
      "outputs": [],
      "source": [
        "dados = pd.read_csv(path_gaf_esp, sep=';') # Estamos carregando o arquivo csv usando o ; como separador"
      ]
    },
    {
      "cell_type": "code",
      "execution_count": 6,
      "id": "99db2f93",
      "metadata": {
        "id": "99db2f93"
      },
      "outputs": [
        {
          "data": {
            "text/html": [
              "<div>\n",
              "<style scoped>\n",
              "    .dataframe tbody tr th:only-of-type {\n",
              "        vertical-align: middle;\n",
              "    }\n",
              "\n",
              "    .dataframe tbody tr th {\n",
              "        vertical-align: top;\n",
              "    }\n",
              "\n",
              "    .dataframe thead th {\n",
              "        text-align: right;\n",
              "    }\n",
              "</style>\n",
              "<table border=\"1\" class=\"dataframe\">\n",
              "  <thead>\n",
              "    <tr style=\"text-align: right;\">\n",
              "      <th></th>\n",
              "      <th>Espécie</th>\n",
              "      <th>Comprimento do Abdômen</th>\n",
              "      <th>Comprimento das Antenas</th>\n",
              "    </tr>\n",
              "  </thead>\n",
              "  <tbody>\n",
              "    <tr>\n",
              "      <th>0</th>\n",
              "      <td>Gafanhoto</td>\n",
              "      <td>0.50</td>\n",
              "      <td>7.0</td>\n",
              "    </tr>\n",
              "    <tr>\n",
              "      <th>1</th>\n",
              "      <td>Gafanhoto</td>\n",
              "      <td>0.50</td>\n",
              "      <td>6.0</td>\n",
              "    </tr>\n",
              "    <tr>\n",
              "      <th>2</th>\n",
              "      <td>Gafanhoto</td>\n",
              "      <td>0.60</td>\n",
              "      <td>5.5</td>\n",
              "    </tr>\n",
              "    <tr>\n",
              "      <th>3</th>\n",
              "      <td>Gafanhoto</td>\n",
              "      <td>0.65</td>\n",
              "      <td>4.5</td>\n",
              "    </tr>\n",
              "    <tr>\n",
              "      <th>4</th>\n",
              "      <td>Gafanhoto</td>\n",
              "      <td>0.54</td>\n",
              "      <td>3.2</td>\n",
              "    </tr>\n",
              "  </tbody>\n",
              "</table>\n",
              "</div>"
            ],
            "text/plain": [
              "     Espécie  Comprimento do Abdômen  Comprimento das Antenas\n",
              "0  Gafanhoto                    0.50                      7.0\n",
              "1  Gafanhoto                    0.50                      6.0\n",
              "2  Gafanhoto                    0.60                      5.5\n",
              "3  Gafanhoto                    0.65                      4.5\n",
              "4  Gafanhoto                    0.54                      3.2"
            ]
          },
          "execution_count": 6,
          "metadata": {},
          "output_type": "execute_result"
        }
      ],
      "source": [
        "dados.head()"
      ]
    },
    {
      "cell_type": "code",
      "execution_count": 7,
      "id": "4jpFd955zaBu",
      "metadata": {
        "id": "4jpFd955zaBu"
      },
      "outputs": [
        {
          "data": {
            "text/plain": [
              "(np.float64(4.9362), np.float64(5.382400000000001))"
            ]
          },
          "execution_count": 7,
          "metadata": {},
          "output_type": "execute_result"
        }
      ],
      "source": [
        "# dados[dados[\"Espécie\"] == \"Gafanhoto\"]\n",
        "dados[\"Comprimento do Abdômen\"].mean(), dados[\"Comprimento das Antenas\"].mean()"
      ]
    },
    {
      "cell_type": "code",
      "execution_count": 8,
      "id": "mwwALVVS0FO_",
      "metadata": {
        "id": "mwwALVVS0FO_"
      },
      "outputs": [
        {
          "data": {
            "text/plain": [
              "(np.float64(4.5), np.float64(5.5))"
            ]
          },
          "execution_count": 8,
          "metadata": {},
          "output_type": "execute_result"
        }
      ],
      "source": [
        "dados[\"Comprimento do Abdômen\"].median(), dados[\"Comprimento das Antenas\"].median()"
      ]
    },
    {
      "cell_type": "code",
      "execution_count": 9,
      "id": "kwAokYdErY8E",
      "metadata": {
        "id": "kwAokYdErY8E"
      },
      "outputs": [
        {
          "data": {
            "text/html": [
              "<div>\n",
              "<style scoped>\n",
              "    .dataframe tbody tr th:only-of-type {\n",
              "        vertical-align: middle;\n",
              "    }\n",
              "\n",
              "    .dataframe tbody tr th {\n",
              "        vertical-align: top;\n",
              "    }\n",
              "\n",
              "    .dataframe thead th {\n",
              "        text-align: right;\n",
              "    }\n",
              "</style>\n",
              "<table border=\"1\" class=\"dataframe\">\n",
              "  <thead>\n",
              "    <tr style=\"text-align: right;\">\n",
              "      <th></th>\n",
              "      <th>Comprimento do Abdômen</th>\n",
              "      <th>Comprimento das Antenas</th>\n",
              "    </tr>\n",
              "    <tr>\n",
              "      <th>Espécie</th>\n",
              "      <th></th>\n",
              "      <th></th>\n",
              "    </tr>\n",
              "  </thead>\n",
              "  <tbody>\n",
              "    <tr>\n",
              "      <th>Esperança</th>\n",
              "      <td>8.1206</td>\n",
              "      <td>7.2156</td>\n",
              "    </tr>\n",
              "    <tr>\n",
              "      <th>Gafanhoto</th>\n",
              "      <td>1.7518</td>\n",
              "      <td>3.5492</td>\n",
              "    </tr>\n",
              "  </tbody>\n",
              "</table>\n",
              "</div>"
            ],
            "text/plain": [
              "           Comprimento do Abdômen  Comprimento das Antenas\n",
              "Espécie                                                   \n",
              "Esperança                  8.1206                   7.2156\n",
              "Gafanhoto                  1.7518                   3.5492"
            ]
          },
          "execution_count": 9,
          "metadata": {},
          "output_type": "execute_result"
        }
      ],
      "source": [
        "dados.groupby(\"Espécie\").mean()"
      ]
    },
    {
      "cell_type": "code",
      "execution_count": 10,
      "id": "QEmJBlIMqqwV",
      "metadata": {
        "id": "QEmJBlIMqqwV"
      },
      "outputs": [],
      "source": [
        "dados.columns = dados.columns.str.replace(\" \", \"_\")"
      ]
    },
    {
      "cell_type": "code",
      "execution_count": 11,
      "id": "niWrNgu7rSJq",
      "metadata": {
        "id": "niWrNgu7rSJq"
      },
      "outputs": [],
      "source": [
        "new_columns = [\n",
        "    new_name.replace(' ', '_').lower()\n",
        "    for new_name in dados.columns\n",
        "    ]"
      ]
    },
    {
      "cell_type": "code",
      "execution_count": 12,
      "id": "9YL6n-IRsKJp",
      "metadata": {
        "id": "9YL6n-IRsKJp"
      },
      "outputs": [
        {
          "data": {
            "text/plain": [
              "['espécie', 'comprimento_do_abdômen', 'comprimento_das_antenas']"
            ]
          },
          "execution_count": 12,
          "metadata": {},
          "output_type": "execute_result"
        }
      ],
      "source": [
        "new_columns"
      ]
    },
    {
      "cell_type": "code",
      "execution_count": 13,
      "id": "-gTw8e-FsMoq",
      "metadata": {
        "id": "-gTw8e-FsMoq"
      },
      "outputs": [
        {
          "data": {
            "text/plain": [
              "Index(['Espécie', 'Comprimento_do_Abdômen', 'Comprimento_das_Antenas'], dtype='object')"
            ]
          },
          "execution_count": 13,
          "metadata": {},
          "output_type": "execute_result"
        }
      ],
      "source": [
        "dados.columns"
      ]
    },
    {
      "cell_type": "code",
      "execution_count": 14,
      "id": "ti-fAXGnsIYr",
      "metadata": {
        "id": "ti-fAXGnsIYr"
      },
      "outputs": [],
      "source": [
        "dados.columns = new_columns"
      ]
    },
    {
      "cell_type": "code",
      "execution_count": 15,
      "id": "ui_xMtjtrb6r",
      "metadata": {
        "id": "ui_xMtjtrb6r"
      },
      "outputs": [],
      "source": [
        "dados.columns = dados.apply(lambda x: str.lower(x.name.replace(\" \", \"_\")))"
      ]
    },
    {
      "cell_type": "code",
      "execution_count": 16,
      "id": "2xWN0jUprwVh",
      "metadata": {
        "id": "2xWN0jUprwVh"
      },
      "outputs": [
        {
          "data": {
            "text/html": [
              "<div>\n",
              "<style scoped>\n",
              "    .dataframe tbody tr th:only-of-type {\n",
              "        vertical-align: middle;\n",
              "    }\n",
              "\n",
              "    .dataframe tbody tr th {\n",
              "        vertical-align: top;\n",
              "    }\n",
              "\n",
              "    .dataframe thead th {\n",
              "        text-align: right;\n",
              "    }\n",
              "</style>\n",
              "<table border=\"1\" class=\"dataframe\">\n",
              "  <thead>\n",
              "    <tr style=\"text-align: right;\">\n",
              "      <th></th>\n",
              "      <th>espécie</th>\n",
              "      <th>comprimento_do_abdômen</th>\n",
              "      <th>comprimento_das_antenas</th>\n",
              "    </tr>\n",
              "  </thead>\n",
              "  <tbody>\n",
              "    <tr>\n",
              "      <th>0</th>\n",
              "      <td>Gafanhoto</td>\n",
              "      <td>0.50</td>\n",
              "      <td>7.0</td>\n",
              "    </tr>\n",
              "    <tr>\n",
              "      <th>1</th>\n",
              "      <td>Gafanhoto</td>\n",
              "      <td>0.50</td>\n",
              "      <td>6.0</td>\n",
              "    </tr>\n",
              "    <tr>\n",
              "      <th>2</th>\n",
              "      <td>Gafanhoto</td>\n",
              "      <td>0.60</td>\n",
              "      <td>5.5</td>\n",
              "    </tr>\n",
              "    <tr>\n",
              "      <th>3</th>\n",
              "      <td>Gafanhoto</td>\n",
              "      <td>0.65</td>\n",
              "      <td>4.5</td>\n",
              "    </tr>\n",
              "    <tr>\n",
              "      <th>4</th>\n",
              "      <td>Gafanhoto</td>\n",
              "      <td>0.54</td>\n",
              "      <td>3.2</td>\n",
              "    </tr>\n",
              "    <tr>\n",
              "      <th>...</th>\n",
              "      <td>...</td>\n",
              "      <td>...</td>\n",
              "      <td>...</td>\n",
              "    </tr>\n",
              "    <tr>\n",
              "      <th>95</th>\n",
              "      <td>Esperança</td>\n",
              "      <td>9.75</td>\n",
              "      <td>6.2</td>\n",
              "    </tr>\n",
              "    <tr>\n",
              "      <th>96</th>\n",
              "      <td>Esperança</td>\n",
              "      <td>6.20</td>\n",
              "      <td>8.1</td>\n",
              "    </tr>\n",
              "    <tr>\n",
              "      <th>97</th>\n",
              "      <td>Esperança</td>\n",
              "      <td>9.20</td>\n",
              "      <td>4.7</td>\n",
              "    </tr>\n",
              "    <tr>\n",
              "      <th>98</th>\n",
              "      <td>Esperança</td>\n",
              "      <td>9.10</td>\n",
              "      <td>6.0</td>\n",
              "    </tr>\n",
              "    <tr>\n",
              "      <th>99</th>\n",
              "      <td>Esperança</td>\n",
              "      <td>8.29</td>\n",
              "      <td>7.0</td>\n",
              "    </tr>\n",
              "  </tbody>\n",
              "</table>\n",
              "<p>100 rows × 3 columns</p>\n",
              "</div>"
            ],
            "text/plain": [
              "      espécie  comprimento_do_abdômen  comprimento_das_antenas\n",
              "0   Gafanhoto                    0.50                      7.0\n",
              "1   Gafanhoto                    0.50                      6.0\n",
              "2   Gafanhoto                    0.60                      5.5\n",
              "3   Gafanhoto                    0.65                      4.5\n",
              "4   Gafanhoto                    0.54                      3.2\n",
              "..        ...                     ...                      ...\n",
              "95  Esperança                    9.75                      6.2\n",
              "96  Esperança                    6.20                      8.1\n",
              "97  Esperança                    9.20                      4.7\n",
              "98  Esperança                    9.10                      6.0\n",
              "99  Esperança                    8.29                      7.0\n",
              "\n",
              "[100 rows x 3 columns]"
            ]
          },
          "execution_count": 16,
          "metadata": {},
          "output_type": "execute_result"
        }
      ],
      "source": [
        "dados"
      ]
    },
    {
      "cell_type": "code",
      "execution_count": 17,
      "id": "vAzc1FiVozPr",
      "metadata": {
        "id": "vAzc1FiVozPr"
      },
      "outputs": [
        {
          "data": {
            "text/html": [
              "<div>\n",
              "<style scoped>\n",
              "    .dataframe tbody tr th:only-of-type {\n",
              "        vertical-align: middle;\n",
              "    }\n",
              "\n",
              "    .dataframe tbody tr th {\n",
              "        vertical-align: top;\n",
              "    }\n",
              "\n",
              "    .dataframe thead th {\n",
              "        text-align: right;\n",
              "    }\n",
              "</style>\n",
              "<table border=\"1\" class=\"dataframe\">\n",
              "  <thead>\n",
              "    <tr style=\"text-align: right;\">\n",
              "      <th></th>\n",
              "      <th>comprimento_do_abdômen</th>\n",
              "      <th>comprimento_das_antenas</th>\n",
              "      <th>espécie</th>\n",
              "    </tr>\n",
              "  </thead>\n",
              "  <tbody>\n",
              "    <tr>\n",
              "      <th>0</th>\n",
              "      <td>0.50</td>\n",
              "      <td>7.0</td>\n",
              "      <td>Gafanhoto</td>\n",
              "    </tr>\n",
              "    <tr>\n",
              "      <th>1</th>\n",
              "      <td>0.50</td>\n",
              "      <td>6.0</td>\n",
              "      <td>Gafanhoto</td>\n",
              "    </tr>\n",
              "    <tr>\n",
              "      <th>2</th>\n",
              "      <td>0.60</td>\n",
              "      <td>5.5</td>\n",
              "      <td>Gafanhoto</td>\n",
              "    </tr>\n",
              "    <tr>\n",
              "      <th>3</th>\n",
              "      <td>0.65</td>\n",
              "      <td>4.5</td>\n",
              "      <td>Gafanhoto</td>\n",
              "    </tr>\n",
              "    <tr>\n",
              "      <th>4</th>\n",
              "      <td>0.54</td>\n",
              "      <td>3.2</td>\n",
              "      <td>Gafanhoto</td>\n",
              "    </tr>\n",
              "  </tbody>\n",
              "</table>\n",
              "</div>"
            ],
            "text/plain": [
              "   comprimento_do_abdômen  comprimento_das_antenas    espécie\n",
              "0                    0.50                      7.0  Gafanhoto\n",
              "1                    0.50                      6.0  Gafanhoto\n",
              "2                    0.60                      5.5  Gafanhoto\n",
              "3                    0.65                      4.5  Gafanhoto\n",
              "4                    0.54                      3.2  Gafanhoto"
            ]
          },
          "execution_count": 17,
          "metadata": {},
          "output_type": "execute_result"
        }
      ],
      "source": [
        "dados = dados[[\"comprimento_do_abdômen\", \"comprimento_das_antenas\", \"espécie\"]]\n",
        "dados.head()"
      ]
    },
    {
      "cell_type": "markdown",
      "id": "9e611aeb",
      "metadata": {
        "id": "9e611aeb"
      },
      "source": [
        "### Exemplo 1 - Segundo passo: separar os dados\n",
        "\n",
        "Precisamos ter claro em nossas mentes quais são os atributos (colunas) preditivas, isto é, aquelas que usaremos para predizer um atributo alvo (coluna alvo). No nosso caso os **atributos preditivos são Comprimento do Abdômen e Comprimento das Antenas**, e o **atributo alvo é a Espécie** que será predita.\n",
        "\n",
        "Quando se trabalhar com Aprendizado de Máquina Supervisionado, além disso precisamos separar nossos dados em dois conjuntos: um **conjunto de treinamento** e um **conjunto de teste**. Fazemos isso para evitar overfitting do algoritmo.\n",
        "\n",
        "Existem várias estratégias para se separar dados. Vamos aplicar as principais:\n",
        "\n",
        "(a) Escolher o tamanho dos conjuntos - 80% para treinamento e 20% para teste;\n",
        "\n",
        "(b) Selecionar aleatoriamente os dados que irão compor o conjunto de treinamento e teste (usando um seed para garantir reprodutibilidade);"
      ]
    },
    {
      "cell_type": "code",
      "execution_count": 18,
      "id": "c88cd724",
      "metadata": {
        "id": "c88cd724"
      },
      "outputs": [],
      "source": [
        "from sklearn.model_selection import train_test_split"
      ]
    },
    {
      "cell_type": "code",
      "execution_count": 19,
      "id": "hxDleS6PtrGL",
      "metadata": {
        "id": "hxDleS6PtrGL"
      },
      "outputs": [],
      "source": [
        "x = dados.drop(columns = 'espécie')"
      ]
    },
    {
      "cell_type": "code",
      "execution_count": 20,
      "id": "VzKwd3j6uBzz",
      "metadata": {
        "id": "VzKwd3j6uBzz"
      },
      "outputs": [
        {
          "data": {
            "text/plain": [
              "0    Gafanhoto\n",
              "1    Gafanhoto\n",
              "2    Gafanhoto\n",
              "3    Gafanhoto\n",
              "4    Gafanhoto\n",
              "Name: espécie, dtype: object"
            ]
          },
          "execution_count": 20,
          "metadata": {},
          "output_type": "execute_result"
        }
      ],
      "source": [
        "y = dados['espécie']\n",
        "y.head()"
      ]
    },
    {
      "cell_type": "code",
      "execution_count": 25,
      "id": "6b4633f2",
      "metadata": {
        "id": "6b4633f2"
      },
      "outputs": [],
      "source": [
        "# Dividindo conjunto de treinamento e conjunto de teste\n",
        "x_train, x_test, y_train, y_test = train_test_split(\n",
        "    x, y, test_size = 0.2, random_state = 42)"
      ]
    },
    {
      "cell_type": "code",
      "execution_count": 29,
      "id": "8bd710b1",
      "metadata": {
        "id": "8bd710b1"
      },
      "outputs": [
        {
          "data": {
            "text/html": [
              "<div>\n",
              "<style scoped>\n",
              "    .dataframe tbody tr th:only-of-type {\n",
              "        vertical-align: middle;\n",
              "    }\n",
              "\n",
              "    .dataframe tbody tr th {\n",
              "        vertical-align: top;\n",
              "    }\n",
              "\n",
              "    .dataframe thead th {\n",
              "        text-align: right;\n",
              "    }\n",
              "</style>\n",
              "<table border=\"1\" class=\"dataframe\">\n",
              "  <thead>\n",
              "    <tr style=\"text-align: right;\">\n",
              "      <th></th>\n",
              "      <th>comprimento_do_abdômen</th>\n",
              "      <th>comprimento_das_antenas</th>\n",
              "    </tr>\n",
              "  </thead>\n",
              "  <tbody>\n",
              "    <tr>\n",
              "      <th>55</th>\n",
              "      <td>9.50</td>\n",
              "      <td>5.5</td>\n",
              "    </tr>\n",
              "    <tr>\n",
              "      <th>88</th>\n",
              "      <td>6.54</td>\n",
              "      <td>9.0</td>\n",
              "    </tr>\n",
              "    <tr>\n",
              "      <th>26</th>\n",
              "      <td>2.60</td>\n",
              "      <td>4.3</td>\n",
              "    </tr>\n",
              "    <tr>\n",
              "      <th>42</th>\n",
              "      <td>2.78</td>\n",
              "      <td>3.6</td>\n",
              "    </tr>\n",
              "    <tr>\n",
              "      <th>69</th>\n",
              "      <td>8.00</td>\n",
              "      <td>7.0</td>\n",
              "    </tr>\n",
              "  </tbody>\n",
              "</table>\n",
              "</div>"
            ],
            "text/plain": [
              "    comprimento_do_abdômen  comprimento_das_antenas\n",
              "55                    9.50                      5.5\n",
              "88                    6.54                      9.0\n",
              "26                    2.60                      4.3\n",
              "42                    2.78                      3.6\n",
              "69                    8.00                      7.0"
            ]
          },
          "execution_count": 29,
          "metadata": {},
          "output_type": "execute_result"
        }
      ],
      "source": [
        "x_train.head(5)"
      ]
    },
    {
      "cell_type": "code",
      "execution_count": 30,
      "id": "35dcabb7",
      "metadata": {
        "id": "35dcabb7"
      },
      "outputs": [
        {
          "data": {
            "text/plain": [
              "55    Esperança\n",
              "88    Esperança\n",
              "26    Gafanhoto\n",
              "42    Gafanhoto\n",
              "69    Esperança\n",
              "Name: espécie, dtype: object"
            ]
          },
          "execution_count": 30,
          "metadata": {},
          "output_type": "execute_result"
        }
      ],
      "source": [
        "y_train.head(5)"
      ]
    },
    {
      "cell_type": "markdown",
      "id": "c15e2fd7",
      "metadata": {
        "id": "c15e2fd7"
      },
      "source": [
        "### Exemplo 1 - Terceiro passo: transformar os dados\n",
        "\n",
        "Dependendo do algoritmo de Aprendizado de Máquina que usamos precisamos modificar os dados para que eles se adequem as premissas do algoritmo.\n",
        "\n",
        "Existem duas transformações de escalonamento muito utilizadas:\n",
        "\n",
        "1) **Nomalização** (Normalization) - Também conhecido como escalonamento Min-Max no qual o range de valores da coluna irá fica de 0 (min) até 1 (max);\n",
        "\n",
        "2) **Padronização** (Standardization) - Modifica a distribuição para que a média seja igual a zero e desvio padrão igual a 1 (o método subtrai a média de todas as entradas e dividide pelo desvio padrão);\n",
        "\n",
        "Quando escolher uma ou outra? Depende dos seus dados, seu problema e o algoritmo que você quer usar. Em alguns casos, escalonar ou não os dados não irá mudar a solução do problema! Ao longo do cursos iremos estudar alguns casos...\n",
        "\n",
        "**IMPORTANTE**: independentmente do transformador escolhido, ele deve ser fitado apenas sobre os dados de treinamento. Isto é, o treinamento do escalonador deve receber apenas os dados de treinamento x_train. Após o treinamento do escalonador, ele deverá ser usado para transformar os dados x_test também."
      ]
    },
    {
      "cell_type": "code",
      "execution_count": null,
      "id": "be0bfaec",
      "metadata": {
        "id": "be0bfaec"
      },
      "outputs": [],
      "source": [
        "# Vamos pular essa etapa para deixar o exemplo mais simples nesse primeiro momento"
      ]
    },
    {
      "cell_type": "markdown",
      "id": "75bcf368",
      "metadata": {
        "id": "75bcf368"
      },
      "source": [
        "### Exemplo 1 - Quarto passo: treinar o algoritmo\n",
        "\n",
        "Vamos usar o conjunto de treinamento para treinar o algoritmo escolhido.\n",
        "\n",
        "Existem vários algoritmos possíveis. Cada algoritmo tem seus **hiperparâmetros** (parâmetros que devem ser escolhidos para melhorar a performance do algoritmo). Para entender os hiperparâmetros de cada algoritmo é necessário entender a fundo como aquele algoritmo funciona.\n",
        "\n",
        "Aqui vamos usar um dos algoritmos mais simples existentes, o Descriminador Linear:"
      ]
    },
    {
      "cell_type": "code",
      "execution_count": 31,
      "id": "02551906",
      "metadata": {
        "id": "02551906"
      },
      "outputs": [],
      "source": [
        "import pickle\n",
        "from sklearn.discriminant_analysis import LinearDiscriminantAnalysis"
      ]
    },
    {
      "cell_type": "code",
      "execution_count": 32,
      "id": "85865492",
      "metadata": {
        "id": "85865492"
      },
      "outputs": [
        {
          "data": {
            "text/html": [
              "<style>#sk-container-id-1 {\n",
              "  /* Definition of color scheme common for light and dark mode */\n",
              "  --sklearn-color-text: #000;\n",
              "  --sklearn-color-text-muted: #666;\n",
              "  --sklearn-color-line: gray;\n",
              "  /* Definition of color scheme for unfitted estimators */\n",
              "  --sklearn-color-unfitted-level-0: #fff5e6;\n",
              "  --sklearn-color-unfitted-level-1: #f6e4d2;\n",
              "  --sklearn-color-unfitted-level-2: #ffe0b3;\n",
              "  --sklearn-color-unfitted-level-3: chocolate;\n",
              "  /* Definition of color scheme for fitted estimators */\n",
              "  --sklearn-color-fitted-level-0: #f0f8ff;\n",
              "  --sklearn-color-fitted-level-1: #d4ebff;\n",
              "  --sklearn-color-fitted-level-2: #b3dbfd;\n",
              "  --sklearn-color-fitted-level-3: cornflowerblue;\n",
              "\n",
              "  /* Specific color for light theme */\n",
              "  --sklearn-color-text-on-default-background: var(--sg-text-color, var(--theme-code-foreground, var(--jp-content-font-color1, black)));\n",
              "  --sklearn-color-background: var(--sg-background-color, var(--theme-background, var(--jp-layout-color0, white)));\n",
              "  --sklearn-color-border-box: var(--sg-text-color, var(--theme-code-foreground, var(--jp-content-font-color1, black)));\n",
              "  --sklearn-color-icon: #696969;\n",
              "\n",
              "  @media (prefers-color-scheme: dark) {\n",
              "    /* Redefinition of color scheme for dark theme */\n",
              "    --sklearn-color-text-on-default-background: var(--sg-text-color, var(--theme-code-foreground, var(--jp-content-font-color1, white)));\n",
              "    --sklearn-color-background: var(--sg-background-color, var(--theme-background, var(--jp-layout-color0, #111)));\n",
              "    --sklearn-color-border-box: var(--sg-text-color, var(--theme-code-foreground, var(--jp-content-font-color1, white)));\n",
              "    --sklearn-color-icon: #878787;\n",
              "  }\n",
              "}\n",
              "\n",
              "#sk-container-id-1 {\n",
              "  color: var(--sklearn-color-text);\n",
              "}\n",
              "\n",
              "#sk-container-id-1 pre {\n",
              "  padding: 0;\n",
              "}\n",
              "\n",
              "#sk-container-id-1 input.sk-hidden--visually {\n",
              "  border: 0;\n",
              "  clip: rect(1px 1px 1px 1px);\n",
              "  clip: rect(1px, 1px, 1px, 1px);\n",
              "  height: 1px;\n",
              "  margin: -1px;\n",
              "  overflow: hidden;\n",
              "  padding: 0;\n",
              "  position: absolute;\n",
              "  width: 1px;\n",
              "}\n",
              "\n",
              "#sk-container-id-1 div.sk-dashed-wrapped {\n",
              "  border: 1px dashed var(--sklearn-color-line);\n",
              "  margin: 0 0.4em 0.5em 0.4em;\n",
              "  box-sizing: border-box;\n",
              "  padding-bottom: 0.4em;\n",
              "  background-color: var(--sklearn-color-background);\n",
              "}\n",
              "\n",
              "#sk-container-id-1 div.sk-container {\n",
              "  /* jupyter's `normalize.less` sets `[hidden] { display: none; }`\n",
              "     but bootstrap.min.css set `[hidden] { display: none !important; }`\n",
              "     so we also need the `!important` here to be able to override the\n",
              "     default hidden behavior on the sphinx rendered scikit-learn.org.\n",
              "     See: https://github.com/scikit-learn/scikit-learn/issues/21755 */\n",
              "  display: inline-block !important;\n",
              "  position: relative;\n",
              "}\n",
              "\n",
              "#sk-container-id-1 div.sk-text-repr-fallback {\n",
              "  display: none;\n",
              "}\n",
              "\n",
              "div.sk-parallel-item,\n",
              "div.sk-serial,\n",
              "div.sk-item {\n",
              "  /* draw centered vertical line to link estimators */\n",
              "  background-image: linear-gradient(var(--sklearn-color-text-on-default-background), var(--sklearn-color-text-on-default-background));\n",
              "  background-size: 2px 100%;\n",
              "  background-repeat: no-repeat;\n",
              "  background-position: center center;\n",
              "}\n",
              "\n",
              "/* Parallel-specific style estimator block */\n",
              "\n",
              "#sk-container-id-1 div.sk-parallel-item::after {\n",
              "  content: \"\";\n",
              "  width: 100%;\n",
              "  border-bottom: 2px solid var(--sklearn-color-text-on-default-background);\n",
              "  flex-grow: 1;\n",
              "}\n",
              "\n",
              "#sk-container-id-1 div.sk-parallel {\n",
              "  display: flex;\n",
              "  align-items: stretch;\n",
              "  justify-content: center;\n",
              "  background-color: var(--sklearn-color-background);\n",
              "  position: relative;\n",
              "}\n",
              "\n",
              "#sk-container-id-1 div.sk-parallel-item {\n",
              "  display: flex;\n",
              "  flex-direction: column;\n",
              "}\n",
              "\n",
              "#sk-container-id-1 div.sk-parallel-item:first-child::after {\n",
              "  align-self: flex-end;\n",
              "  width: 50%;\n",
              "}\n",
              "\n",
              "#sk-container-id-1 div.sk-parallel-item:last-child::after {\n",
              "  align-self: flex-start;\n",
              "  width: 50%;\n",
              "}\n",
              "\n",
              "#sk-container-id-1 div.sk-parallel-item:only-child::after {\n",
              "  width: 0;\n",
              "}\n",
              "\n",
              "/* Serial-specific style estimator block */\n",
              "\n",
              "#sk-container-id-1 div.sk-serial {\n",
              "  display: flex;\n",
              "  flex-direction: column;\n",
              "  align-items: center;\n",
              "  background-color: var(--sklearn-color-background);\n",
              "  padding-right: 1em;\n",
              "  padding-left: 1em;\n",
              "}\n",
              "\n",
              "\n",
              "/* Toggleable style: style used for estimator/Pipeline/ColumnTransformer box that is\n",
              "clickable and can be expanded/collapsed.\n",
              "- Pipeline and ColumnTransformer use this feature and define the default style\n",
              "- Estimators will overwrite some part of the style using the `sk-estimator` class\n",
              "*/\n",
              "\n",
              "/* Pipeline and ColumnTransformer style (default) */\n",
              "\n",
              "#sk-container-id-1 div.sk-toggleable {\n",
              "  /* Default theme specific background. It is overwritten whether we have a\n",
              "  specific estimator or a Pipeline/ColumnTransformer */\n",
              "  background-color: var(--sklearn-color-background);\n",
              "}\n",
              "\n",
              "/* Toggleable label */\n",
              "#sk-container-id-1 label.sk-toggleable__label {\n",
              "  cursor: pointer;\n",
              "  display: flex;\n",
              "  width: 100%;\n",
              "  margin-bottom: 0;\n",
              "  padding: 0.5em;\n",
              "  box-sizing: border-box;\n",
              "  text-align: center;\n",
              "  align-items: start;\n",
              "  justify-content: space-between;\n",
              "  gap: 0.5em;\n",
              "}\n",
              "\n",
              "#sk-container-id-1 label.sk-toggleable__label .caption {\n",
              "  font-size: 0.6rem;\n",
              "  font-weight: lighter;\n",
              "  color: var(--sklearn-color-text-muted);\n",
              "}\n",
              "\n",
              "#sk-container-id-1 label.sk-toggleable__label-arrow:before {\n",
              "  /* Arrow on the left of the label */\n",
              "  content: \"▸\";\n",
              "  float: left;\n",
              "  margin-right: 0.25em;\n",
              "  color: var(--sklearn-color-icon);\n",
              "}\n",
              "\n",
              "#sk-container-id-1 label.sk-toggleable__label-arrow:hover:before {\n",
              "  color: var(--sklearn-color-text);\n",
              "}\n",
              "\n",
              "/* Toggleable content - dropdown */\n",
              "\n",
              "#sk-container-id-1 div.sk-toggleable__content {\n",
              "  max-height: 0;\n",
              "  max-width: 0;\n",
              "  overflow: hidden;\n",
              "  text-align: left;\n",
              "  /* unfitted */\n",
              "  background-color: var(--sklearn-color-unfitted-level-0);\n",
              "}\n",
              "\n",
              "#sk-container-id-1 div.sk-toggleable__content.fitted {\n",
              "  /* fitted */\n",
              "  background-color: var(--sklearn-color-fitted-level-0);\n",
              "}\n",
              "\n",
              "#sk-container-id-1 div.sk-toggleable__content pre {\n",
              "  margin: 0.2em;\n",
              "  border-radius: 0.25em;\n",
              "  color: var(--sklearn-color-text);\n",
              "  /* unfitted */\n",
              "  background-color: var(--sklearn-color-unfitted-level-0);\n",
              "}\n",
              "\n",
              "#sk-container-id-1 div.sk-toggleable__content.fitted pre {\n",
              "  /* unfitted */\n",
              "  background-color: var(--sklearn-color-fitted-level-0);\n",
              "}\n",
              "\n",
              "#sk-container-id-1 input.sk-toggleable__control:checked~div.sk-toggleable__content {\n",
              "  /* Expand drop-down */\n",
              "  max-height: 200px;\n",
              "  max-width: 100%;\n",
              "  overflow: auto;\n",
              "}\n",
              "\n",
              "#sk-container-id-1 input.sk-toggleable__control:checked~label.sk-toggleable__label-arrow:before {\n",
              "  content: \"▾\";\n",
              "}\n",
              "\n",
              "/* Pipeline/ColumnTransformer-specific style */\n",
              "\n",
              "#sk-container-id-1 div.sk-label input.sk-toggleable__control:checked~label.sk-toggleable__label {\n",
              "  color: var(--sklearn-color-text);\n",
              "  background-color: var(--sklearn-color-unfitted-level-2);\n",
              "}\n",
              "\n",
              "#sk-container-id-1 div.sk-label.fitted input.sk-toggleable__control:checked~label.sk-toggleable__label {\n",
              "  background-color: var(--sklearn-color-fitted-level-2);\n",
              "}\n",
              "\n",
              "/* Estimator-specific style */\n",
              "\n",
              "/* Colorize estimator box */\n",
              "#sk-container-id-1 div.sk-estimator input.sk-toggleable__control:checked~label.sk-toggleable__label {\n",
              "  /* unfitted */\n",
              "  background-color: var(--sklearn-color-unfitted-level-2);\n",
              "}\n",
              "\n",
              "#sk-container-id-1 div.sk-estimator.fitted input.sk-toggleable__control:checked~label.sk-toggleable__label {\n",
              "  /* fitted */\n",
              "  background-color: var(--sklearn-color-fitted-level-2);\n",
              "}\n",
              "\n",
              "#sk-container-id-1 div.sk-label label.sk-toggleable__label,\n",
              "#sk-container-id-1 div.sk-label label {\n",
              "  /* The background is the default theme color */\n",
              "  color: var(--sklearn-color-text-on-default-background);\n",
              "}\n",
              "\n",
              "/* On hover, darken the color of the background */\n",
              "#sk-container-id-1 div.sk-label:hover label.sk-toggleable__label {\n",
              "  color: var(--sklearn-color-text);\n",
              "  background-color: var(--sklearn-color-unfitted-level-2);\n",
              "}\n",
              "\n",
              "/* Label box, darken color on hover, fitted */\n",
              "#sk-container-id-1 div.sk-label.fitted:hover label.sk-toggleable__label.fitted {\n",
              "  color: var(--sklearn-color-text);\n",
              "  background-color: var(--sklearn-color-fitted-level-2);\n",
              "}\n",
              "\n",
              "/* Estimator label */\n",
              "\n",
              "#sk-container-id-1 div.sk-label label {\n",
              "  font-family: monospace;\n",
              "  font-weight: bold;\n",
              "  display: inline-block;\n",
              "  line-height: 1.2em;\n",
              "}\n",
              "\n",
              "#sk-container-id-1 div.sk-label-container {\n",
              "  text-align: center;\n",
              "}\n",
              "\n",
              "/* Estimator-specific */\n",
              "#sk-container-id-1 div.sk-estimator {\n",
              "  font-family: monospace;\n",
              "  border: 1px dotted var(--sklearn-color-border-box);\n",
              "  border-radius: 0.25em;\n",
              "  box-sizing: border-box;\n",
              "  margin-bottom: 0.5em;\n",
              "  /* unfitted */\n",
              "  background-color: var(--sklearn-color-unfitted-level-0);\n",
              "}\n",
              "\n",
              "#sk-container-id-1 div.sk-estimator.fitted {\n",
              "  /* fitted */\n",
              "  background-color: var(--sklearn-color-fitted-level-0);\n",
              "}\n",
              "\n",
              "/* on hover */\n",
              "#sk-container-id-1 div.sk-estimator:hover {\n",
              "  /* unfitted */\n",
              "  background-color: var(--sklearn-color-unfitted-level-2);\n",
              "}\n",
              "\n",
              "#sk-container-id-1 div.sk-estimator.fitted:hover {\n",
              "  /* fitted */\n",
              "  background-color: var(--sklearn-color-fitted-level-2);\n",
              "}\n",
              "\n",
              "/* Specification for estimator info (e.g. \"i\" and \"?\") */\n",
              "\n",
              "/* Common style for \"i\" and \"?\" */\n",
              "\n",
              ".sk-estimator-doc-link,\n",
              "a:link.sk-estimator-doc-link,\n",
              "a:visited.sk-estimator-doc-link {\n",
              "  float: right;\n",
              "  font-size: smaller;\n",
              "  line-height: 1em;\n",
              "  font-family: monospace;\n",
              "  background-color: var(--sklearn-color-background);\n",
              "  border-radius: 1em;\n",
              "  height: 1em;\n",
              "  width: 1em;\n",
              "  text-decoration: none !important;\n",
              "  margin-left: 0.5em;\n",
              "  text-align: center;\n",
              "  /* unfitted */\n",
              "  border: var(--sklearn-color-unfitted-level-1) 1pt solid;\n",
              "  color: var(--sklearn-color-unfitted-level-1);\n",
              "}\n",
              "\n",
              ".sk-estimator-doc-link.fitted,\n",
              "a:link.sk-estimator-doc-link.fitted,\n",
              "a:visited.sk-estimator-doc-link.fitted {\n",
              "  /* fitted */\n",
              "  border: var(--sklearn-color-fitted-level-1) 1pt solid;\n",
              "  color: var(--sklearn-color-fitted-level-1);\n",
              "}\n",
              "\n",
              "/* On hover */\n",
              "div.sk-estimator:hover .sk-estimator-doc-link:hover,\n",
              ".sk-estimator-doc-link:hover,\n",
              "div.sk-label-container:hover .sk-estimator-doc-link:hover,\n",
              ".sk-estimator-doc-link:hover {\n",
              "  /* unfitted */\n",
              "  background-color: var(--sklearn-color-unfitted-level-3);\n",
              "  color: var(--sklearn-color-background);\n",
              "  text-decoration: none;\n",
              "}\n",
              "\n",
              "div.sk-estimator.fitted:hover .sk-estimator-doc-link.fitted:hover,\n",
              ".sk-estimator-doc-link.fitted:hover,\n",
              "div.sk-label-container:hover .sk-estimator-doc-link.fitted:hover,\n",
              ".sk-estimator-doc-link.fitted:hover {\n",
              "  /* fitted */\n",
              "  background-color: var(--sklearn-color-fitted-level-3);\n",
              "  color: var(--sklearn-color-background);\n",
              "  text-decoration: none;\n",
              "}\n",
              "\n",
              "/* Span, style for the box shown on hovering the info icon */\n",
              ".sk-estimator-doc-link span {\n",
              "  display: none;\n",
              "  z-index: 9999;\n",
              "  position: relative;\n",
              "  font-weight: normal;\n",
              "  right: .2ex;\n",
              "  padding: .5ex;\n",
              "  margin: .5ex;\n",
              "  width: min-content;\n",
              "  min-width: 20ex;\n",
              "  max-width: 50ex;\n",
              "  color: var(--sklearn-color-text);\n",
              "  box-shadow: 2pt 2pt 4pt #999;\n",
              "  /* unfitted */\n",
              "  background: var(--sklearn-color-unfitted-level-0);\n",
              "  border: .5pt solid var(--sklearn-color-unfitted-level-3);\n",
              "}\n",
              "\n",
              ".sk-estimator-doc-link.fitted span {\n",
              "  /* fitted */\n",
              "  background: var(--sklearn-color-fitted-level-0);\n",
              "  border: var(--sklearn-color-fitted-level-3);\n",
              "}\n",
              "\n",
              ".sk-estimator-doc-link:hover span {\n",
              "  display: block;\n",
              "}\n",
              "\n",
              "/* \"?\"-specific style due to the `<a>` HTML tag */\n",
              "\n",
              "#sk-container-id-1 a.estimator_doc_link {\n",
              "  float: right;\n",
              "  font-size: 1rem;\n",
              "  line-height: 1em;\n",
              "  font-family: monospace;\n",
              "  background-color: var(--sklearn-color-background);\n",
              "  border-radius: 1rem;\n",
              "  height: 1rem;\n",
              "  width: 1rem;\n",
              "  text-decoration: none;\n",
              "  /* unfitted */\n",
              "  color: var(--sklearn-color-unfitted-level-1);\n",
              "  border: var(--sklearn-color-unfitted-level-1) 1pt solid;\n",
              "}\n",
              "\n",
              "#sk-container-id-1 a.estimator_doc_link.fitted {\n",
              "  /* fitted */\n",
              "  border: var(--sklearn-color-fitted-level-1) 1pt solid;\n",
              "  color: var(--sklearn-color-fitted-level-1);\n",
              "}\n",
              "\n",
              "/* On hover */\n",
              "#sk-container-id-1 a.estimator_doc_link:hover {\n",
              "  /* unfitted */\n",
              "  background-color: var(--sklearn-color-unfitted-level-3);\n",
              "  color: var(--sklearn-color-background);\n",
              "  text-decoration: none;\n",
              "}\n",
              "\n",
              "#sk-container-id-1 a.estimator_doc_link.fitted:hover {\n",
              "  /* fitted */\n",
              "  background-color: var(--sklearn-color-fitted-level-3);\n",
              "}\n",
              "</style><div id=\"sk-container-id-1\" class=\"sk-top-container\"><div class=\"sk-text-repr-fallback\"><pre>LinearDiscriminantAnalysis()</pre><b>In a Jupyter environment, please rerun this cell to show the HTML representation or trust the notebook. <br />On GitHub, the HTML representation is unable to render, please try loading this page with nbviewer.org.</b></div><div class=\"sk-container\" hidden><div class=\"sk-item\"><div class=\"sk-estimator fitted sk-toggleable\"><input class=\"sk-toggleable__control sk-hidden--visually\" id=\"sk-estimator-id-1\" type=\"checkbox\" checked><label for=\"sk-estimator-id-1\" class=\"sk-toggleable__label fitted sk-toggleable__label-arrow\"><div><div>LinearDiscriminantAnalysis</div></div><div><a class=\"sk-estimator-doc-link fitted\" rel=\"noreferrer\" target=\"_blank\" href=\"https://scikit-learn.org/1.6/modules/generated/sklearn.discriminant_analysis.LinearDiscriminantAnalysis.html\">?<span>Documentation for LinearDiscriminantAnalysis</span></a><span class=\"sk-estimator-doc-link fitted\">i<span>Fitted</span></span></div></label><div class=\"sk-toggleable__content fitted\"><pre>LinearDiscriminantAnalysis()</pre></div> </div></div></div></div>"
            ],
            "text/plain": [
              "LinearDiscriminantAnalysis()"
            ]
          },
          "execution_count": 32,
          "metadata": {},
          "output_type": "execute_result"
        }
      ],
      "source": [
        "from sklearn.discriminant_analysis import LinearDiscriminantAnalysis\n",
        "lda = LinearDiscriminantAnalysis()  # Criamos o objeto do classificador (não mudamos nenhum hiperpârametro)\n",
        "\n",
        "lda.fit(x_train, y_train) # Treinamos o classificador passando apenas o conjunto de dados de treinamento"
      ]
    },
    {
      "cell_type": "code",
      "execution_count": 33,
      "id": "DHTRcCMUgdG4",
      "metadata": {
        "id": "DHTRcCMUgdG4"
      },
      "outputs": [],
      "source": [
        "filename = 'finalized_model.pkl'\n",
        "pickle.dump(lda, open(filename, 'wb'))"
      ]
    },
    {
      "cell_type": "markdown",
      "id": "b0b94188",
      "metadata": {
        "id": "b0b94188"
      },
      "source": [
        "### <font color='red'>Como sabemos se o algoritmo está bom?</font>"
      ]
    },
    {
      "cell_type": "markdown",
      "id": "f5ccd0f3",
      "metadata": {
        "id": "f5ccd0f3"
      },
      "source": [
        "### Exemplo 1 - Quinto passo: testar e avaliar\n",
        "\n",
        "Usando agora o conjunto de teste, iremos testar o classificador criado e treinando no passo anterior.\n",
        "\n",
        "Uma vez que realizamos um teste, precisamos avaliar o desempenho do nosso método. Diferentes hiperparâmetros e diferentes algoritmos podem ter um desempenho diferente. Apesar de sempre buscarmos o melhor desempenho, devemos levar em consideração outros aspectos para decidir o que é um desempenho aceitável. A primeira coisa a definir são as **métricas de desempenho** que podem ser comparadas entre diferentes algoritmos.\n",
        "\n",
        "Existem várias métricas para se medir o desempenho de um classificador: métricas de performance, métricas de tempo consumido, métricas de memória consumida, etc. Vamos focar em uma métrica de performance muito utilizada no dia a dia de trabalho: a **Matriz de Confusão** e seus índices (**Acurácia, Precisão, Recall e F1-score**)."
      ]
    },
    {
      "cell_type": "code",
      "execution_count": 34,
      "id": "eYn-NTrQvkXT",
      "metadata": {
        "id": "eYn-NTrQvkXT"
      },
      "outputs": [
        {
          "data": {
            "text/html": [
              "<div>\n",
              "<style scoped>\n",
              "    .dataframe tbody tr th:only-of-type {\n",
              "        vertical-align: middle;\n",
              "    }\n",
              "\n",
              "    .dataframe tbody tr th {\n",
              "        vertical-align: top;\n",
              "    }\n",
              "\n",
              "    .dataframe thead th {\n",
              "        text-align: right;\n",
              "    }\n",
              "</style>\n",
              "<table border=\"1\" class=\"dataframe\">\n",
              "  <thead>\n",
              "    <tr style=\"text-align: right;\">\n",
              "      <th></th>\n",
              "      <th>comprimento_do_abdômen</th>\n",
              "      <th>comprimento_das_antenas</th>\n",
              "    </tr>\n",
              "  </thead>\n",
              "  <tbody>\n",
              "    <tr>\n",
              "      <th>83</th>\n",
              "      <td>8.74</td>\n",
              "      <td>6.20</td>\n",
              "    </tr>\n",
              "    <tr>\n",
              "      <th>53</th>\n",
              "      <td>5.40</td>\n",
              "      <td>8.50</td>\n",
              "    </tr>\n",
              "    <tr>\n",
              "      <th>70</th>\n",
              "      <td>7.00</td>\n",
              "      <td>8.00</td>\n",
              "    </tr>\n",
              "    <tr>\n",
              "      <th>45</th>\n",
              "      <td>2.37</td>\n",
              "      <td>3.76</td>\n",
              "    </tr>\n",
              "    <tr>\n",
              "      <th>44</th>\n",
              "      <td>2.42</td>\n",
              "      <td>3.89</td>\n",
              "    </tr>\n",
              "  </tbody>\n",
              "</table>\n",
              "</div>"
            ],
            "text/plain": [
              "    comprimento_do_abdômen  comprimento_das_antenas\n",
              "83                    8.74                     6.20\n",
              "53                    5.40                     8.50\n",
              "70                    7.00                     8.00\n",
              "45                    2.37                     3.76\n",
              "44                    2.42                     3.89"
            ]
          },
          "execution_count": 34,
          "metadata": {},
          "output_type": "execute_result"
        }
      ],
      "source": [
        "x_test.head()"
      ]
    },
    {
      "cell_type": "code",
      "execution_count": 35,
      "id": "SIqiQEpmvniK",
      "metadata": {
        "id": "SIqiQEpmvniK"
      },
      "outputs": [
        {
          "data": {
            "text/plain": [
              "83    Esperança\n",
              "53    Esperança\n",
              "70    Esperança\n",
              "45    Gafanhoto\n",
              "44    Gafanhoto\n",
              "Name: espécie, dtype: object"
            ]
          },
          "execution_count": 35,
          "metadata": {},
          "output_type": "execute_result"
        }
      ],
      "source": [
        "y_test.head()"
      ]
    },
    {
      "cell_type": "code",
      "execution_count": 36,
      "id": "c57468d9",
      "metadata": {
        "id": "c57468d9"
      },
      "outputs": [],
      "source": [
        "# Perceba que estamos passando apenas o x de teste,\n",
        "# afinal o algoritmo é que nos dira qual é o y\n",
        "y_predicoes = lda.predict(x_test)"
      ]
    },
    {
      "cell_type": "code",
      "execution_count": 37,
      "id": "7ff272a1",
      "metadata": {
        "id": "7ff272a1"
      },
      "outputs": [
        {
          "data": {
            "text/plain": [
              "array(['Esperança', 'Esperança', 'Esperança', 'Gafanhoto', 'Gafanhoto',\n",
              "       'Gafanhoto', 'Gafanhoto', 'Esperança', 'Gafanhoto', 'Gafanhoto',\n",
              "       'Gafanhoto', 'Gafanhoto', 'Esperança', 'Gafanhoto', 'Esperança',\n",
              "       'Gafanhoto', 'Esperança', 'Esperança', 'Gafanhoto', 'Gafanhoto'],\n",
              "      dtype='<U9')"
            ]
          },
          "execution_count": 37,
          "metadata": {},
          "output_type": "execute_result"
        }
      ],
      "source": [
        "y_predicoes"
      ]
    },
    {
      "cell_type": "code",
      "execution_count": 38,
      "id": "8f1bdcdc",
      "metadata": {
        "id": "8f1bdcdc"
      },
      "outputs": [],
      "source": [
        "from sklearn.metrics import confusion_matrix, ConfusionMatrixDisplay#, plot_confusion_matrix\n",
        "from sklearn.metrics import (f1_score\n",
        "                             , accuracy_score\n",
        "                             , precision_score\n",
        "                             , recall_score\n",
        "                             , classification_report)"
      ]
    },
    {
      "cell_type": "code",
      "execution_count": 39,
      "id": "fa31aa96",
      "metadata": {
        "id": "fa31aa96"
      },
      "outputs": [],
      "source": [
        "matriz_confusao = confusion_matrix(y_true = y_test,\n",
        "                                   y_pred = y_predicoes,\n",
        "                                   labels=['Gafanhoto','Esperança'])"
      ]
    },
    {
      "cell_type": "code",
      "execution_count": 40,
      "id": "7b98e87c",
      "metadata": {
        "id": "7b98e87c"
      },
      "outputs": [
        {
          "data": {
            "text/plain": [
              "<sklearn.metrics._plot.confusion_matrix.ConfusionMatrixDisplay at 0x1c145612510>"
            ]
          },
          "execution_count": 40,
          "metadata": {},
          "output_type": "execute_result"
        },
        {
          "data": {
            "text/plain": [
              "<Figure size 1500x500 with 0 Axes>"
            ]
          },
          "metadata": {},
          "output_type": "display_data"
        },
        {
          "data": {
            "image/png": "[encoded data removed]",
            "text/plain": [
              "<Figure size 640x480 with 2 Axes>"
            ]
          },
          "metadata": {},
          "output_type": "display_data"
        }
      ],
      "source": [
        "# plotando uma figura com a matriz de confusao\n",
        "figure = plt.figure(figsize=(15, 5))\n",
        "disp = ConfusionMatrixDisplay(\n",
        "    confusion_matrix = matriz_confusao\n",
        "    , display_labels=['Gafanhoto','Esperança'])\n",
        "\n",
        "disp.plot(values_format='d')"
      ]
    },
    {
      "cell_type": "code",
      "execution_count": 41,
      "id": "672f9ef4",
      "metadata": {
        "id": "672f9ef4"
      },
      "outputs": [
        {
          "data": {
            "text/plain": [
              "1.0"
            ]
          },
          "execution_count": 41,
          "metadata": {},
          "output_type": "execute_result"
        }
      ],
      "source": [
        "accuracy_score(y_true = y_test, y_pred = y_predicoes)"
      ]
    },
    {
      "cell_type": "code",
      "execution_count": 42,
      "id": "1a9bd52b",
      "metadata": {
        "id": "1a9bd52b"
      },
      "outputs": [
        {
          "data": {
            "text/plain": [
              "1.0"
            ]
          },
          "execution_count": 42,
          "metadata": {},
          "output_type": "execute_result"
        }
      ],
      "source": [
        "precision_score(y_true = y_test,\n",
        "         y_pred = y_predicoes,\n",
        "         pos_label=\"Esperança\")"
      ]
    },
    {
      "cell_type": "code",
      "execution_count": 43,
      "id": "dd447235",
      "metadata": {
        "id": "dd447235"
      },
      "outputs": [
        {
          "data": {
            "text/plain": [
              "1.0"
            ]
          },
          "execution_count": 43,
          "metadata": {},
          "output_type": "execute_result"
        }
      ],
      "source": [
        "recall_score(y_true = y_test,\n",
        "         y_pred = y_predicoes,\n",
        "         pos_label=\"Esperança\")"
      ]
    },
    {
      "cell_type": "code",
      "execution_count": 44,
      "id": "b1f4acd5",
      "metadata": {
        "id": "b1f4acd5"
      },
      "outputs": [
        {
          "data": {
            "text/plain": [
              "1.0"
            ]
          },
          "execution_count": 44,
          "metadata": {},
          "output_type": "execute_result"
        }
      ],
      "source": [
        "f1_score(y_true = y_test,\n",
        "         y_pred = y_predicoes,\n",
        "         pos_label=\"Esperança\")"
      ]
    },
    {
      "cell_type": "code",
      "execution_count": 45,
      "id": "e11720cb",
      "metadata": {
        "id": "e11720cb"
      },
      "outputs": [
        {
          "name": "stdout",
          "output_type": "stream",
          "text": [
            "              precision    recall  f1-score   support\n",
            "\n",
            "   Esperança       1.00      1.00      1.00         8\n",
            "   Gafanhoto       1.00      1.00      1.00        12\n",
            "\n",
            "    accuracy                           1.00        20\n",
            "   macro avg       1.00      1.00      1.00        20\n",
            "weighted avg       1.00      1.00      1.00        20\n",
            "\n"
          ]
        }
      ],
      "source": [
        "# Metricas de precisão, revocação, f1-score e acurácia.\n",
        "print(classification_report(y_test, y_predicoes))"
      ]
    },
    {
      "cell_type": "markdown",
      "id": "31b125b2",
      "metadata": {
        "id": "31b125b2"
      },
      "source": [
        "Vamos desenhar sobre o gráfico de dispersão o modelo matemático encontrado pelo algoritmo de Classificação LDA:"
      ]
    },
    {
      "cell_type": "code",
      "execution_count": null,
      "id": "FPCCgEgYBKhH",
      "metadata": {
        "id": "FPCCgEgYBKhH"
      },
      "outputs": [],
      "source": [
        "import numpy as np"
      ]
    },
    {
      "cell_type": "code",
      "execution_count": null,
      "id": "WfgdlReuWWtk",
      "metadata": {
        "id": "WfgdlReuWWtk"
      },
      "outputs": [],
      "source": [
        "dados"
      ]
    },
    {
      "cell_type": "code",
      "execution_count": null,
      "id": "p6wTpVYYG9cc",
      "metadata": {
        "id": "p6wTpVYYG9cc"
      },
      "outputs": [],
      "source": [
        "lda.coef_"
      ]
    },
    {
      "cell_type": "code",
      "execution_count": null,
      "id": "hlowbzsYBMXF",
      "metadata": {
        "id": "hlowbzsYBMXF"
      },
      "outputs": [],
      "source": [
        "# São os coeficientes do nosso modelo de ML treinado\n",
        "c1, c2 = lda.coef_[0]"
      ]
    },
    {
      "cell_type": "code",
      "execution_count": null,
      "id": "0FeTuAu-BOHA",
      "metadata": {
        "id": "0FeTuAu-BOHA"
      },
      "outputs": [],
      "source": [
        "c1, c2"
      ]
    },
    {
      "cell_type": "code",
      "execution_count": null,
      "id": "DAWAXaZJBSxQ",
      "metadata": {
        "id": "DAWAXaZJBSxQ"
      },
      "outputs": [],
      "source": [
        "b = lda.intercept_\n",
        "b"
      ]
    },
    {
      "cell_type": "code",
      "execution_count": null,
      "id": "cdKpzyEBDek7",
      "metadata": {
        "id": "cdKpzyEBDek7"
      },
      "outputs": [],
      "source": [
        "# É a equação da reta do LDA\n",
        "x1 = np.arange(0, 10)\n",
        "x1"
      ]
    },
    {
      "cell_type": "code",
      "execution_count": null,
      "id": "_-TK2Bl2Xqjt",
      "metadata": {
        "id": "_-TK2Bl2Xqjt"
      },
      "outputs": [],
      "source": [
        "x2 = - (c1/c2)* x1 - b/c2"
      ]
    },
    {
      "cell_type": "code",
      "execution_count": null,
      "id": "33d49c00",
      "metadata": {
        "id": "33d49c00"
      },
      "outputs": [],
      "source": [
        "x3 = - ((c1/c2) * x1 + b/c2)\n",
        "x4 = (-c1*x1-b)/(c2)"
      ]
    },
    {
      "cell_type": "code",
      "execution_count": null,
      "id": "vHPJlwN2C3Mp",
      "metadata": {
        "id": "vHPJlwN2C3Mp"
      },
      "outputs": [],
      "source": [
        "- c2 * x1"
      ]
    },
    {
      "cell_type": "code",
      "execution_count": null,
      "id": "RedEkQGm7Uy3",
      "metadata": {
        "id": "RedEkQGm7Uy3"
      },
      "outputs": [],
      "source": [
        "(- c1 * x1 - b)/c2"
      ]
    },
    {
      "cell_type": "code",
      "execution_count": null,
      "id": "ideM1b9C7Ibr",
      "metadata": {
        "id": "ideM1b9C7Ibr"
      },
      "outputs": [],
      "source": [
        "x3"
      ]
    },
    {
      "cell_type": "code",
      "execution_count": null,
      "id": "uYRJS8sqBZZY",
      "metadata": {
        "id": "uYRJS8sqBZZY"
      },
      "outputs": [],
      "source": [
        "x4"
      ]
    },
    {
      "cell_type": "markdown",
      "id": "18232055",
      "metadata": {
        "id": "18232055"
      },
      "source": [
        "A fronteira de decisão entre as classes em um classificador LDA é uma linha.\n",
        "\n",
        "Toda linha tem uma função metamática associada.\n",
        "\n",
        "Podemos ver os coeficientes dessa fronteira (hiperplano ou linhas) na propriedade `coef_`.\n",
        "\n",
        "Para um problema de duas dimensões, (como o acima), temos dois coeficientes. Vamos chamar esses coeficientes de $c_1$ e $c_2$, e os atributos de $x_1$ e $x_2$, e o valor de interceptação no eixo das ordenadas de $b$. Dessa maneira, temos a equação da fronteira:  \n",
        "\n",
        "$$ c_1 x_1 + c_2 x_2  + b = 0  $$\n",
        "\n",
        "Agora, resolvendo para $x_2$, podemos obter a equação da reta:\n",
        "\n",
        "$$ x_2 =  -\\frac{c_1}{c_2}x_1 - \\frac{b}{c_2} $$"
      ]
    },
    {
      "cell_type": "markdown",
      "id": "2zBTeuXQIyAA",
      "metadata": {
        "id": "2zBTeuXQIyAA"
      },
      "source": [
        "$$ c_1x_1 + c_2 x_2  + b = 0  $$\n",
        "\n",
        "Podemos subtrair $$ c_1x_1 $$ dos dois lados\n",
        "\n",
        "$$ c_2x_2 + b = - c_1x_1 $$\n",
        "\n",
        "Podemos subtrair $ b $ dos dois lados\n",
        "\n",
        "$$ c_2x_2 = -c_1x_1 - b $$\n",
        "\n",
        "E chegamos na nossa equação:\n",
        "\n",
        "$$ x_2 = \\frac{-c_1x_1 - b}{c_2} $$"
      ]
    },
    {
      "cell_type": "code",
      "execution_count": null,
      "id": "9edf509d",
      "metadata": {
        "id": "9edf509d"
      },
      "outputs": [],
      "source": [
        "plot = sns.jointplot(data=dados, x=\"comprimento_do_abdômen\", y=\"comprimento_das_antenas\", hue = 'espécie',\n",
        "              height=5, ratio=2, marginal_ticks=True\n",
        "             )\n",
        "plot.ax_joint.plot(x1, x4, 'r-', linewidth = 2)\n",
        "plot.ax_marg_x.axvline(x=4.5, color='k', linestyle='--')\n",
        "plot.ax_marg_y.axhline(y=5.3, color='k', linestyle='--')\n",
        "# plot.ax_joint.set_xlim(0, 11)\n",
        "# plot.ax_joint.set_ylim(0, 11)"
      ]
    },
    {
      "cell_type": "markdown",
      "id": "16eab9a9",
      "metadata": {
        "id": "16eab9a9"
      },
      "source": [
        "### Exemplo 1 - Sexto passo: Produção\n",
        "\n",
        "Se nosso algoritmo está bom e atende os requisitos de negócio, podemos colocar ele em produção. Essa etapa envolve conhecimento do tipo de dispositivo em que iremos rodar a solução.\n",
        "\n",
        "Por exemplo, iremos colocar esse modelo em um site? Precisamos trabalhar com o pessoal de backend.\n",
        "Vamos embarcar em um veículo autônomo? Time de engenharia de software e engenharia eletrônica.\n",
        "\n",
        "Esse passo inteiro transcede o escopo da nossa disciplina, já que envolve outras disciplinas e competências.\n",
        "\n",
        "Vamos contudo ver como \"baixar\" nosso modelo pronto para não precisar treina-lo novamente. Afinal, iremos empregar o algoritmo já treinado e pronto para uso em produção (a menos que estejamos usando técnicas mais sofisticadas de machine learning como Active Learning e Atualização de Modelo em Execução).\n",
        "\n",
        "A etapa de \"salvar/baixar\" o modelo pronto é chamada de **Persistência do Modelo**.  Quando usamos um modelo pronto, é comum dizer que estamos usando um **modelo pré-treinado**."
      ]
    },
    {
      "cell_type": "code",
      "execution_count": null,
      "id": "b68c83fc",
      "metadata": {
        "id": "b68c83fc"
      },
      "outputs": [],
      "source": [
        "import pickle"
      ]
    },
    {
      "cell_type": "markdown",
      "id": "5e7bde01",
      "metadata": {
        "id": "5e7bde01"
      },
      "source": [
        "Pickle é um formato de arquivo de objeto python serializado na memória permanente. Ele é análogo ao JSON para dicionários ou o CSV para tabelas, mas ele funciona para objetos python, ou seja, é muito mais abrangente!"
      ]
    },
    {
      "cell_type": "code",
      "execution_count": null,
      "id": "5e97ba4d",
      "metadata": {
        "id": "5e97ba4d"
      },
      "outputs": [],
      "source": [
        "# vamos salvar em bytes (flag wb) para ser mais cross-platform (acessível a vários sistemas)\n",
        "with open('meu_modelo_serializado.pickle', 'wb') as f:\n",
        "    pickle.dump(lda, f)"
      ]
    },
    {
      "cell_type": "markdown",
      "id": "1cbbc601",
      "metadata": {
        "id": "1cbbc601"
      },
      "source": [
        "Pronto! Nosso modelo está salvo. Se quisermos usá-lo em um código em Python, podemos simplesmente carregá-lo:"
      ]
    },
    {
      "cell_type": "code",
      "execution_count": null,
      "id": "914ebb4a",
      "metadata": {
        "id": "914ebb4a"
      },
      "outputs": [],
      "source": [
        "with open('/content/meu_modelo_serializado.pickle', 'rb') as f:\n",
        "    modelo_carregado = pickle.load(f)"
      ]
    },
    {
      "cell_type": "code",
      "execution_count": null,
      "id": "820a9677",
      "metadata": {
        "id": "820a9677"
      },
      "outputs": [],
      "source": [
        "modelo_carregado.predict([[4, 2]])"
      ]
    },
    {
      "cell_type": "markdown",
      "id": "TEC3eiE_uxX3",
      "metadata": {
        "id": "TEC3eiE_uxX3"
      },
      "source": [
        "#Proposta de atividade\n",
        "\n",
        "### Tentar aplicar o LDA no mesmo dataset utilizado no CP1\n",
        "\n",
        "\n",
        "##### Parada no slide 11\n"
      ]
    },
    {
      "cell_type": "code",
      "execution_count": null,
      "id": "jCBllNjdvqcs",
      "metadata": {
        "id": "jCBllNjdvqcs"
      },
      "outputs": [],
      "source": []
    },
    {
      "cell_type": "code",
      "execution_count": null,
      "id": "B2nw9dUavqTE",
      "metadata": {
        "id": "B2nw9dUavqTE"
      },
      "outputs": [],
      "source": []
    },
    {
      "cell_type": "code",
      "execution_count": null,
      "id": "DI30Uo6VvqN8",
      "metadata": {
        "id": "DI30Uo6VvqN8"
      },
      "outputs": [],
      "source": []
    },
    {
      "cell_type": "markdown",
      "id": "5c339e73",
      "metadata": {
        "id": "5c339e73"
      },
      "source": [
        "Além do Pickle, o Scikit-Learn tem o método joblib que é mais eficiente para serializar modelos treinados através dessa biblioteca. Vejamos como usar esse formato de arquivo:"
      ]
    },
    {
      "cell_type": "code",
      "execution_count": null,
      "id": "7b6e616c",
      "metadata": {
        "id": "7b6e616c"
      },
      "outputs": [],
      "source": [
        "from joblib import dump, load"
      ]
    },
    {
      "cell_type": "code",
      "execution_count": null,
      "id": "241e1b8a",
      "metadata": {
        "id": "241e1b8a"
      },
      "outputs": [],
      "source": [
        "dump(lda, 'meu_modelo_serializado.joblib')"
      ]
    },
    {
      "cell_type": "code",
      "execution_count": null,
      "id": "991adc3e",
      "metadata": {
        "id": "991adc3e"
      },
      "outputs": [],
      "source": [
        "modelo_carregado2 = load('meu_modelo_serializado.joblib')"
      ]
    },
    {
      "cell_type": "code",
      "execution_count": null,
      "id": "371f97f1",
      "metadata": {
        "id": "371f97f1"
      },
      "outputs": [],
      "source": [
        "modelo_carregado2.predict([[1,2]])"
      ]
    },
    {
      "cell_type": "markdown",
      "id": "7afa969c",
      "metadata": {
        "id": "7afa969c"
      },
      "source": [
        "----------------------\n",
        "## Exemplo 2 - Botânica: Íris Dataset\n",
        "\n",
        "Esse dataset contém medidas da largura e comprimento da pétala e da sépala de **150 amostras** de flores, assim como a espécie de cada uma (*versicolor*, *setosa*, *virginica*). Mais informações: https://scikit-learn.org/stable/auto_examples/datasets/plot_iris_dataset.html.\n",
        "\n",
        "<img src=\"https://s3.amazonaws.com/assets.datacamp.com/blog_assets/Machine+Learning+R/iris-machinelearning.png\" alt=\"dieta\" width=\"600px\">"
      ]
    },
    {
      "cell_type": "markdown",
      "id": "66188fea",
      "metadata": {
        "id": "66188fea"
      },
      "source": [
        "Carregando e arrumando os dados como na Aula 15 sobre as flores Íris:\n",
        "\n",
        "Vamos realizar os mesmos procedimentos do Exemplo 1:"
      ]
    },
    {
      "cell_type": "markdown",
      "id": "d4623c47",
      "metadata": {
        "id": "d4623c47"
      },
      "source": [
        "### Exemplo 1 - Primeiro passo: Análise Exploratória"
      ]
    },
    {
      "cell_type": "code",
      "execution_count": null,
      "id": "7882b52a",
      "metadata": {
        "id": "7882b52a"
      },
      "outputs": [],
      "source": [
        "from sklearn import datasets # Para carregar dataset pronto no scikit-learn\n",
        "import pandas as pd # Para trabalhar com dados em tabelas\n",
        "\n",
        "# Para trabalhar com gráficos\n",
        "import matplotlib.pyplot as plt\n",
        "import seaborn as sns"
      ]
    },
    {
      "cell_type": "code",
      "execution_count": null,
      "id": "05259d3e",
      "metadata": {
        "id": "05259d3e"
      },
      "outputs": [],
      "source": [
        "# Carregando os dados\n",
        "iris = datasets.load_iris()\n",
        "\n",
        "dados = pd.DataFrame(data=iris.data,  # Estamos dizendo que o dados do dataframe são o atributo data do objeto iris\n",
        "                     columns = iris.feature_names) # Já o nome das colunas do dataframe serão o atrib feature_names"
      ]
    },
    {
      "cell_type": "code",
      "execution_count": null,
      "id": "FY5uPt16g0Fl",
      "metadata": {
        "id": "FY5uPt16g0Fl"
      },
      "outputs": [],
      "source": [
        "iris"
      ]
    },
    {
      "cell_type": "code",
      "execution_count": null,
      "id": "eVFGtU3qhGW_",
      "metadata": {
        "id": "eVFGtU3qhGW_"
      },
      "outputs": [],
      "source": [
        "iris.target_names[-1]"
      ]
    },
    {
      "cell_type": "code",
      "execution_count": null,
      "id": "6de08294",
      "metadata": {
        "id": "6de08294"
      },
      "outputs": [],
      "source": [
        "# Aqui estamos criando uma funcao que recebe o número da classe e retorna o nome correspondente\n",
        "def mapear_nomes(numero_classe):\n",
        "    return(iris.target_names[numero_classe])"
      ]
    },
    {
      "cell_type": "code",
      "execution_count": null,
      "id": "ca8ecece",
      "metadata": {
        "id": "ca8ecece"
      },
      "outputs": [],
      "source": [
        "dados['flower'] = iris.target\n",
        "dados['flower_name'] = dados['flower'].apply(mapear_nomes)"
      ]
    },
    {
      "cell_type": "code",
      "execution_count": null,
      "id": "187d7565",
      "metadata": {
        "id": "187d7565"
      },
      "outputs": [],
      "source": [
        "dados.head()"
      ]
    },
    {
      "cell_type": "code",
      "execution_count": null,
      "id": "9236efb9",
      "metadata": {
        "id": "9236efb9"
      },
      "outputs": [],
      "source": [
        "sns.pairplot(dados.drop(columns=['flower']), hue='flower_name')"
      ]
    },
    {
      "cell_type": "code",
      "execution_count": null,
      "id": "e0a691c7",
      "metadata": {
        "id": "e0a691c7"
      },
      "outputs": [],
      "source": [
        "fig, axes = plt.subplots(2, 2, figsize=(8, 5), dpi=80)\n",
        "\n",
        "sns.histplot(ax=axes[0][0],\n",
        "            data=dados,  # Perceba que estamos passando a coluna o dataframe completo\n",
        "            x = dados['sepal length (cm)'], # E aqui estamos selecionando a coluna\n",
        "            kde=True,\n",
        "            bins=20,\n",
        "            linewidth=0.7,\n",
        "            hue = dados['flower_name'],\n",
        "            palette=[\"g\", \"r\", \"b\"]\n",
        "            )\n",
        "\n",
        "sns.histplot(ax=axes[0][1],\n",
        "            data=dados,\n",
        "            palette=[\"g\", \"r\", \"b\"],\n",
        "            x = dados['sepal width (cm)'],\n",
        "            kde=True,\n",
        "            bins=20,\n",
        "            linewidth=0.7,\n",
        "            hue = dados['flower_name']\n",
        "            )\n",
        "\n",
        "sns.histplot(ax=axes[1][0],\n",
        "            data=dados,  # Perceba que estamos passando a coluna o dataframe completo\n",
        "            x = dados['petal length (cm)'], # E aqui estamos selecionando a coluna\n",
        "            kde=True,\n",
        "            bins=20,\n",
        "            linewidth=0.7,\n",
        "            hue = dados['flower_name'],\n",
        "            palette=[\"g\", \"r\", \"b\"]\n",
        "            )\n",
        "\n",
        "sns.histplot(ax=axes[1][1],\n",
        "            data=dados,\n",
        "            palette=[\"g\", \"r\", \"b\"],\n",
        "            x = dados['petal width (cm)'],\n",
        "            kde=True,\n",
        "            bins=20,\n",
        "            linewidth=0.7,\n",
        "            hue = dados['flower_name']\n",
        "            )\n",
        "\n",
        "plt.subplots_adjust(wspace=0.2, hspace=0.4)"
      ]
    },
    {
      "cell_type": "markdown",
      "id": "4751d93e",
      "metadata": {
        "id": "4751d93e"
      },
      "source": [
        "### Exemplo 2 - Segundo passo: separar os dados"
      ]
    },
    {
      "cell_type": "code",
      "execution_count": null,
      "id": "nQSvkZbRkM8a",
      "metadata": {
        "id": "nQSvkZbRkM8a"
      },
      "outputs": [],
      "source": []
    },
    {
      "cell_type": "code",
      "execution_count": null,
      "id": "b0c3edae",
      "metadata": {
        "id": "b0c3edae"
      },
      "outputs": [],
      "source": [
        "from sklearn.model_selection import train_test_split"
      ]
    },
    {
      "cell_type": "code",
      "execution_count": null,
      "id": "fadd9c12",
      "metadata": {
        "id": "fadd9c12"
      },
      "outputs": [],
      "source": [
        "# Escolhendo as colunas preditivas e alvo\n",
        "x = dados.drop(columns = ['flower', 'flower_name']) # Somente Comprimento do Abdômen e Comprimento das Antenas\n",
        "y = dados['flower_name']                # Classe alvo\n",
        "\n",
        "# Dividindo conjunto de treinamento e conjunto de teste\n",
        "x_train, x_test, y_train, y_test = train_test_split(x, y, test_size = 0.80, random_state = 8)"
      ]
    },
    {
      "cell_type": "code",
      "execution_count": null,
      "id": "NegZYTx9pD6Y",
      "metadata": {
        "id": "NegZYTx9pD6Y"
      },
      "outputs": [],
      "source": [
        "x.shape"
      ]
    },
    {
      "cell_type": "code",
      "execution_count": null,
      "id": "m243kCTIJE26",
      "metadata": {
        "id": "m243kCTIJE26"
      },
      "outputs": [],
      "source": [
        "x_train.head(3)"
      ]
    },
    {
      "cell_type": "code",
      "execution_count": null,
      "id": "8kGwM1A-o9la",
      "metadata": {
        "id": "8kGwM1A-o9la"
      },
      "outputs": [],
      "source": [
        "y.shape"
      ]
    },
    {
      "cell_type": "code",
      "execution_count": null,
      "id": "ddVh-IHio15P",
      "metadata": {
        "id": "ddVh-IHio15P"
      },
      "outputs": [],
      "source": [
        "x_train.shape, x_test.shape"
      ]
    },
    {
      "cell_type": "code",
      "execution_count": null,
      "id": "jM6TJuEUpy1L",
      "metadata": {
        "id": "jM6TJuEUpy1L"
      },
      "outputs": [],
      "source": [
        "max = x_train[\"sepal width (cm)\"].max()\n",
        "min = x_train[\"sepal width (cm)\"].min()"
      ]
    },
    {
      "cell_type": "code",
      "execution_count": null,
      "id": "7Sa-76AmqAkU",
      "metadata": {
        "id": "7Sa-76AmqAkU"
      },
      "outputs": [],
      "source": [
        "max, min"
      ]
    },
    {
      "cell_type": "code",
      "execution_count": null,
      "id": "jghRjellqFj8",
      "metadata": {
        "id": "jghRjellqFj8"
      },
      "outputs": [],
      "source": [
        "one_value = x_train[\"sepal width (cm)\"].iloc[0]"
      ]
    },
    {
      "cell_type": "code",
      "execution_count": null,
      "id": "KvVxf56ysOwK",
      "metadata": {
        "id": "KvVxf56ysOwK"
      },
      "outputs": [],
      "source": [
        "one_value"
      ]
    },
    {
      "cell_type": "code",
      "execution_count": null,
      "id": "YSirMQHysOqi",
      "metadata": {
        "id": "YSirMQHysOqi"
      },
      "outputs": [],
      "source": []
    },
    {
      "cell_type": "code",
      "execution_count": null,
      "id": "CNBqhOyvqP50",
      "metadata": {
        "id": "CNBqhOyvqP50"
      },
      "outputs": [],
      "source": [
        "(one_value - min) / (max - min)"
      ]
    },
    {
      "cell_type": "markdown",
      "id": "c7c40ded",
      "metadata": {
        "id": "c7c40ded"
      },
      "source": [
        "### Exemplo 2 - Terceiro passo: transformar os dados\n",
        "\n",
        "Para mais informações sobre tipos de escalonamento, consulte:\n",
        "https://scikit-learn.org/stable/auto_examples/preprocessing/plot_all_scaling.html#sphx-glr-auto-examples-preprocessing-plot-all-scaling-py"
      ]
    },
    {
      "cell_type": "code",
      "execution_count": null,
      "id": "7db6c2d0",
      "metadata": {
        "id": "7db6c2d0"
      },
      "outputs": [],
      "source": [
        "from sklearn.preprocessing import StandardScaler, MinMaxScaler"
      ]
    },
    {
      "cell_type": "code",
      "execution_count": null,
      "id": "e4499a9d",
      "metadata": {
        "id": "e4499a9d"
      },
      "outputs": [],
      "source": [
        "# Instanciando o Escalonador\n",
        "#scaler = StandardScaler()\n",
        "scaler = MinMaxScaler()\n",
        "\n",
        "# Treinando o escalonador\n",
        "scaler.fit(x_train)\n",
        "\n",
        "# Usando o escalonador treinado para transformar os dados\n",
        "x_train_scaled = scaler.transform(x_train)\n",
        "x_test_scaled = scaler.transform(x_test)"
      ]
    },
    {
      "cell_type": "code",
      "execution_count": null,
      "id": "yruIPmJiv5g8",
      "metadata": {
        "id": "yruIPmJiv5g8"
      },
      "outputs": [],
      "source": [
        "# StandardScaler Method"
      ]
    },
    {
      "cell_type": "code",
      "execution_count": null,
      "id": "57Jm4w6hkEp5",
      "metadata": {
        "id": "57Jm4w6hkEp5"
      },
      "outputs": [],
      "source": [
        "mean_var = dados[\"sepal length (cm)\"].mean()"
      ]
    },
    {
      "cell_type": "code",
      "execution_count": null,
      "id": "RMmXGRihlEm5",
      "metadata": {
        "id": "RMmXGRihlEm5"
      },
      "outputs": [],
      "source": [
        "dados[\"diff_mean\"] = dados[\"sepal length (cm)\"] - mean_var"
      ]
    },
    {
      "cell_type": "code",
      "execution_count": null,
      "id": "OymUFJhylV2C",
      "metadata": {
        "id": "OymUFJhylV2C"
      },
      "outputs": [],
      "source": [
        "dados[\"square\"] = dados[\"diff_mean\"] ** 2"
      ]
    },
    {
      "cell_type": "code",
      "execution_count": null,
      "id": "dWdAzM8IldNi",
      "metadata": {
        "id": "dWdAzM8IldNi"
      },
      "outputs": [],
      "source": [
        "desvio_padrao = np.sqrt(dados[\"square\"].sum() / dados.shape[0])"
      ]
    },
    {
      "cell_type": "code",
      "execution_count": null,
      "id": "FZ2MgA5YuE-D",
      "metadata": {
        "id": "FZ2MgA5YuE-D"
      },
      "outputs": [],
      "source": [
        "dados[\"standardscaler\"] = (dados[\"sepal length (cm)\"] - mean_var) / desvio_padrao"
      ]
    },
    {
      "cell_type": "code",
      "execution_count": null,
      "id": "_oJn6uzwueJu",
      "metadata": {
        "id": "_oJn6uzwueJu"
      },
      "outputs": [],
      "source": [
        "scaler = StandardScaler()\n",
        "scaler.fit(dados[\"sepal length (cm)\"].to_frame())\n",
        "scaler.transform(dados[\"sepal length (cm)\"].to_frame())"
      ]
    },
    {
      "cell_type": "code",
      "execution_count": null,
      "id": "nBF5RYTFuT6K",
      "metadata": {
        "id": "nBF5RYTFuT6K"
      },
      "outputs": [],
      "source": [
        "dados"
      ]
    },
    {
      "cell_type": "code",
      "execution_count": null,
      "id": "dvoojnpPv-YV",
      "metadata": {
        "id": "dvoojnpPv-YV"
      },
      "outputs": [],
      "source": [
        "max = dados[\"sepal width (cm)\"].max()\n",
        "min = dados[\"sepal width (cm)\"].min()"
      ]
    },
    {
      "cell_type": "code",
      "execution_count": null,
      "id": "EyDmdN96v-Kd",
      "metadata": {
        "id": "EyDmdN96v-Kd"
      },
      "outputs": [],
      "source": [
        "dados[\"min_max_scaler\"] = (dados[\"sepal width (cm)\"] - min) / (max - min)"
      ]
    },
    {
      "cell_type": "code",
      "execution_count": null,
      "id": "7KQgodVOwxYt",
      "metadata": {
        "id": "7KQgodVOwxYt"
      },
      "outputs": [],
      "source": [
        "dados"
      ]
    },
    {
      "cell_type": "code",
      "execution_count": null,
      "id": "hRl4bUsxwhmC",
      "metadata": {
        "id": "hRl4bUsxwhmC"
      },
      "outputs": [],
      "source": [
        "scaler = MinMaxScaler()\n",
        "scaler.fit(dados[\"sepal width (cm)\"].to_frame())\n",
        "scaler.transform(dados[\"sepal width (cm)\"].to_frame())"
      ]
    },
    {
      "cell_type": "markdown",
      "id": "c0d6049f",
      "metadata": {
        "id": "c0d6049f"
      },
      "source": [
        "### Exemplo 2 - Quarto passo: treinar o algoritmo"
      ]
    },
    {
      "cell_type": "code",
      "execution_count": null,
      "id": "43c610f0",
      "metadata": {
        "id": "43c610f0"
      },
      "outputs": [],
      "source": [
        "from sklearn.discriminant_analysis import LinearDiscriminantAnalysis"
      ]
    },
    {
      "cell_type": "code",
      "execution_count": null,
      "id": "XMl8IyP3NgMv",
      "metadata": {
        "id": "XMl8IyP3NgMv"
      },
      "outputs": [],
      "source": [
        "from sklearn.metrics import confusion_matrix, ConfusionMatrixDisplay#, plot_confusion_matrix\n",
        "from sklearn.metrics import (f1_score\n",
        "                             , accuracy_score\n",
        "                             , precision_score\n",
        "                             , recall_score\n",
        "                             , classification_report\n",
        "                             , cohen_kappa_score)"
      ]
    },
    {
      "cell_type": "code",
      "execution_count": null,
      "id": "e62ff685",
      "metadata": {
        "id": "e62ff685"
      },
      "outputs": [],
      "source": [
        "lda = LinearDiscriminantAnalysis()  # Criamos o objeto do classificador (não mudamos nenhum hiperpârametro)\n",
        "\n",
        "lda.fit(x_train, y_train) # Treinamos o classificador passando apenas o conjunto de dados de treinamento"
      ]
    },
    {
      "cell_type": "markdown",
      "id": "9bb3075b",
      "metadata": {
        "id": "9bb3075b"
      },
      "source": [
        "### Exemplo 2 - Quinto passo: testar e avaliar"
      ]
    },
    {
      "cell_type": "code",
      "execution_count": null,
      "id": "0vL9MPIBtqDc",
      "metadata": {
        "id": "0vL9MPIBtqDc"
      },
      "outputs": [],
      "source": [
        "dados.head()"
      ]
    },
    {
      "cell_type": "code",
      "execution_count": null,
      "id": "ZHRZxUbxoHxO",
      "metadata": {
        "id": "ZHRZxUbxoHxO"
      },
      "outputs": [],
      "source": [
        "lda.coef_"
      ]
    },
    {
      "cell_type": "code",
      "execution_count": null,
      "id": "5EHr2PiLt0J6",
      "metadata": {
        "id": "5EHr2PiLt0J6"
      },
      "outputs": [],
      "source": []
    },
    {
      "cell_type": "code",
      "execution_count": null,
      "id": "oyuDUZ5woOnW",
      "metadata": {
        "id": "oyuDUZ5woOnW"
      },
      "outputs": [],
      "source": [
        "lda.intercept_"
      ]
    },
    {
      "cell_type": "code",
      "execution_count": null,
      "id": "fb8f0c4d",
      "metadata": {
        "id": "fb8f0c4d"
      },
      "outputs": [],
      "source": [
        "# Perceba que estamos passando apenas o x de teste, afinal o algoritmo é que nos dira qual é o y\n",
        "y_predicoes = lda.predict(x_test)"
      ]
    },
    {
      "cell_type": "code",
      "execution_count": null,
      "id": "vsiNjo8eNVCD",
      "metadata": {
        "id": "vsiNjo8eNVCD"
      },
      "outputs": [],
      "source": [
        "y_predicoes"
      ]
    },
    {
      "cell_type": "code",
      "execution_count": null,
      "id": "bd3317b3",
      "metadata": {
        "id": "bd3317b3"
      },
      "outputs": [],
      "source": [
        "matriz_confusao = confusion_matrix(y_true = y_test,\n",
        "                                   y_pred = y_predicoes,\n",
        "                                   labels=iris.target_names)\n",
        "\n",
        "# plotando uma figura com a matriz de confusao\n",
        "figure = plt.figure(figsize=(15, 5))\n",
        "disp = ConfusionMatrixDisplay(confusion_matrix = matriz_confusao, display_labels=iris.target_names)\n",
        "disp.plot(values_format='d')"
      ]
    },
    {
      "cell_type": "code",
      "execution_count": null,
      "id": "6bec83eb",
      "metadata": {
        "id": "6bec83eb"
      },
      "outputs": [],
      "source": [
        "# Metricas de precisão, revocação, f1-score e acurácia.\n",
        "print(classification_report(y_test, y_predicoes))"
      ]
    },
    {
      "cell_type": "code",
      "execution_count": null,
      "id": "e217b9ea",
      "metadata": {
        "id": "e217b9ea"
      },
      "outputs": [],
      "source": [
        "# Métrica do Coeficiente Kappa de Cohen\n",
        "cohen_kappa_score(y_test, y_predicoes)"
      ]
    },
    {
      "cell_type": "code",
      "execution_count": null,
      "id": "4IrjSJLgFL4I",
      "metadata": {
        "id": "4IrjSJLgFL4I"
      },
      "outputs": [],
      "source": [
        "lda.coef_"
      ]
    },
    {
      "cell_type": "markdown",
      "id": "6758884b",
      "metadata": {
        "id": "6758884b"
      },
      "source": [
        "------------------\n",
        "## <font color='red'> Atenção</fonte>:\n",
        "\n",
        "A seguir são apresentados dois exemplos com datasets de pessoas reais.\n",
        "\n",
        "Ao se trabalhar com dados de pessoas devemos considerar a origem e os preceitos **bioéticos** envolvidos em sua coleta, construção e utilização.\n",
        "\n",
        "Além disso, é boa prática que os dados estejam anonimizados."
      ]
    },
    {
      "cell_type": "markdown",
      "id": "b889d7fc",
      "metadata": {
        "id": "b889d7fc"
      },
      "source": [
        "----------------------\n",
        "## Exemplo 3 - Diagnóstico médico: Problemas Ortopédicos na Coluna Vertebral\n",
        "\n",
        "Esse dataset contém dados sobre problemas ortopédicos na coluna vertebral, diagnosticados no Centre Médico-Chirurgical de Réadaptation des Massues, em Lyon, France. Contém 6 atributos biomecânicos para 310 entradas anonimizadas, sendo 100 de pacientes considerados sem problemas (Normal - NO), 60 de pacientes com Hérnia de Disco (Disk Hernia - DH) e 150 de pacientes com Espondilolistese (Spondylolisthesis - SL).\n",
        "\n",
        "O dataset está disponível em https://www.openml.org/d/1523\n",
        "\n",
        "\n",
        "![image-8.png](attachment:image-8.png)"
      ]
    },
    {
      "cell_type": "markdown",
      "id": "48b29922",
      "metadata": {
        "id": "48b29922"
      },
      "source": [
        "### Exemplo 3 - Primeiro passo: Carregar dados e Realizar a Análise Exploratória\n",
        "\n",
        "Para importar dados do OpenML podemos usar uma função pronta na biblioteca do Scikit-Learn:"
      ]
    },
    {
      "cell_type": "code",
      "execution_count": null,
      "id": "_AOgsRvs7e2L",
      "metadata": {
        "id": "_AOgsRvs7e2L"
      },
      "outputs": [],
      "source": [
        "import numpy as np"
      ]
    },
    {
      "cell_type": "code",
      "execution_count": null,
      "id": "vcTyblXB7dOL",
      "metadata": {
        "id": "vcTyblXB7dOL"
      },
      "outputs": [],
      "source": [
        "n = 70\n",
        "1 -(np.math.factorial(365) / ((365 ** n)* np.math.factorial(365 - n)))"
      ]
    },
    {
      "cell_type": "code",
      "execution_count": null,
      "id": "Lp2Fg1IE8sVV",
      "metadata": {
        "id": "Lp2Fg1IE8sVV"
      },
      "outputs": [],
      "source": [
        "n = 60\n",
        "p = 6\n",
        "C = np.math.factorial(n) / (np.math.factorial(p) * np.math.factorial(n - p))\n",
        "print(C, 1 / C)"
      ]
    },
    {
      "cell_type": "code",
      "execution_count": null,
      "id": "abc31f67",
      "metadata": {
        "id": "abc31f67"
      },
      "outputs": [],
      "source": [
        "from sklearn.datasets import fetch_openml"
      ]
    },
    {
      "cell_type": "code",
      "execution_count": null,
      "id": "Du_Mxw1HxKBe",
      "metadata": {
        "id": "Du_Mxw1HxKBe"
      },
      "outputs": [],
      "source": [
        "fetch_openml"
      ]
    },
    {
      "cell_type": "code",
      "execution_count": null,
      "id": "7c5bcaeb",
      "metadata": {
        "id": "7c5bcaeb"
      },
      "outputs": [],
      "source": [
        "dados = fetch_openml(data_id=1523)"
      ]
    },
    {
      "cell_type": "markdown",
      "id": "5f6dd919",
      "metadata": {
        "id": "5f6dd919"
      },
      "source": [
        "Perceba que o tipo do dado continua sendo um objeto Bunch, como vimos na aula 15."
      ]
    },
    {
      "cell_type": "code",
      "execution_count": null,
      "id": "9ky-o2yBrC8R",
      "metadata": {
        "id": "9ky-o2yBrC8R"
      },
      "outputs": [],
      "source": [
        "dados"
      ]
    },
    {
      "cell_type": "code",
      "execution_count": null,
      "id": "f082ce8f",
      "metadata": {
        "id": "f082ce8f"
      },
      "outputs": [],
      "source": [
        "type(\"texto\")"
      ]
    },
    {
      "cell_type": "markdown",
      "id": "2d615cb4",
      "metadata": {
        "id": "2d615cb4"
      },
      "source": [
        "Agora que temos os dados carregamos em memória, podemos transformá-lo em um Dataframe do pandas:"
      ]
    },
    {
      "cell_type": "code",
      "execution_count": null,
      "id": "c2f46e40",
      "metadata": {
        "id": "c2f46e40"
      },
      "outputs": [],
      "source": [
        "import pandas as pd"
      ]
    },
    {
      "cell_type": "code",
      "execution_count": null,
      "id": "94317a07",
      "metadata": {
        "id": "94317a07"
      },
      "outputs": [],
      "source": [
        "df = pd.DataFrame(dados.data, columns=dados.feature_names)"
      ]
    },
    {
      "cell_type": "code",
      "execution_count": null,
      "id": "147232a9",
      "metadata": {
        "id": "147232a9"
      },
      "outputs": [],
      "source": [
        "df.head()"
      ]
    },
    {
      "cell_type": "markdown",
      "id": "ce4328a8",
      "metadata": {
        "id": "ce4328a8"
      },
      "source": [
        "Vamos adicionar a coluna de target na frente.\n",
        "\n",
        "Perceba, entretanto, que o atributo target_names do Bunch dados não nos é útil. Vamos precisar encontrar o diagnóstico representado por cada número de outra forma. Por sorte, temos a informação de quantas entradas são para cada classe e podemos usar isso para mapear os nomes corretos:"
      ]
    },
    {
      "cell_type": "code",
      "execution_count": null,
      "id": "97a4797d",
      "metadata": {
        "id": "97a4797d"
      },
      "outputs": [],
      "source": [
        "dados.target_names"
      ]
    },
    {
      "cell_type": "code",
      "execution_count": null,
      "id": "db4cbba6",
      "metadata": {
        "id": "db4cbba6"
      },
      "outputs": [],
      "source": [
        "list(dados.target).count('1')"
      ]
    },
    {
      "cell_type": "code",
      "execution_count": null,
      "id": "F5zgEWNVrt9t",
      "metadata": {
        "id": "F5zgEWNVrt9t"
      },
      "outputs": [],
      "source": [
        "dados.target"
      ]
    },
    {
      "cell_type": "code",
      "execution_count": null,
      "id": "7df0123b",
      "metadata": {
        "id": "7df0123b"
      },
      "outputs": [],
      "source": [
        "list(dados.target).count('2')"
      ]
    },
    {
      "cell_type": "code",
      "execution_count": null,
      "id": "cfa59079",
      "metadata": {
        "id": "cfa59079"
      },
      "outputs": [],
      "source": [
        "list(dados.target).count('3')"
      ]
    },
    {
      "cell_type": "code",
      "execution_count": null,
      "id": "2dab92bb",
      "metadata": {
        "id": "2dab92bb"
      },
      "outputs": [],
      "source": [
        "target_map={\n",
        "    '1':'Disk Hernia',\n",
        "    '2':'Normal',\n",
        "    '3':'Spondylolisthesis'\n",
        "}"
      ]
    },
    {
      "cell_type": "code",
      "execution_count": null,
      "id": "83d9d312",
      "metadata": {
        "id": "83d9d312"
      },
      "outputs": [],
      "source": [
        "df['diagnostic'] = [target_map[target] for target in dados.target]"
      ]
    },
    {
      "cell_type": "code",
      "execution_count": null,
      "id": "818bd9a9",
      "metadata": {
        "id": "818bd9a9"
      },
      "outputs": [],
      "source": [
        "df.head(3)"
      ]
    },
    {
      "cell_type": "markdown",
      "id": "2cbd1b79",
      "metadata": {
        "id": "2cbd1b79"
      },
      "source": [
        "Vamos gerar algumas estatísticas e visualizações exploratórias dos dados:"
      ]
    },
    {
      "cell_type": "code",
      "execution_count": null,
      "id": "e162c1f5",
      "metadata": {
        "id": "e162c1f5"
      },
      "outputs": [],
      "source": [
        "import seaborn as sns"
      ]
    },
    {
      "cell_type": "code",
      "execution_count": null,
      "id": "701cfb3c",
      "metadata": {
        "id": "701cfb3c"
      },
      "outputs": [],
      "source": [
        "import seaborn as sns\n",
        "sns.pairplot(df, hue='diagnostic')"
      ]
    },
    {
      "cell_type": "code",
      "execution_count": null,
      "id": "82e1b690",
      "metadata": {
        "id": "82e1b690"
      },
      "outputs": [],
      "source": [
        "df.groupby('diagnostic').mean()"
      ]
    },
    {
      "cell_type": "code",
      "execution_count": null,
      "id": "d2ae2d27",
      "metadata": {
        "id": "d2ae2d27"
      },
      "outputs": [],
      "source": [
        "df.groupby('diagnostic').std()"
      ]
    },
    {
      "cell_type": "markdown",
      "id": "3193cd16",
      "metadata": {
        "id": "3193cd16"
      },
      "source": [
        "### Exemplo 3 - Segundo passo: separar os dados"
      ]
    },
    {
      "cell_type": "code",
      "execution_count": null,
      "id": "e01ccb4e",
      "metadata": {
        "id": "e01ccb4e"
      },
      "outputs": [],
      "source": [
        "from sklearn.model_selection import train_test_split\n",
        "\n",
        "from sklearn.preprocessing import StandardScaler, MinMaxScaler"
      ]
    },
    {
      "cell_type": "code",
      "execution_count": null,
      "id": "8bce3b84",
      "metadata": {
        "id": "8bce3b84"
      },
      "outputs": [],
      "source": [
        "import seaborn as sns\n",
        "sns.pairplot(df, hue='diagnostic')\n",
        "\n",
        "\n",
        "from sklearn.model_selection import train_test_split\n",
        "\n",
        "from sklearn.preprocessing import StandardScaler, MinMaxScaler\n",
        "\n",
        "# Escolhendo as colunas preditivas e alvo\n",
        "x = df.drop(columns = ['diagnostic']) # Somente Comprimento do Abdômen e Comprimento das Antenas\n",
        "y = df['diagnostic']                # Classe alvo\n",
        "\n",
        "# Dividindo conjunto de treinamento e conjunto de teste\n",
        "x_train, x_test, y_train, y_test = train_test_split(x, y, test_size = 0.20, random_state = 8)"
      ]
    },
    {
      "cell_type": "markdown",
      "id": "8cd6bca8",
      "metadata": {
        "id": "8cd6bca8"
      },
      "source": [
        "### Exemplos 3 - Terceiro passo: transformar dados"
      ]
    },
    {
      "cell_type": "code",
      "execution_count": null,
      "id": "4ac62afa",
      "metadata": {
        "id": "4ac62afa"
      },
      "outputs": [],
      "source": [
        "# Instanciando o Escalonador\n",
        "#scaler = StandardScaler()\n",
        "scaler = MinMaxScaler()\n",
        "\n",
        "# Treinando o escalonador\n",
        "scaler.fit(x_train)\n",
        "\n",
        "# Usando o escalonador treinado para transformar os dados\n",
        "x_train_scaled = scaler.transform(x_train)\n",
        "x_test_scaled = scaler.transform(x_test)"
      ]
    },
    {
      "cell_type": "markdown",
      "id": "ae828e0f",
      "metadata": {
        "id": "ae828e0f"
      },
      "source": [
        "### Exemplo 3 - Quarto passo: treinar o algoritmo"
      ]
    },
    {
      "cell_type": "code",
      "execution_count": null,
      "id": "f8ce884b",
      "metadata": {
        "id": "f8ce884b"
      },
      "outputs": [],
      "source": [
        "from sklearn.discriminant_analysis import LinearDiscriminantAnalysis"
      ]
    },
    {
      "cell_type": "code",
      "execution_count": null,
      "id": "3315fd55",
      "metadata": {
        "id": "3315fd55"
      },
      "outputs": [],
      "source": [
        "lda = LinearDiscriminantAnalysis()  # Criamos o objeto do classificador (não mudamos nenhum hiperpârametro)\n",
        "\n",
        "lda.fit(x_train_scaled, y_train) # Treinamos o classificador passando apenas o conjunto de dados de treinamento"
      ]
    },
    {
      "cell_type": "markdown",
      "id": "b077f326",
      "metadata": {
        "id": "b077f326"
      },
      "source": [
        "### Exemplo 3 - Quinto passo: testar e avaliar"
      ]
    },
    {
      "cell_type": "code",
      "execution_count": null,
      "id": "be3c6714",
      "metadata": {
        "id": "be3c6714"
      },
      "outputs": [],
      "source": [
        "import matplotlib.pyplot as plt\n",
        "from sklearn.metrics import confusion_matrix, ConfusionMatrixDisplay\n",
        "from sklearn.metrics import f1_score, accuracy_score, precision_score, recall_score, classification_report"
      ]
    },
    {
      "cell_type": "code",
      "execution_count": null,
      "id": "54c6b4a6",
      "metadata": {
        "id": "54c6b4a6"
      },
      "outputs": [],
      "source": [
        "# Perceba que estamos passando apenas o x de teste, afinal o algoritmo é que nos dira qual é o y\n",
        "y_predicoes = lda.predict(x_test_scaled)"
      ]
    },
    {
      "cell_type": "code",
      "execution_count": null,
      "id": "8d64062a",
      "metadata": {
        "id": "8d64062a"
      },
      "outputs": [],
      "source": [
        "matriz_confusao = confusion_matrix(y_true = y_test,\n",
        "                                   y_pred = y_predicoes,\n",
        "                                   labels=['Disk Hernia','Normal','Spondylolisthesis'])\n",
        "\n",
        "# plotando uma figura com a matriz de confusao\n",
        "figure = plt.figure(figsize=(15, 5))\n",
        "disp = ConfusionMatrixDisplay(confusion_matrix = matriz_confusao,\n",
        "                              display_labels=['Disk Hernia','Normal','Spondylolisthesis'])\n",
        "disp.plot(values_format='d')"
      ]
    },
    {
      "cell_type": "code",
      "execution_count": null,
      "id": "sNXhGB1fx5xv",
      "metadata": {
        "id": "sNXhGB1fx5xv"
      },
      "outputs": [],
      "source": [
        "13 / (13 + 6)"
      ]
    },
    {
      "cell_type": "code",
      "execution_count": null,
      "id": "-3XeKSG9yJy4",
      "metadata": {
        "id": "-3XeKSG9yJy4"
      },
      "outputs": [],
      "source": [
        "31 / (31 + 6)"
      ]
    },
    {
      "cell_type": "code",
      "execution_count": null,
      "id": "vkSbOMuxyOsY",
      "metadata": {
        "id": "vkSbOMuxyOsY"
      },
      "outputs": [],
      "source": [
        "31 / (31 + 3)"
      ]
    },
    {
      "cell_type": "code",
      "execution_count": null,
      "id": "aa809d05",
      "metadata": {
        "id": "aa809d05"
      },
      "outputs": [],
      "source": [
        "# Metricas de precisão, revocação, f1-score e acurácia.\n",
        "print(classification_report(y_test, y_predicoes))"
      ]
    },
    {
      "cell_type": "code",
      "execution_count": null,
      "id": "9db5d56e",
      "metadata": {
        "id": "9db5d56e"
      },
      "outputs": [],
      "source": [
        "# Métrica do Coeficiente Kappa de Cohen\n",
        "cohen_kappa_score(y_test, y_predicoes)"
      ]
    },
    {
      "cell_type": "markdown",
      "id": "be5337b0",
      "metadata": {
        "id": "be5337b0"
      },
      "source": [
        "Obtivemos, no geral, uma acurácia baixa.\n",
        "\n",
        "Além disso nosso Recall em relação a Hérnia de Disco é muito baixo (temos muitos falsos negativos - pacientes que não tem hérnia de disco classificados com hérnia de disco);\n",
        "\n",
        "Nossa precisão para Normal também está baixa (temos muito falsos positivos - pacientes classificados como normal mas que tem algum problema);\n",
        "\n",
        "Precisamos voltar ao **Passo 4** e mexer nos hiperparâmetros do nosso algoritmo ou escolher outro algoritmo de classificação. Vejamos outros algoritmos:"
      ]
    },
    {
      "cell_type": "markdown",
      "id": "f3cab496",
      "metadata": {
        "id": "f3cab496"
      },
      "source": [
        "### Exemplo 3 - De volta ao passo 4:"
      ]
    },
    {
      "cell_type": "code",
      "execution_count": null,
      "id": "9579adb8",
      "metadata": {
        "id": "9579adb8"
      },
      "outputs": [],
      "source": [
        "# Naive Bayes Gaussiano\n",
        "from sklearn.naive_bayes import GaussianNB\n",
        "\n",
        "# Passo 4 - Treinar o Classificador\n",
        "gnb = GaussianNB()  # Criamos o objeto do classificador (não mudamos nenhum hiperpârametro)\n",
        "gnb.fit(x_train, y_train) # Treinamos o classificador passando apenas o conjunto de dados de treinamento\n",
        "\n",
        "# Passo 5 - Testar o Classificador\n",
        "y_predicoes = gnb.predict(x_test)\n",
        "\n",
        "# Metricas de precisão, revocação, f1-score e acurácia.\n",
        "print(classification_report(y_test, y_predicoes))"
      ]
    },
    {
      "cell_type": "code",
      "execution_count": null,
      "id": "bc4f9f6f",
      "metadata": {
        "id": "bc4f9f6f"
      },
      "outputs": [],
      "source": [
        "# k-vizinhos mais próximos (KNN)\n",
        "from sklearn.neighbors import KNeighborsClassifier\n",
        "\n",
        "# Passo 4 - Treinar o Classificador\n",
        "knn = KNeighborsClassifier() # Criando classificador (sem nenhum hiperparametro)\n",
        "knn.fit(x_train, y_train) # Treinamos o classificador passando apenas o conjunto de dados de treinamento\n",
        "\n",
        "# Passo 5 - Testar o Classificador\n",
        "y_predicoes = knn.predict(x_test)\n",
        "\n",
        "# Metricas de precisão, revocação, f1-score e acurácia.\n",
        "print(classification_report(y_test, y_predicoes))"
      ]
    },
    {
      "cell_type": "code",
      "execution_count": null,
      "id": "fsPro-ZmOQF7",
      "metadata": {
        "id": "fsPro-ZmOQF7"
      },
      "outputs": [],
      "source": [
        "from sklearn.datasets import load_iris\n",
        "from sklearn.model_selection import train_test_split\n",
        "\n",
        "iris = load_iris(as_frame=True)\n",
        "X = iris.data[[\"sepal length (cm)\", \"sepal width (cm)\"]]\n",
        "y = iris.target\n",
        "X_train, X_test, y_train, y_test = train_test_split(X, y, stratify=y, random_state=0)"
      ]
    },
    {
      "cell_type": "code",
      "execution_count": null,
      "id": "27YX2SFLNeA9",
      "metadata": {
        "id": "27YX2SFLNeA9"
      },
      "outputs": [],
      "source": [
        "from sklearn.neighbors import KNeighborsClassifier\n",
        "from sklearn.pipeline import Pipeline\n",
        "from sklearn.preprocessing import StandardScaler\n",
        "\n",
        "clf = Pipeline(\n",
        "    steps=[(\"scaler\", StandardScaler()), (\"knn\", KNeighborsClassifier(n_neighbors=15))]\n",
        ")"
      ]
    },
    {
      "cell_type": "code",
      "execution_count": null,
      "id": "GlSSQneiNBs2",
      "metadata": {
        "id": "GlSSQneiNBs2"
      },
      "outputs": [],
      "source": [
        "from sklearn.inspection import DecisionBoundaryDisplay\n",
        "\n",
        "_, axs = plt.subplots(ncols=2, figsize=(12, 5))\n",
        "\n",
        "for ax, weights in zip(axs, (\"uniform\", \"distance\")):\n",
        "    clf.set_params(knn__weights=weights).fit(X_train, y_train)\n",
        "    disp = DecisionBoundaryDisplay.from_estimator(\n",
        "        clf,\n",
        "        X_test,\n",
        "        response_method=\"predict\",\n",
        "        plot_method=\"pcolormesh\",\n",
        "        xlabel=iris.feature_names[0],\n",
        "        ylabel=iris.feature_names[1],\n",
        "        shading=\"auto\",\n",
        "        alpha=0.5,\n",
        "        ax=ax,\n",
        "    )\n",
        "    scatter = disp.ax_.scatter(X.iloc[:, 0], X.iloc[:, 1], c=y, edgecolors=\"k\")\n",
        "    disp.ax_.legend(\n",
        "        scatter.legend_elements()[0],\n",
        "        iris.target_names,\n",
        "        loc=\"lower left\",\n",
        "        title=\"Classes\",\n",
        "    )\n",
        "    _ = disp.ax_.set_title(\n",
        "        f\"3-Class classification\\n(k={clf[-1].n_neighbors}, weights={weights!r})\"\n",
        "    )\n",
        "\n",
        "plt.show()"
      ]
    },
    {
      "cell_type": "code",
      "execution_count": null,
      "id": "213a3bc0",
      "metadata": {
        "id": "213a3bc0"
      },
      "outputs": [],
      "source": [
        "# Árvore de Decisão\n",
        "from sklearn.tree import DecisionTreeClassifier\n",
        "\n",
        "# Passo 4 - Treinar o Classificador\n",
        "dtree = DecisionTreeClassifier() # Criando classificador (sem nenhum hiperparametro)\n",
        "dtree.fit(x_train, y_train) # Treinamos o classificador passando apenas o conjunto de dados de treinamento\n",
        "\n",
        "# Passo 5 - Testar o Classificador\n",
        "y_predicoes = dtree.predict(x_test)\n",
        "\n",
        "# Metricas de precisão, revocação, f1-score e acurácia.\n",
        "print(classification_report(y_test, y_predicoes))"
      ]
    },
    {
      "cell_type": "code",
      "execution_count": null,
      "id": "1531f143",
      "metadata": {
        "id": "1531f143"
      },
      "outputs": [],
      "source": [
        "# RandomForest\n",
        "from sklearn.ensemble import RandomForestClassifier\n",
        "\n",
        "# Passo 4 - Treinar o Classificador\n",
        "rf = RandomForestClassifier(random_state=42) # Criando classificador (hiperparametro de seed)\n",
        "rf.fit(x_train, y_train) # Treinamos o classificador passando apenas o conjunto de dados de treinamento\n",
        "\n",
        "# Passo 5 - Testar o Classificador\n",
        "y_predicoes = rf.predict(x_test)\n",
        "\n",
        "# Metricas de precisão, revocação, f1-score e acurácia.\n",
        "print(classification_report(y_test, y_predicoes))"
      ]
    },
    {
      "cell_type": "code",
      "execution_count": null,
      "id": "1e0c77c2",
      "metadata": {
        "id": "1e0c77c2"
      },
      "outputs": [],
      "source": [
        "# Máquina de Vetor Suporte\n",
        "from sklearn.svm import SVC\n",
        "\n",
        "# Passo 4 - Treinar o Classificador\n",
        "svm = SVC() # Criando classificador (sem nenhum hiperparametro)\n",
        "svm.fit(x_train, y_train) # Treinamos o classificador passando apenas o conjunto de dados de treinamento\n",
        "\n",
        "# Passo 5 - Testar o Classificador\n",
        "y_predicoes = svm.predict(x_test)\n",
        "\n",
        "# Metricas de precisão, revocação, f1-score e acurácia.\n",
        "print(classification_report(y_test, y_predicoes))"
      ]
    },
    {
      "cell_type": "code",
      "execution_count": null,
      "id": "869c24ef",
      "metadata": {
        "id": "869c24ef"
      },
      "outputs": [],
      "source": [
        "# Regressão Logística\n",
        "from sklearn.linear_model import LogisticRegression\n",
        "\n",
        "# Passo 4 - Treinar o Classificador\n",
        "logreg = LogisticRegression() # Criando classificador (sem nenhum hiperparametro)\n",
        "logreg.fit(x_train, y_train) # Treinamos o classificador passando apenas o conjunto de dados de treinamento\n",
        "\n",
        "# Passo 5 - Testar o Classificador\n",
        "y_predicoes = logreg.predict(x_test)\n",
        "\n",
        "# Metricas de precisão, revocação, f1-score e acurácia.\n",
        "print(classification_report(y_test, y_predicoes))"
      ]
    },
    {
      "cell_type": "markdown",
      "id": "c2ff4d37",
      "metadata": {
        "id": "c2ff4d37"
      },
      "source": [
        "Nós testamos diferentes algoritmos de classificação.\n",
        "\n",
        "Perceba que a forma básica de todos eles é extremamente igual.\n",
        "\n",
        "Os nuances começam a aparecer quando olhamos em mais detalhes os hiperparâmetros e como cada algoritmo funciona internamente.\n",
        "\n",
        "Entre na documentação de cada um dos classificadores e tente usar diferentes hiperparâmetros para ver se você consegue melhorar a performance de algum deles.\n",
        "\n",
        "Outra coisa é que certos algoritmos funcionam melhor se os dados fornecidos seguirem determinadas propriedades. Por isso é muito comum fazer uma etapa de pré-processamento dos dados na qual os dados são **transformados** para seguir determinada característica. É nesta etapa que fazemos os **escalonamento** dos dados. Volte ao **passo 3** e veja se o escalonamento influencia a resultado para cada um dos algoritmos testados.\n",
        "\n",
        "Outro ponto é que podemos realizar uma busca exaustiva sobre quais são os melhores hipeparâmetros. Técnicas comuns para se fazer isso são o **GridSearch**, o **RandomSearch**, e a **Validação Cruzada**."
      ]
    },
    {
      "cell_type": "markdown",
      "id": "b895d716",
      "metadata": {
        "id": "b895d716"
      },
      "source": [
        "----------------------\n",
        "## Exercício - Diagnóstico médico: Diabetes no povo Pima\n",
        "\n",
        "Esse dataset contém dados sobre incidência de diabetes em mulheres do Povo Pima (índios nativos norte americanos originários do atual Estado do Arizona). Contém 8 atributos biomédicos para 768 entradas anonimizadas, sendo 500 testados negativo para diabetes e 268 testados positivo para diabetes.\n",
        "\n",
        "O dataset está disponível em https://www.openml.org/d/37.\n",
        "\n",
        "![image-6.png](attachment:image-6.png)"
      ]
    },
    {
      "cell_type": "markdown",
      "id": "cf90323a",
      "metadata": {
        "id": "cf90323a"
      },
      "source": [
        "São 8 atributos mais a classe (onde 1 significa que testou positivo para diabetes):\n",
        "- **preg** Number of times pregnant\n",
        "- **plas** Plasma glucose concentration a 2 hours in an oral glucose tolerance test\n",
        "- **pres** Diastolic blood pressure (mm Hg)\n",
        "- **skin** Triceps skin fold thickness (mm)\n",
        "- **insu** 2-Hour serum insulin (mu U/mL)\n",
        "- **mass** Body mass index (weight in kg/ height in m²)\n",
        "- **pedi** Diabetes pedigree function\n",
        "- **age** Age (years)\n",
        "- **Class** variable (0 or 1)"
      ]
    },
    {
      "cell_type": "markdown",
      "id": "71c599e3",
      "metadata": {
        "id": "71c599e3"
      },
      "source": [
        "### Exercício 4.1: Faça análise exploratória dos dados"
      ]
    },
    {
      "cell_type": "code",
      "execution_count": null,
      "id": "p-_OvYHPD3F9",
      "metadata": {
        "id": "p-_OvYHPD3F9"
      },
      "outputs": [],
      "source": [
        "import pandas as pd"
      ]
    },
    {
      "cell_type": "code",
      "execution_count": null,
      "id": "eGgavwd4NwBJ",
      "metadata": {
        "id": "eGgavwd4NwBJ"
      },
      "outputs": [],
      "source": [
        "from scipy.io import arff\n",
        "\n",
        "import pandas as pd"
      ]
    },
    {
      "cell_type": "code",
      "execution_count": null,
      "id": "a4ecb784",
      "metadata": {
        "id": "a4ecb784"
      },
      "outputs": [],
      "source": [
        "data, meta = arff.loadarff('dataset_37_diabetes.arff')"
      ]
    },
    {
      "cell_type": "code",
      "execution_count": null,
      "id": "4sXgtAL5Ny74",
      "metadata": {
        "id": "4sXgtAL5Ny74"
      },
      "outputs": [],
      "source": [
        "df = pd.DataFrame(data)\n",
        "df.head()"
      ]
    },
    {
      "cell_type": "code",
      "execution_count": null,
      "id": "9mbYtg0c7OuE",
      "metadata": {
        "id": "9mbYtg0c7OuE"
      },
      "outputs": [],
      "source": [
        "df.dtypes"
      ]
    },
    {
      "cell_type": "code",
      "execution_count": null,
      "id": "rEHx2arWOQcT",
      "metadata": {
        "id": "rEHx2arWOQcT"
      },
      "outputs": [],
      "source": [
        "df['class'] = df['class'].str.decode(\"utf8\")"
      ]
    },
    {
      "cell_type": "code",
      "execution_count": null,
      "id": "6Xrj_Bp7P1l-",
      "metadata": {
        "id": "6Xrj_Bp7P1l-"
      },
      "outputs": [],
      "source": [
        "df.head()"
      ]
    },
    {
      "cell_type": "code",
      "execution_count": null,
      "id": "8hdvi7D7P5QW",
      "metadata": {
        "id": "8hdvi7D7P5QW"
      },
      "outputs": [],
      "source": [
        "df[\"class\"][0].split(\"_\")[1]"
      ]
    },
    {
      "cell_type": "code",
      "execution_count": null,
      "id": "Uw4xIO2yQSaH",
      "metadata": {
        "id": "Uw4xIO2yQSaH"
      },
      "outputs": [],
      "source": [
        "df = df.assign(\n",
        "    classe=df.apply(lambda x: x[\"class\"].split(\"_\")[1], axis=1)\n",
        ")"
      ]
    },
    {
      "cell_type": "code",
      "execution_count": null,
      "id": "Lf32rAXqQ8PG",
      "metadata": {
        "id": "Lf32rAXqQ8PG"
      },
      "outputs": [],
      "source": [
        "df.drop([\"class\"], inplace=True, axis=1)"
      ]
    },
    {
      "cell_type": "code",
      "execution_count": null,
      "id": "pOkL7rlOQz-2",
      "metadata": {
        "id": "pOkL7rlOQz-2"
      },
      "outputs": [],
      "source": [
        "df.head()"
      ]
    },
    {
      "cell_type": "code",
      "execution_count": null,
      "id": "upOe4BokOkxC",
      "metadata": {
        "id": "upOe4BokOkxC"
      },
      "outputs": [],
      "source": []
    },
    {
      "cell_type": "code",
      "execution_count": null,
      "id": "qRBWZtGHOkpf",
      "metadata": {
        "id": "qRBWZtGHOkpf"
      },
      "outputs": [],
      "source": [
        "from sklearn.datasets import fetch_openml"
      ]
    },
    {
      "cell_type": "code",
      "execution_count": null,
      "id": "TIUxXtPfOkhU",
      "metadata": {
        "id": "TIUxXtPfOkhU"
      },
      "outputs": [],
      "source": [
        "dados_diabetes = fetch_openml(data_id=37)"
      ]
    },
    {
      "cell_type": "code",
      "execution_count": null,
      "id": "xe-6FpNGOkOC",
      "metadata": {
        "id": "xe-6FpNGOkOC"
      },
      "outputs": [],
      "source": [
        "df_diabetes = pd.DataFrame(data = dados_diabetes.data)\n",
        "df_diabetes.head()"
      ]
    },
    {
      "cell_type": "code",
      "execution_count": null,
      "id": "gyg7IiyWoJwj",
      "metadata": {
        "id": "gyg7IiyWoJwj"
      },
      "outputs": [],
      "source": [
        "df_diabetes['target'] = dados_diabetes.target.to_frame()"
      ]
    },
    {
      "cell_type": "code",
      "execution_count": null,
      "id": "JxAEYgxRxYjL",
      "metadata": {
        "id": "JxAEYgxRxYjL"
      },
      "outputs": [],
      "source": []
    },
    {
      "cell_type": "code",
      "execution_count": null,
      "id": "1i0dSchRoJtr",
      "metadata": {
        "id": "1i0dSchRoJtr"
      },
      "outputs": [],
      "source": [
        "df_diabetes.head()"
      ]
    },
    {
      "cell_type": "code",
      "execution_count": null,
      "id": "lX8pGUskp16T",
      "metadata": {
        "id": "lX8pGUskp16T"
      },
      "outputs": [],
      "source": [
        "import seaborn as sns\n",
        "\n",
        "sns.pairplot(df_diabetes, hue='target')"
      ]
    },
    {
      "cell_type": "code",
      "execution_count": null,
      "id": "qqbvPzNnrhrk",
      "metadata": {
        "id": "qqbvPzNnrhrk"
      },
      "outputs": [],
      "source": [
        "# Escolhendo as colunas preditivas e alvo\n",
        "x = df_diabetes.drop(columns = ['target']) # Somente Comprimento do Abdômen e Comprimento das Antenas\n",
        "y = df_diabetes['target']                # Classe alvo"
      ]
    },
    {
      "cell_type": "code",
      "execution_count": null,
      "id": "WsZqP9nrpVL7",
      "metadata": {
        "id": "WsZqP9nrpVL7"
      },
      "outputs": [],
      "source": [
        "from sklearn.model_selection import train_test_split\n",
        "from sklearn.preprocessing import StandardScaler, MinMaxScaler\n",
        "\n",
        "\n",
        "# Dividindo conjunto de treinamento e conjunto de teste\n",
        "x_train, x_test, y_train, y_test = train_test_split(x, y, test_size = 0.20, random_state = 8)"
      ]
    },
    {
      "cell_type": "code",
      "execution_count": null,
      "id": "0w7iGlZCpVGL",
      "metadata": {
        "id": "0w7iGlZCpVGL"
      },
      "outputs": [],
      "source": [
        "# Instanciando o Escalonador\n",
        "#scaler = StandardScaler()\n",
        "scaler = MinMaxScaler()\n",
        "\n",
        "# Treinando o escalonador\n",
        "scaler.fit(x_train)\n",
        "\n",
        "# Usando o escalonador treinado para transformar os dados\n",
        "x_train_scaled = scaler.transform(x_train)\n",
        "x_test_scaled = scaler.transform(x_test)"
      ]
    },
    {
      "cell_type": "code",
      "execution_count": null,
      "id": "_IIrYfZKsFJc",
      "metadata": {
        "id": "_IIrYfZKsFJc"
      },
      "outputs": [],
      "source": [
        "y_train"
      ]
    },
    {
      "cell_type": "code",
      "execution_count": null,
      "id": "9QzqE1KivIJz",
      "metadata": {
        "id": "9QzqE1KivIJz"
      },
      "outputs": [],
      "source": [
        "from sklearn.discriminant_analysis import LinearDiscriminantAnalysis\n",
        "lda = LinearDiscriminantAnalysis()  # Criamos o objeto do classificador (não mudamos nenhum hiperpârametro)\n",
        "\n",
        "lda.fit(x_train_scaled, y_train)"
      ]
    },
    {
      "cell_type": "markdown",
      "id": "fe80f1f4",
      "metadata": {
        "id": "fe80f1f4"
      },
      "source": [
        "### Exercício 4.2: Crie um classificador que prediz se uma determinada mulher tem ou não um diagnostico positivo para diabetes. Qual foi o melhor modelo (em acurácia) que você conseguiur criar?"
      ]
    },
    {
      "cell_type": "code",
      "execution_count": null,
      "id": "hjpB92ij28yU",
      "metadata": {
        "id": "hjpB92ij28yU"
      },
      "outputs": [],
      "source": [
        "4/52"
      ]
    },
    {
      "cell_type": "code",
      "execution_count": null,
      "id": "f12363a9",
      "metadata": {
        "id": "f12363a9"
      },
      "outputs": [],
      "source": [
        "## Coloque seu código aqui"
      ]
    },
    {
      "cell_type": "code",
      "execution_count": null,
      "id": "QL-f_sNxl-wO",
      "metadata": {
        "id": "QL-f_sNxl-wO"
      },
      "outputs": [],
      "source": [
        "import numpy as np"
      ]
    },
    {
      "cell_type": "code",
      "execution_count": null,
      "id": "TxfrEtSBkuve",
      "metadata": {
        "id": "TxfrEtSBkuve"
      },
      "outputs": [],
      "source": [
        "max = 105\n",
        "min = 67"
      ]
    },
    {
      "cell_type": "code",
      "execution_count": null,
      "id": "fcSJayj1ky8_",
      "metadata": {
        "id": "fcSJayj1ky8_"
      },
      "outputs": [],
      "source": [
        "xn = [75, 80, 92, 67, 88, 105]"
      ]
    },
    {
      "cell_type": "code",
      "execution_count": null,
      "id": "-MxqUC4nlCc2",
      "metadata": {
        "id": "-MxqUC4nlCc2"
      },
      "outputs": [],
      "source": [
        "for i in xn:\n",
        "  print(i)\n",
        "  print(((i - min) / (max - min)))"
      ]
    },
    {
      "cell_type": "code",
      "execution_count": null,
      "id": "xwtFhrsRl403",
      "metadata": {
        "id": "xwtFhrsRl403"
      },
      "outputs": [],
      "source": [
        "media = np.mean(xn)\n",
        "media"
      ]
    },
    {
      "cell_type": "code",
      "execution_count": null,
      "id": "NHvi0RYzmEgn",
      "metadata": {
        "id": "NHvi0RYzmEgn"
      },
      "outputs": [],
      "source": [
        "xdiff: list = list()\n",
        "for i in xn:\n",
        "  diff = i - media\n",
        "  xdiff.append(diff)\n",
        "xdiff"
      ]
    },
    {
      "cell_type": "code",
      "execution_count": null,
      "id": "tIEYTDAqmTkG",
      "metadata": {
        "id": "tIEYTDAqmTkG"
      },
      "outputs": [],
      "source": [
        "square = np.array(xdiff) ** 2"
      ]
    },
    {
      "cell_type": "code",
      "execution_count": null,
      "id": "kpJHTaGPnube",
      "metadata": {
        "id": "kpJHTaGPnube"
      },
      "outputs": [],
      "source": [
        "square"
      ]
    },
    {
      "cell_type": "code",
      "execution_count": null,
      "id": "Dv4KCwt3mfpc",
      "metadata": {
        "id": "Dv4KCwt3mfpc"
      },
      "outputs": [],
      "source": [
        "soma = np.sum(square)\n",
        "soma"
      ]
    },
    {
      "cell_type": "code",
      "execution_count": null,
      "id": "3E0wucpWmpzk",
      "metadata": {
        "id": "3E0wucpWmpzk"
      },
      "outputs": [],
      "source": [
        "n = square.shape[0]"
      ]
    },
    {
      "cell_type": "code",
      "execution_count": null,
      "id": "Sb8A858zm8ru",
      "metadata": {
        "id": "Sb8A858zm8ru"
      },
      "outputs": [],
      "source": [
        "square.shape"
      ]
    },
    {
      "cell_type": "code",
      "execution_count": null,
      "id": "nCM9mAObmzGc",
      "metadata": {
        "id": "nCM9mAObmzGc"
      },
      "outputs": [],
      "source": [
        "desv_pad = np.sqrt(soma / (n - 1))"
      ]
    },
    {
      "cell_type": "code",
      "execution_count": null,
      "id": "sUWGaKnNmpr8",
      "metadata": {
        "id": "sUWGaKnNmpr8"
      },
      "outputs": [],
      "source": [
        "desv_pad"
      ]
    },
    {
      "cell_type": "code",
      "execution_count": null,
      "id": "ABbp0X8snIJM",
      "metadata": {
        "id": "ABbp0X8snIJM"
      },
      "outputs": [],
      "source": [
        "result: list = list()\n",
        "for i in xn:\n",
        "  standar_scaler = (i - media) / desv_pad\n",
        "  result.append(standar_scaler)"
      ]
    },
    {
      "cell_type": "code",
      "execution_count": null,
      "id": "no6ESbjknc4P",
      "metadata": {
        "id": "no6ESbjknc4P"
      },
      "outputs": [],
      "source": [
        "result"
      ]
    }
  ],
  "metadata": {
    "colab": {
      "provenance": []
    },
    "kernelspec": {
      "display_name": "Python 3",
      "language": "python",
      "name": "python3"
    },
    "language_info": {
      "codemirror_mode": {
        "name": "ipython",
        "version": 3
      },
      "file_extension": ".py",
      "mimetype": "text/x-python",
      "name": "python",
      "nbconvert_exporter": "python",
      "pygments_lexer": "ipython3",
      "version": "3.13.2"
    }
  },
  "nbformat": 4,
  "nbformat_minor": 5
}
